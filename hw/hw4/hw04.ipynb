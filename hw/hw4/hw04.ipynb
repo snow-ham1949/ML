{
  "cells": [
    {
      "cell_type": "markdown",
      "metadata": {
        "id": "C_jdZ5vHJ4A9"
      },
      "source": [
        "# Task description\n",
        "- Classify the speakers of given features.\n",
        "- Main goal: Learn how to use transformer.\n",
        "- Baselines:\n",
        "  - Easy: Run sample code and know how to use transformer.\n",
        "  - Medium: Know how to adjust parameters of transformer.\n",
        "  - Strong: Construct [conformer](https://arxiv.org/abs/2005.08100) which is a variety of transformer. \n",
        "  - Boss: Implement [Self-Attention Pooling](https://arxiv.org/pdf/2008.01077v1.pdf) & [Additive Margin Softmax](https://arxiv.org/pdf/1801.05599.pdf) to further boost the performance.\n",
        "\n",
        "- Other links\n",
        "  - Kaggle: [link](https://www.kaggle.com/t/ac77388c90204a4c8daebeddd40ff916)\n",
        "  - Slide: [link](https://docs.google.com/presentation/d/1HLAj7UUIjZOycDe7DaVLSwJfXVd3bXPOyzSb6Zk3hYU/edit?usp=sharing)\n",
        "  - Data: [link](https://drive.google.com/drive/folders/1vI1kuLB-q1VilIftiwnPOCAeOOFfBZge?usp=sharing)\n",
        "\n",
        "# Download dataset\n",
        "- Data is [here](https://drive.google.com/drive/folders/1vI1kuLB-q1VilIftiwnPOCAeOOFfBZge?usp=sharing)"
      ]
    },
    {
      "cell_type": "code",
      "execution_count": 3,
      "metadata": {
        "id": "LhLNWB-AK2Z5"
      },
      "outputs": [],
      "source": [
        "# !wget https://github.com/MachineLearningHW/ML_HW4_Dataset/releases/latest/download/Dataset.tar.gz.partaa\n",
        "# !wget https://github.com/MachineLearningHW/ML_HW4_Dataset/releases/latest/download/Dataset.tar.gz.partab\n",
        "# !wget https://github.com/MachineLearningHW/ML_HW4_Dataset/releases/latest/download/Dataset.tar.gz.partac\n",
        "# !wget https://github.com/MachineLearningHW/ML_HW4_Dataset/releases/latest/download/Dataset.tar.gz.partad\n",
        "\n",
        "# !cat Dataset.tar.gz.part* > Dataset.tar.gz\n",
        "\n",
        "# # unzip the file\n",
        "# !tar zxvf Dataset.tar.gz"
      ]
    },
    {
      "cell_type": "code",
      "execution_count": 4,
      "metadata": {},
      "outputs": [],
      "source": [
        "data_dir = '/home/csypt/文件/Dataset'"
      ]
    },
    {
      "cell_type": "markdown",
      "metadata": {
        "id": "ENWVAUDVJtVY"
      },
      "source": [
        "## Fix Random Seed"
      ]
    },
    {
      "cell_type": "code",
      "execution_count": 5,
      "metadata": {
        "id": "E6burzCXIyuA"
      },
      "outputs": [],
      "source": [
        "import numpy as np\n",
        "import torch\n",
        "import random\n",
        "\n",
        "def set_seed(seed):\n",
        "    np.random.seed(seed)\n",
        "    random.seed(seed)\n",
        "    torch.manual_seed(seed)\n",
        "    if torch.cuda.is_available():\n",
        "        torch.cuda.manual_seed(seed)\n",
        "        torch.cuda.manual_seed_all(seed)\n",
        "    torch.backends.cudnn.benchmark = False\n",
        "    torch.backends.cudnn.deterministic = True\n",
        "\n",
        "set_seed(459)"
      ]
    },
    {
      "cell_type": "markdown",
      "metadata": {
        "id": "k7dVbxW2LASN"
      },
      "source": [
        "# Data\n",
        "\n",
        "## Dataset\n",
        "- Original dataset is [Voxceleb2](https://www.robots.ox.ac.uk/~vgg/data/voxceleb/vox2.html).\n",
        "- The [license](https://creativecommons.org/licenses/by/4.0/) and [complete version](https://www.robots.ox.ac.uk/~vgg/data/voxceleb/files/license.txt) of Voxceleb2.\n",
        "- We randomly select 600 speakers from Voxceleb2.\n",
        "- Then preprocess the raw waveforms into mel-spectrograms.\n",
        "\n",
        "- Args:\n",
        "  - data_dir: The path to the data directory.\n",
        "  - metadata_path: The path to the metadata.\n",
        "  - segment_len: The length of audio segment for training. \n",
        "- The architecture of data directory \\\\\n",
        "  - data directory \\\\\n",
        "  |---- metadata.json \\\\\n",
        "  |---- testdata.json \\\\\n",
        "  |---- mapping.json \\\\\n",
        "  |---- uttr-{random string}.pt \\\\\n",
        "\n",
        "- The information in metadata\n",
        "  - \"n_mels\": The dimention of mel-spectrogram.\n",
        "  - \"speakers\": A dictionary. \n",
        "    - Key: speaker ids.\n",
        "    - value: \"feature_path\" and \"mel_len\"\n",
        "\n",
        "\n",
        "For efficiency, we segment the mel-spectrograms into segments in the traing step."
      ]
    },
    {
      "cell_type": "code",
      "execution_count": 6,
      "metadata": {
        "id": "KpuGxl4CI2pr"
      },
      "outputs": [],
      "source": [
        "import os\n",
        "import json\n",
        "import torch\n",
        "import random\n",
        "from pathlib import Path\n",
        "from torch.utils.data import Dataset\n",
        "from torch.nn.utils.rnn import pad_sequence\n",
        " \n",
        " \n",
        "class myDataset(Dataset):\n",
        "\tdef __init__(self, data_dir, segment_len=128):\n",
        "\t\tself.data_dir = data_dir\n",
        "\t\tself.segment_len = segment_len\n",
        "\t\n",
        "\t\t# Load the mapping from speaker neme to their corresponding id. \n",
        "\t\tmapping_path = Path(data_dir) / \"mapping.json\"\n",
        "\t\tmapping = json.load(mapping_path.open())\n",
        "\t\tself.speaker2id = mapping[\"speaker2id\"]\n",
        "\t\n",
        "\t\t# Load metadata of training data.\n",
        "\t\tmetadata_path = Path(data_dir) / \"metadata.json\"\n",
        "\t\tmetadata = json.load(open(metadata_path))[\"speakers\"]\n",
        "\t\n",
        "\t\t# Get the total number of speaker.\n",
        "\t\tself.speaker_num = len(metadata.keys())\n",
        "\t\tself.data = []\n",
        "\t\tfor speaker in metadata.keys():\n",
        "\t\t\tfor utterances in metadata[speaker]:\n",
        "\t\t\t\tself.data.append([utterances[\"feature_path\"], self.speaker2id[speaker]])\n",
        " \n",
        "\tdef __len__(self):\n",
        "\t\t\treturn len(self.data)\n",
        " \n",
        "\tdef __getitem__(self, index):\n",
        "\t\tfeat_path, speaker = self.data[index]\n",
        "\t\t# Load preprocessed mel-spectrogram.\n",
        "\t\tmel = torch.load(os.path.join(self.data_dir, feat_path))\n",
        "\n",
        "\t\t# Segmemt mel-spectrogram into \"segment_len\" frames.\n",
        "\t\tif len(mel) > self.segment_len:\n",
        "\t\t\t# Randomly get the starting point of the segment.\n",
        "\t\t\tstart = random.randint(0, len(mel) - self.segment_len)\n",
        "\t\t\t# Get a segment with \"segment_len\" frames.\n",
        "\t\t\tmel = torch.FloatTensor(mel[start:start+self.segment_len])\n",
        "\t\telse:\n",
        "\t\t\tmel = torch.FloatTensor(mel)\n",
        "\t\t# Turn the speaker id into long for computing loss later.\n",
        "\t\tspeaker = torch.FloatTensor([speaker]).long()\n",
        "\t\treturn mel, speaker\n",
        " \n",
        "\tdef get_speaker_number(self):\n",
        "\t\treturn self.speaker_num"
      ]
    },
    {
      "cell_type": "markdown",
      "metadata": {
        "id": "668hverTMlGN"
      },
      "source": [
        "## Dataloader\n",
        "- Split dataset into training dataset(90%) and validation dataset(10%).\n",
        "- Create dataloader to iterate the data."
      ]
    },
    {
      "cell_type": "code",
      "execution_count": 7,
      "metadata": {
        "id": "B7c2gZYoJDRS"
      },
      "outputs": [],
      "source": [
        "import torch\n",
        "from torch.utils.data import DataLoader, random_split\n",
        "from torch.nn.utils.rnn import pad_sequence\n",
        "\n",
        "\n",
        "def collate_batch(batch):\n",
        "\t# Process features within a batch.\n",
        "\t\"\"\"Collate a batch of data.\"\"\"\n",
        "\tmel, speaker = zip(*batch)\n",
        "\t# Because we train the model batch by batch, we need to pad the features in the same batch to make their lengths the same.\n",
        "\tmel = pad_sequence(mel, batch_first=True, padding_value=-20)    # pad log 10^(-20) which is very small value.\n",
        "\t# mel: (batch size, length, 40)\n",
        "\treturn mel, torch.FloatTensor(speaker).long()\n",
        "\n",
        "\n",
        "def get_dataloader(data_dir, batch_size, n_workers):\n",
        "\t\"\"\"Generate dataloader\"\"\"\n",
        "\tdataset = myDataset(data_dir)\n",
        "\tspeaker_num = dataset.get_speaker_number()\n",
        "\t# Split dataset into training dataset and validation dataset\n",
        "\ttrain_ratio = 0.85\n",
        "\ttrainlen = int(train_ratio * len(dataset))\n",
        "\tlengths = [trainlen, len(dataset) - trainlen]\n",
        "\ttrainset, validset = random_split(dataset, lengths)\n",
        "\n",
        "\ttrain_loader = DataLoader(\n",
        "\t\ttrainset,\n",
        "\t\tbatch_size=batch_size,\n",
        "\t\tshuffle=True,\n",
        "\t\tdrop_last=True,\n",
        "\t\tnum_workers=n_workers,\n",
        "\t\tpin_memory=True,\n",
        "\t\tcollate_fn=collate_batch,\n",
        "\t)\n",
        "\tvalid_loader = DataLoader(\n",
        "\t\tvalidset,\n",
        "\t\tbatch_size=batch_size,\n",
        "\t\tnum_workers=n_workers,\n",
        "\t\tdrop_last=True,\n",
        "\t\tpin_memory=True,\n",
        "\t\tcollate_fn=collate_batch,\n",
        "\t)\n",
        "\n",
        "\treturn train_loader, valid_loader, speaker_num"
      ]
    },
    {
      "cell_type": "code",
      "execution_count": 8,
      "metadata": {},
      "outputs": [],
      "source": [
        "#ref : https://gist.github.com/pohanchi/c77f6dbfbcbc21c5215acde4f62e4362\n",
        "\n",
        "import torch.nn as nn\n",
        "\n",
        "class SelfAttentionPooling(nn.Module):\n",
        "    \"\"\"\n",
        "    Implementation of SelfAttentionPooling \n",
        "    Original Paper: Self-Attention Encoding and Pooling for Speaker Recognition\n",
        "    https://arxiv.org/pdf/2008.01077v1.pdf\n",
        "    \"\"\"\n",
        "    def __init__(self, input_dim):\n",
        "        super(SelfAttentionPooling, self).__init__()\n",
        "        self.W = nn.Linear(input_dim, 1)\n",
        "        \n",
        "    def forward(self, batch_rep):\n",
        "        \"\"\"\n",
        "        input:\n",
        "            batch_rep : size (N, T, H), N: batch size, T: sequence length, H: Hidden dimension\n",
        "        \n",
        "        attention_weight:\n",
        "            att_w : size (N, T, 1)\n",
        "        \n",
        "        return:\n",
        "            utter_rep: size (N, H)\n",
        "        \"\"\"\n",
        "        softmax = nn.functional.softmax\n",
        "        att_w = softmax(self.W(batch_rep).squeeze(-1)).unsqueeze(-1)\n",
        "        utter_rep = torch.sum(batch_rep * att_w, dim=1)\n",
        "\n",
        "        return utter_rep"
      ]
    },
    {
      "cell_type": "markdown",
      "metadata": {
        "id": "5FOSZYxrMqhc"
      },
      "source": [
        "# Model\n",
        "- TransformerEncoderLayer:\n",
        "  - Base transformer encoder layer in [Attention Is All You Need](https://arxiv.org/abs/1706.03762)\n",
        "  - Parameters:\n",
        "    - d_model: the number of expected features of the input (required).\n",
        "\n",
        "    - nhead: the number of heads of the multiheadattention models (required).\n",
        "\n",
        "    - dim_feedforward: the dimension of the feedforward network model (default=2048).\n",
        "\n",
        "    - dropout: the dropout value (default=0.1).\n",
        "\n",
        "    - activation: the activation function of intermediate layer, relu or gelu (default=relu).\n",
        "\n",
        "- TransformerEncoder:\n",
        "  - TransformerEncoder is a stack of N transformer encoder layers\n",
        "  - Parameters:\n",
        "    - encoder_layer: an instance of the TransformerEncoderLayer() class (required).\n",
        "\n",
        "    - num_layers: the number of sub-encoder-layers in the encoder (required).\n",
        "\n",
        "    - norm: the layer normalization component (optional)."
      ]
    },
    {
      "cell_type": "code",
      "execution_count": 9,
      "metadata": {
        "id": "iXZ5B0EKJGs8"
      },
      "outputs": [],
      "source": [
        "import torch\n",
        "import torch.nn as nn\n",
        "import torch.nn.functional as F\n",
        "import torchaudio\n",
        "\n",
        "\n",
        "class Classifier(nn.Module):\n",
        "\tdef __init__(self, d_model=80, n_spks=600, dropout=0.1):\n",
        "\t\tsuper().__init__()\n",
        "\t\t# Project the dimension of features from that of input into d_model.\n",
        "\t\tself.prenet = nn.Linear(40, d_model)\n",
        "\t\t# TODO:\n",
        "\t\t#   Change Transformer to Conformer.\n",
        "\t\t#   https://arxiv.org/abs/2005.08100\n",
        "\t\t# use parameters in official website examples\n",
        "\t\tself.encoder = torchaudio.models.Conformer(input_dim=d_model, num_heads=4, ffn_dim=128, num_layers=4, \n",
        "\t\t\t\t\t\t\t\t\t\t\t\t   dropout=0.1, depthwise_conv_kernel_size=21)\n",
        "\t\t# self.encoder_layer = nn.TransformerEncoderLayer(\n",
        "\t\t# \td_model=d_model, dim_feedforward=256, nhead=2\n",
        "\t\t# )\n",
        "\t\t# self.encoder = nn.TransformerEncoder(self.encoder_layer, num_layers=2)\n",
        "\n",
        "\t\t# Project the the dimension of features from d_model into speaker nums.\n",
        "\t\tself.pred_layer = nn.Sequential(\n",
        "\t\t\tnn.Linear(d_model, d_model),\n",
        "\t\t\tnn.ReLU(),\n",
        "\t\t\tnn.Linear(d_model, n_spks),\n",
        "\t\t)\n",
        "\t\tself.pooling = SelfAttentionPooling(d_model)\n",
        "\n",
        "\tdef forward(self, mels):\n",
        "\t\t\"\"\"\n",
        "\t\targs:\n",
        "\t\t\tmels: (batch size, length, 40)\n",
        "\t\treturn:\n",
        "\t\t\tout: (batch size, n_spks)\n",
        "\t\t\"\"\"\n",
        "\t\t# out: (batch size, length, d_model)\n",
        "\t\tout = self.prenet(mels)\n",
        "\t\tlength = torch.full((out.shape[0], ), out.shape[1]).to(\"cuda\")\n",
        "\t\tout = self.encoder(out, length)\n",
        "\t\t# out: (length, batch size, d_model)\n",
        "\t\t# out = out.permute(1, 0, 2)\n",
        "\t\t# The encoder layer expect features in the shape of (length, batch size, d_model).\n",
        "\t\t# out = self.encoder_layer(out)\n",
        "\t\t# out: (batch size, length, d_model)\n",
        "\t\t# out = out.transpose(0, 1)\n",
        "\t\t# mean pooling\n",
        "\t\t# stats = out.mean(dim=1)\n",
        "\n",
        "\t\tstats = self.pooling(out[0])\n",
        "\t\t# out: (batch, n_spks)\n",
        "\t\tout = self.pred_layer(stats)\n",
        "\t\treturn out"
      ]
    },
    {
      "cell_type": "markdown",
      "metadata": {
        "id": "W7yX8JinM5Ly"
      },
      "source": [
        "# Learning rate schedule\n",
        "- For transformer architecture, the design of learning rate schedule is different from that of CNN.\n",
        "- Previous works show that the warmup of learning rate is useful for training models with transformer architectures.\n",
        "- The warmup schedule\n",
        "  - Set learning rate to 0 in the beginning.\n",
        "  - The learning rate increases linearly from 0 to initial learning rate during warmup period."
      ]
    },
    {
      "cell_type": "code",
      "execution_count": 10,
      "metadata": {
        "id": "ykt0N1nVJJi2"
      },
      "outputs": [],
      "source": [
        "import math\n",
        "\n",
        "import torch\n",
        "from torch.optim import Optimizer\n",
        "from torch.optim.lr_scheduler import LambdaLR\n",
        "\n",
        "\n",
        "def get_cosine_schedule_with_warmup(\n",
        "\toptimizer: Optimizer,\n",
        "\tnum_warmup_steps: int,\n",
        "\tnum_training_steps: int,\n",
        "\tnum_cycles: float = 0.5,\n",
        "\tlast_epoch: int = -1,\n",
        "):\n",
        "\t\"\"\"\n",
        "\tCreate a schedule with a learning rate that decreases following the values of the cosine function between the\n",
        "\tinitial lr set in the optimizer to 0, after a warmup period during which it increases linearly between 0 and the\n",
        "\tinitial lr set in the optimizer.\n",
        "\n",
        "\tArgs:\n",
        "\t\toptimizer (:class:`~torch.optim.Optimizer`):\n",
        "\t\tThe optimizer for which to schedule the learning rate.\n",
        "\t\tnum_warmup_steps (:obj:`int`):\n",
        "\t\tThe number of steps for the warmup phase.\n",
        "\t\tnum_training_steps (:obj:`int`):\n",
        "\t\tThe total number of training steps.\n",
        "\t\tnum_cycles (:obj:`float`, `optional`, defaults to 0.5):\n",
        "\t\tThe number of waves in the cosine schedule (the defaults is to just decrease from the max value to 0\n",
        "\t\tfollowing a half-cosine).\n",
        "\t\tlast_epoch (:obj:`int`, `optional`, defaults to -1):\n",
        "\t\tThe index of the last epoch when resuming training.\n",
        "\n",
        "\tReturn:\n",
        "\t\t:obj:`torch.optim.lr_scheduler.LambdaLR` with the appropriate schedule.\n",
        "\t\"\"\"\n",
        "\tdef lr_lambda(current_step):\n",
        "\t\t# Warmup\n",
        "\t\tif current_step < num_warmup_steps:\n",
        "\t\t\treturn float(current_step) / float(max(1, num_warmup_steps))\n",
        "\t\t# decadence\n",
        "\t\tprogress = float(current_step - num_warmup_steps) / float(\n",
        "\t\t\tmax(1, num_training_steps - num_warmup_steps)\n",
        "\t\t)\n",
        "\t\treturn max(\n",
        "\t\t\t0.0, 0.5 * (1.0 + math.cos(math.pi * float(num_cycles) * 2.0 * progress))\n",
        "\t\t)\n",
        "\n",
        "\treturn LambdaLR(optimizer, lr_lambda, last_epoch)"
      ]
    },
    {
      "cell_type": "markdown",
      "metadata": {
        "id": "-LN2XkteM_uH"
      },
      "source": [
        "# Model Function\n",
        "- Model forward function."
      ]
    },
    {
      "cell_type": "code",
      "execution_count": 11,
      "metadata": {
        "id": "N-rr8529JMz0"
      },
      "outputs": [],
      "source": [
        "import torch\n",
        "\n",
        "\n",
        "def model_fn(batch, model, criterion, device):\n",
        "\t\"\"\"Forward a batch through the model.\"\"\"\n",
        "\n",
        "\tmels, labels = batch\n",
        "\tmels = mels.to(device)\n",
        "\tlabels = labels.to(device)\n",
        "\n",
        "\touts = model(mels)\n",
        "\n",
        "\tloss = criterion(outs, labels)\n",
        "\n",
        "\t# Get the speaker id with highest probability.\n",
        "\tpreds = outs.argmax(1)\n",
        "\t# Compute accuracy.\n",
        "\taccuracy = torch.mean((preds == labels).float())\n",
        "\n",
        "\treturn loss, accuracy"
      ]
    },
    {
      "cell_type": "markdown",
      "metadata": {
        "id": "cwM_xyOtNCI2"
      },
      "source": [
        "# Validate\n",
        "- Calculate accuracy of the validation set."
      ]
    },
    {
      "cell_type": "code",
      "execution_count": 12,
      "metadata": {
        "id": "YAiv6kpdJRTJ"
      },
      "outputs": [],
      "source": [
        "from tqdm import tqdm\n",
        "import torch\n",
        "\n",
        "\n",
        "def valid(dataloader, model, criterion, device): \n",
        "\t\"\"\"Validate on validation set.\"\"\"\n",
        "\n",
        "\tmodel.eval()\n",
        "\trunning_loss = 0.0\n",
        "\trunning_accuracy = 0.0\n",
        "\tpbar = tqdm(total=len(dataloader.dataset), ncols=0, desc=\"Valid\", unit=\" uttr\")\n",
        "\n",
        "\tfor i, batch in enumerate(dataloader):\n",
        "\t\twith torch.no_grad():\n",
        "\t\t\tloss, accuracy = model_fn(batch, model, criterion, device)\n",
        "\t\t\trunning_loss += loss.item()\n",
        "\t\t\trunning_accuracy += accuracy.item()\n",
        "\n",
        "\t\tpbar.update(dataloader.batch_size)\n",
        "\t\tpbar.set_postfix(\n",
        "\t\t\tloss=f\"{running_loss / (i+1):.2f}\",\n",
        "\t\t\taccuracy=f\"{running_accuracy / (i+1):.2f}\",\n",
        "\t\t)\n",
        "\n",
        "\tpbar.close()\n",
        "\tmodel.train()\n",
        "\n",
        "\treturn running_accuracy / len(dataloader)"
      ]
    },
    {
      "cell_type": "markdown",
      "metadata": {
        "id": "g6ne9G-eNEdG"
      },
      "source": [
        "# Main function"
      ]
    },
    {
      "cell_type": "code",
      "execution_count": 27,
      "metadata": {
        "id": "Usv9s-CuJSG7"
      },
      "outputs": [
        {
          "name": "stderr",
          "output_type": "stream",
          "text": [
            "Train:   0% 0/2000 [03:05<?, ? step/s]"
          ]
        },
        {
          "name": "stdout",
          "output_type": "stream",
          "text": [
            "[Info]: Use cuda now!\n"
          ]
        },
        {
          "name": "stderr",
          "output_type": "stream",
          "text": [
            "\n",
            "Train:  17% 338/2000 [03:51<19:00,  1.46 step/s, accuracy=0.03, loss=6.28, step=338]\n"
          ]
        },
        {
          "name": "stdout",
          "output_type": "stream",
          "text": [
            "[Info]: Finish loading data!\n",
            "[Info]: Finish creating model!\n"
          ]
        },
        {
          "name": "stderr",
          "output_type": "stream",
          "text": [
            "Train:   0% 0/2000 [00:00<?, ? step/s]/tmp/ipykernel_206632/1694375095.py:27: UserWarning: Implicit dimension choice for softmax has been deprecated. Change the call to include dim=X as an argument.\n",
            "  att_w = softmax(self.W(batch_rep).squeeze(-1)).unsqueeze(-1)\n",
            "Train: 100% 2000/2000 [01:23<00:00, 23.94 step/s, accuracy=0.22, loss=3.83, step=2000]\n",
            "Valid: 100% 8480/8500 [00:04<00:00, 2098.74 uttr/s, accuracy=0.14, loss=4.07]\n",
            "Train: 100% 2000/2000 [01:24<00:00, 23.78 step/s, accuracy=0.34, loss=3.36, step=4000]\n",
            "Valid: 100% 8480/8500 [00:04<00:00, 2015.86 uttr/s, accuracy=0.28, loss=3.30]\n",
            "Train: 100% 2000/2000 [01:24<00:00, 23.76 step/s, accuracy=0.41, loss=2.87, step=6000]\n",
            "Valid: 100% 8480/8500 [00:04<00:00, 2009.01 uttr/s, accuracy=0.40, loss=2.67]\n",
            "Train: 100% 2000/2000 [00:57<00:00, 34.71 step/s, accuracy=0.47, loss=2.23, step=8000]\n",
            "Valid: 100% 8480/8500 [00:01<00:00, 5405.82 uttr/s, accuracy=0.45, loss=2.41]\n",
            "Train: 100% 2000/2000 [00:33<00:00, 59.09 step/s, accuracy=0.56, loss=1.49, step=1e+4]\n",
            "Valid: 100% 8480/8500 [00:01<00:00, 5461.81 uttr/s, accuracy=0.49, loss=2.19]\n",
            "Train:   0% 0/2000 [00:00<?, ? step/s]\n",
            "\n",
            "                                                                                      \n",
            "Train:   0% 10/2000 [00:00<00:35, 55.32 step/s, accuracy=0.47, loss=1.95, step=1e+4]"
          ]
        },
        {
          "name": "stdout",
          "output_type": "stream",
          "text": [
            "Step 10000, best model saved. (accuracy=0.4876)\n"
          ]
        },
        {
          "name": "stderr",
          "output_type": "stream",
          "text": [
            "Train: 100% 2000/2000 [00:33<00:00, 59.18 step/s, accuracy=0.56, loss=1.79, step=12000]\n",
            "Valid: 100% 8480/8500 [00:01<00:00, 5570.57 uttr/s, accuracy=0.51, loss=2.07]\n",
            "Train: 100% 2000/2000 [00:34<00:00, 58.71 step/s, accuracy=0.53, loss=1.69, step=14000]\n",
            "Valid: 100% 8480/8500 [00:01<00:00, 5562.49 uttr/s, accuracy=0.56, loss=1.87]\n",
            "Train: 100% 2000/2000 [00:33<00:00, 59.16 step/s, accuracy=0.69, loss=1.31, step=16000]\n",
            "Valid: 100% 8480/8500 [00:01<00:00, 5632.01 uttr/s, accuracy=0.57, loss=1.83]\n",
            "Train: 100% 2000/2000 [00:33<00:00, 59.33 step/s, accuracy=0.72, loss=1.14, step=18000]\n",
            "Valid: 100% 8480/8500 [00:01<00:00, 5602.70 uttr/s, accuracy=0.60, loss=1.69]\n",
            "Train: 100% 2000/2000 [00:33<00:00, 58.85 step/s, accuracy=0.72, loss=1.05, step=2e+4] \n",
            "Valid: 100% 8480/8500 [00:01<00:00, 5535.45 uttr/s, accuracy=0.62, loss=1.60]\n",
            "Train:   0% 0/2000 [00:00<?, ? step/s]\n",
            "\n",
            "                                                                                      \n",
            "Train:   1% 11/2000 [00:00<00:36, 54.69 step/s, accuracy=0.75, loss=1.00, step=2e+4]"
          ]
        },
        {
          "name": "stdout",
          "output_type": "stream",
          "text": [
            "Step 20000, best model saved. (accuracy=0.6238)\n"
          ]
        },
        {
          "name": "stderr",
          "output_type": "stream",
          "text": [
            "Train: 100% 2000/2000 [00:33<00:00, 59.23 step/s, accuracy=0.59, loss=1.02, step=22000]\n",
            "Valid: 100% 8480/8500 [00:01<00:00, 5598.93 uttr/s, accuracy=0.64, loss=1.54]\n",
            "Train: 100% 2000/2000 [00:33<00:00, 59.31 step/s, accuracy=0.72, loss=1.03, step=24000]\n",
            "Valid: 100% 8480/8500 [00:01<00:00, 5463.58 uttr/s, accuracy=0.65, loss=1.49]\n",
            "Train: 100% 2000/2000 [00:34<00:00, 58.80 step/s, accuracy=0.72, loss=1.03, step=26000]\n",
            "Valid: 100% 8480/8500 [00:01<00:00, 5687.33 uttr/s, accuracy=0.65, loss=1.47]\n",
            "Train: 100% 2000/2000 [00:33<00:00, 59.18 step/s, accuracy=0.59, loss=1.46, step=28000]\n",
            "Valid: 100% 8480/8500 [00:01<00:00, 5657.80 uttr/s, accuracy=0.67, loss=1.41]\n",
            "Train: 100% 2000/2000 [00:33<00:00, 59.24 step/s, accuracy=0.66, loss=1.32, step=3e+4] \n",
            "Valid: 100% 8480/8500 [00:01<00:00, 5591.89 uttr/s, accuracy=0.68, loss=1.35]\n",
            "Train:   0% 0/2000 [00:00<?, ? step/s]\n",
            "\n",
            "                                                                                      \n",
            "Train:   1% 11/2000 [00:00<00:37, 53.75 step/s, accuracy=0.75, loss=1.36, step=3e+4]"
          ]
        },
        {
          "name": "stdout",
          "output_type": "stream",
          "text": [
            "Step 30000, best model saved. (accuracy=0.6821)\n"
          ]
        },
        {
          "name": "stderr",
          "output_type": "stream",
          "text": [
            "Train: 100% 2000/2000 [00:33<00:00, 58.88 step/s, accuracy=0.59, loss=1.19, step=32000]\n",
            "Valid: 100% 8480/8500 [00:01<00:00, 5507.06 uttr/s, accuracy=0.69, loss=1.34]\n",
            "Train: 100% 2000/2000 [00:33<00:00, 59.26 step/s, accuracy=0.81, loss=0.65, step=34000]\n",
            "Valid: 100% 8480/8500 [00:01<00:00, 5559.11 uttr/s, accuracy=0.71, loss=1.25]\n",
            "Train: 100% 2000/2000 [00:33<00:00, 59.27 step/s, accuracy=0.75, loss=1.01, step=36000]\n",
            "Valid: 100% 8480/8500 [00:01<00:00, 5565.43 uttr/s, accuracy=0.71, loss=1.24]\n",
            "Train: 100% 2000/2000 [00:33<00:00, 58.86 step/s, accuracy=0.72, loss=1.16, step=38000]\n",
            "Valid: 100% 8480/8500 [00:01<00:00, 5571.82 uttr/s, accuracy=0.71, loss=1.21]\n",
            "Train: 100% 2000/2000 [00:33<00:00, 59.23 step/s, accuracy=0.91, loss=0.38, step=4e+4] \n",
            "Valid: 100% 8480/8500 [00:01<00:00, 5564.81 uttr/s, accuracy=0.69, loss=1.33]\n",
            "Train:   0% 0/2000 [00:00<?, ? step/s]\n",
            "\n",
            "                                                                                      \n",
            "Train:   1% 11/2000 [00:00<00:36, 54.30 step/s, accuracy=0.69, loss=1.39, step=4e+4]"
          ]
        },
        {
          "name": "stdout",
          "output_type": "stream",
          "text": [
            "Step 40000, best model saved. (accuracy=0.7125)\n"
          ]
        },
        {
          "name": "stderr",
          "output_type": "stream",
          "text": [
            "Train: 100% 2000/2000 [00:33<00:00, 59.22 step/s, accuracy=0.53, loss=1.38, step=42000]\n",
            "Valid: 100% 8480/8500 [00:01<00:00, 5532.34 uttr/s, accuracy=0.71, loss=1.24]\n",
            "Train: 100% 2000/2000 [00:33<00:00, 58.91 step/s, accuracy=0.75, loss=1.03, step=44000]\n",
            "Valid: 100% 8480/8500 [00:01<00:00, 5603.42 uttr/s, accuracy=0.72, loss=1.18]\n",
            "Train: 100% 2000/2000 [00:33<00:00, 59.24 step/s, accuracy=0.75, loss=0.77, step=46000]\n",
            "Valid: 100% 8480/8500 [00:01<00:00, 5525.33 uttr/s, accuracy=0.71, loss=1.24]\n",
            "Train: 100% 2000/2000 [00:33<00:00, 59.15 step/s, accuracy=0.66, loss=1.09, step=48000]\n",
            "Valid: 100% 8480/8500 [00:01<00:00, 5589.59 uttr/s, accuracy=0.72, loss=1.17]\n",
            "Train: 100% 2000/2000 [00:33<00:00, 58.88 step/s, accuracy=0.72, loss=0.93, step=5e+4] \n",
            "Valid: 100% 8480/8500 [00:01<00:00, 5605.36 uttr/s, accuracy=0.74, loss=1.13]\n",
            "Train:   0% 0/2000 [00:00<?, ? step/s]\n",
            "\n",
            "                                                                                      \n",
            "Train:   1% 11/2000 [00:00<00:35, 55.97 step/s, accuracy=0.84, loss=0.63, step=5e+4]"
          ]
        },
        {
          "name": "stdout",
          "output_type": "stream",
          "text": [
            "Step 50000, best model saved. (accuracy=0.7357)\n"
          ]
        },
        {
          "name": "stderr",
          "output_type": "stream",
          "text": [
            "Train: 100% 2000/2000 [00:33<00:00, 59.14 step/s, accuracy=0.84, loss=0.53, step=52000]\n",
            "Valid: 100% 8480/8500 [00:01<00:00, 5652.40 uttr/s, accuracy=0.73, loss=1.17]\n",
            "Train: 100% 2000/2000 [00:33<00:00, 59.20 step/s, accuracy=0.75, loss=0.96, step=54000]\n",
            "Valid: 100% 8480/8500 [00:01<00:00, 4972.13 uttr/s, accuracy=0.74, loss=1.13]\n",
            "Train: 100% 2000/2000 [00:34<00:00, 58.77 step/s, accuracy=0.78, loss=0.97, step=56000]\n",
            "Valid: 100% 8480/8500 [00:01<00:00, 5503.52 uttr/s, accuracy=0.73, loss=1.13]\n",
            "Train: 100% 2000/2000 [00:33<00:00, 59.35 step/s, accuracy=0.84, loss=0.76, step=58000]\n",
            "Valid: 100% 8480/8500 [00:01<00:00, 5413.92 uttr/s, accuracy=0.75, loss=1.08]\n",
            "Train: 100% 2000/2000 [00:33<00:00, 59.19 step/s, accuracy=0.78, loss=0.69, step=6e+4] \n",
            "Valid: 100% 8480/8500 [00:01<00:00, 5610.66 uttr/s, accuracy=0.75, loss=1.05]\n",
            "Train:   0% 0/2000 [00:00<?, ? step/s]\n",
            "\n",
            "                                                                                      \n",
            "Train:   1% 11/2000 [00:00<00:36, 54.34 step/s, accuracy=0.81, loss=0.60, step=6e+4]"
          ]
        },
        {
          "name": "stdout",
          "output_type": "stream",
          "text": [
            "Step 60000, best model saved. (accuracy=0.7504)\n"
          ]
        },
        {
          "name": "stderr",
          "output_type": "stream",
          "text": [
            "Train: 100% 2000/2000 [00:34<00:00, 58.74 step/s, accuracy=0.81, loss=0.89, step=62000]\n",
            "Valid: 100% 8480/8500 [00:01<00:00, 5486.65 uttr/s, accuracy=0.75, loss=1.07]\n",
            "Train: 100% 2000/2000 [00:33<00:00, 59.31 step/s, accuracy=0.69, loss=0.98, step=64000]\n",
            "Valid: 100% 8480/8500 [00:01<00:00, 5551.22 uttr/s, accuracy=0.75, loss=1.05]\n",
            "Train: 100% 2000/2000 [00:33<00:00, 59.22 step/s, accuracy=0.91, loss=0.33, step=66000]\n",
            "Valid: 100% 8480/8500 [00:01<00:00, 5606.53 uttr/s, accuracy=0.74, loss=1.11]\n",
            "Train: 100% 2000/2000 [00:33<00:00, 58.90 step/s, accuracy=0.84, loss=0.74, step=68000]\n",
            "Valid: 100% 8480/8500 [00:01<00:00, 5553.40 uttr/s, accuracy=0.75, loss=1.05]\n",
            "Train: 100% 2000/2000 [00:33<00:00, 59.07 step/s, accuracy=0.84, loss=0.63, step=7e+4] \n",
            "Valid: 100% 8480/8500 [00:01<00:00, 5561.68 uttr/s, accuracy=0.76, loss=1.05]\n",
            "Train:   0% 0/2000 [00:00<?, ? step/s]\n",
            "\n",
            "                                                                                      \n",
            "Train:   1% 11/2000 [00:00<00:35, 55.90 step/s, accuracy=0.88, loss=0.52, step=7e+4]"
          ]
        },
        {
          "name": "stdout",
          "output_type": "stream",
          "text": [
            "Step 70000, best model saved. (accuracy=0.7592)\n"
          ]
        },
        {
          "name": "stderr",
          "output_type": "stream",
          "text": [
            "Train: 100% 2000/2000 [00:33<00:00, 59.17 step/s, accuracy=0.91, loss=0.37, step=72000]\n",
            "Valid: 100% 8480/8500 [00:01<00:00, 5614.93 uttr/s, accuracy=0.76, loss=1.04]\n",
            "Train: 100% 2000/2000 [00:35<00:00, 56.95 step/s, accuracy=0.81, loss=0.50, step=74000]\n",
            "Valid: 100% 8480/8500 [00:01<00:00, 4994.57 uttr/s, accuracy=0.77, loss=1.02]\n",
            "Train: 100% 2000/2000 [00:34<00:00, 57.66 step/s, accuracy=0.84, loss=0.37, step=76000]\n",
            "Valid: 100% 8480/8500 [00:01<00:00, 5591.83 uttr/s, accuracy=0.77, loss=1.00]\n",
            "Train: 100% 2000/2000 [00:34<00:00, 58.08 step/s, accuracy=0.94, loss=0.34, step=78000]\n",
            "Valid: 100% 8480/8500 [00:01<00:00, 5603.71 uttr/s, accuracy=0.77, loss=1.01]\n",
            "Train: 100% 2000/2000 [00:34<00:00, 57.66 step/s, accuracy=0.84, loss=0.52, step=8e+4] \n",
            "Valid: 100% 8480/8500 [00:01<00:00, 5199.70 uttr/s, accuracy=0.76, loss=1.02]\n",
            "Train:   0% 0/2000 [00:00<?, ? step/s]\n",
            "\n",
            "                                                                                      \n",
            "Train:   1% 11/2000 [00:00<00:36, 55.02 step/s, accuracy=0.88, loss=0.49, step=8e+4]"
          ]
        },
        {
          "name": "stdout",
          "output_type": "stream",
          "text": [
            "Step 80000, best model saved. (accuracy=0.7671)\n"
          ]
        },
        {
          "name": "stderr",
          "output_type": "stream",
          "text": [
            "Train: 100% 2000/2000 [00:38<00:00, 51.69 step/s, accuracy=0.84, loss=0.56, step=82000]\n",
            "Valid: 100% 8480/8500 [00:01<00:00, 5764.07 uttr/s, accuracy=0.77, loss=1.03]\n",
            "Train: 100% 2000/2000 [00:34<00:00, 58.07 step/s, accuracy=0.97, loss=0.17, step=84000]\n",
            "Valid: 100% 8480/8500 [00:01<00:00, 5675.34 uttr/s, accuracy=0.76, loss=1.02]\n",
            "Train: 100% 2000/2000 [00:33<00:00, 58.93 step/s, accuracy=0.84, loss=0.78, step=86000]\n",
            "Valid: 100% 8480/8500 [00:01<00:00, 5590.78 uttr/s, accuracy=0.77, loss=0.98]\n",
            "Train: 100% 2000/2000 [00:33<00:00, 58.98 step/s, accuracy=0.88, loss=0.41, step=88000]\n",
            "Valid: 100% 8480/8500 [00:01<00:00, 5737.95 uttr/s, accuracy=0.78, loss=0.96]\n",
            "Train: 100% 2000/2000 [00:33<00:00, 59.25 step/s, accuracy=0.75, loss=0.65, step=9e+4] \n",
            "Valid: 100% 8480/8500 [00:01<00:00, 5621.39 uttr/s, accuracy=0.77, loss=0.99]\n",
            "Train:   0% 0/2000 [00:00<?, ? step/s]\n",
            "\n",
            "                                                                                      \n",
            "Train:   1% 12/2000 [00:00<00:35, 55.30 step/s, accuracy=0.81, loss=0.43, step=9e+4]"
          ]
        },
        {
          "name": "stdout",
          "output_type": "stream",
          "text": [
            "Step 90000, best model saved. (accuracy=0.7824)\n"
          ]
        },
        {
          "name": "stderr",
          "output_type": "stream",
          "text": [
            "Train: 100% 2000/2000 [00:33<00:00, 58.89 step/s, accuracy=0.84, loss=0.48, step=92000]\n",
            "Valid: 100% 8480/8500 [00:01<00:00, 5720.55 uttr/s, accuracy=0.78, loss=0.99]\n",
            "Train: 100% 2000/2000 [00:33<00:00, 58.91 step/s, accuracy=0.91, loss=0.32, step=94000]\n",
            "Valid: 100% 8480/8500 [00:01<00:00, 5649.16 uttr/s, accuracy=0.77, loss=0.98]\n",
            "Train: 100% 2000/2000 [00:33<00:00, 59.17 step/s, accuracy=0.84, loss=0.76, step=96000]\n",
            "Valid: 100% 8480/8500 [00:01<00:00, 5746.42 uttr/s, accuracy=0.77, loss=0.97]\n",
            "Train: 100% 2000/2000 [00:34<00:00, 57.70 step/s, accuracy=0.94, loss=0.21, step=98000]\n",
            "Valid: 100% 8480/8500 [00:01<00:00, 5506.17 uttr/s, accuracy=0.78, loss=0.99]\n",
            "Train: 100% 2000/2000 [00:34<00:00, 57.29 step/s, accuracy=0.81, loss=0.77, step=1e+5] \n",
            "Valid: 100% 8480/8500 [00:01<00:00, 5499.77 uttr/s, accuracy=0.78, loss=0.94]\n",
            "Train:   0% 0/2000 [00:00<?, ? step/s]\n",
            "\n",
            "                                                                                      \n",
            "Train:   1% 11/2000 [00:00<00:36, 53.76 step/s, accuracy=0.81, loss=0.53, step=1e+5]"
          ]
        },
        {
          "name": "stdout",
          "output_type": "stream",
          "text": [
            "Step 100000, best model saved. (accuracy=0.7824)\n"
          ]
        },
        {
          "name": "stderr",
          "output_type": "stream",
          "text": [
            "Train: 100% 2000/2000 [00:34<00:00, 57.83 step/s, accuracy=0.91, loss=0.44, step=102000]\n",
            "Valid: 100% 8480/8500 [00:01<00:00, 5448.47 uttr/s, accuracy=0.78, loss=0.95]\n",
            "Train: 100% 2000/2000 [00:35<00:00, 57.07 step/s, accuracy=0.81, loss=0.67, step=104000]\n",
            "Valid: 100% 8480/8500 [00:01<00:00, 5447.43 uttr/s, accuracy=0.78, loss=0.94]\n",
            "Train: 100% 2000/2000 [00:33<00:00, 59.40 step/s, accuracy=0.78, loss=0.67, step=106000]\n",
            "Valid: 100% 8480/8500 [00:01<00:00, 5727.71 uttr/s, accuracy=0.78, loss=0.96]\n",
            "Train: 100% 2000/2000 [00:33<00:00, 59.85 step/s, accuracy=0.91, loss=0.35, step=108000]\n",
            "Valid: 100% 8480/8500 [00:01<00:00, 5819.67 uttr/s, accuracy=0.79, loss=0.95]\n",
            "Train: 100% 2000/2000 [00:33<00:00, 59.98 step/s, accuracy=0.97, loss=0.15, step=110000]\n",
            "Valid: 100% 8480/8500 [00:01<00:00, 5783.56 uttr/s, accuracy=0.79, loss=0.93]\n",
            "Train:   0% 0/2000 [00:00<?, ? step/s]\n",
            "\n",
            "                                                                                      \n",
            "Train:   1% 12/2000 [00:00<00:35, 56.55 step/s, accuracy=0.88, loss=0.57, step=110012]"
          ]
        },
        {
          "name": "stdout",
          "output_type": "stream",
          "text": [
            "Step 110000, best model saved. (accuracy=0.7899)\n"
          ]
        },
        {
          "name": "stderr",
          "output_type": "stream",
          "text": [
            "Train: 100% 2000/2000 [00:34<00:00, 58.79 step/s, accuracy=0.72, loss=0.81, step=112000]\n",
            "Valid: 100% 8480/8500 [00:01<00:00, 5143.03 uttr/s, accuracy=0.78, loss=0.96]\n",
            "Train: 100% 2000/2000 [00:34<00:00, 57.41 step/s, accuracy=0.78, loss=0.74, step=114000]\n",
            "Valid: 100% 8480/8500 [00:01<00:00, 5257.91 uttr/s, accuracy=0.78, loss=0.98]\n",
            "Train: 100% 2000/2000 [00:35<00:00, 56.99 step/s, accuracy=0.84, loss=0.52, step=116000]\n",
            "Valid: 100% 8480/8500 [00:01<00:00, 5274.98 uttr/s, accuracy=0.77, loss=1.00]\n",
            "Train: 100% 2000/2000 [00:35<00:00, 56.97 step/s, accuracy=0.84, loss=0.37, step=118000]\n",
            "Valid: 100% 8480/8500 [00:01<00:00, 5615.22 uttr/s, accuracy=0.78, loss=0.94]\n",
            "Train: 100% 2000/2000 [00:34<00:00, 58.29 step/s, accuracy=0.84, loss=0.45, step=120000]\n",
            "Valid: 100% 8480/8500 [00:01<00:00, 5604.24 uttr/s, accuracy=0.80, loss=0.90]\n",
            "Train:   0% 0/2000 [00:00<?, ? step/s]\n",
            "\n",
            "                                                                                      \n",
            "Train:   1% 11/2000 [00:00<00:36, 54.57 step/s, accuracy=0.81, loss=0.47, step=120011]"
          ]
        },
        {
          "name": "stdout",
          "output_type": "stream",
          "text": [
            "Step 120000, best model saved. (accuracy=0.7985)\n"
          ]
        },
        {
          "name": "stderr",
          "output_type": "stream",
          "text": [
            "Train: 100% 2000/2000 [00:34<00:00, 57.90 step/s, accuracy=0.88, loss=0.51, step=122000]\n",
            "Valid: 100% 8480/8500 [00:01<00:00, 5535.28 uttr/s, accuracy=0.78, loss=0.95]\n",
            "Train: 100% 2000/2000 [00:34<00:00, 58.31 step/s, accuracy=0.88, loss=0.50, step=124000]\n",
            "Valid: 100% 8480/8500 [00:01<00:00, 5581.40 uttr/s, accuracy=0.79, loss=0.91]\n",
            "Train: 100% 2000/2000 [00:34<00:00, 58.43 step/s, accuracy=0.78, loss=0.65, step=126000]\n",
            "Valid: 100% 8480/8500 [00:01<00:00, 5644.44 uttr/s, accuracy=0.78, loss=0.97]\n",
            "Train: 100% 2000/2000 [00:34<00:00, 58.12 step/s, accuracy=0.88, loss=0.57, step=128000]\n",
            "Valid: 100% 8480/8500 [00:01<00:00, 5647.93 uttr/s, accuracy=0.79, loss=0.91]\n",
            "Train: 100% 2000/2000 [00:34<00:00, 58.35 step/s, accuracy=0.88, loss=0.38, step=130000]\n",
            "Valid: 100% 8480/8500 [00:01<00:00, 5533.90 uttr/s, accuracy=0.79, loss=0.95]\n",
            "Train:   0% 0/2000 [00:00<?, ? step/s]\n",
            "\n",
            "                                                                                      \n",
            "Train:   1% 11/2000 [00:00<00:35, 55.53 step/s, accuracy=0.81, loss=0.72, step=130011]"
          ]
        },
        {
          "name": "stdout",
          "output_type": "stream",
          "text": [
            "Step 130000, best model saved. (accuracy=0.7985)\n"
          ]
        },
        {
          "name": "stderr",
          "output_type": "stream",
          "text": [
            "Train: 100% 2000/2000 [00:34<00:00, 58.41 step/s, accuracy=0.88, loss=0.36, step=132000]\n",
            "Valid: 100% 8480/8500 [00:01<00:00, 5583.97 uttr/s, accuracy=0.79, loss=0.93]\n",
            "Train: 100% 2000/2000 [00:34<00:00, 58.11 step/s, accuracy=0.94, loss=0.44, step=134000]\n",
            "Valid: 100% 8480/8500 [00:01<00:00, 5603.32 uttr/s, accuracy=0.79, loss=0.93]\n",
            "Train: 100% 2000/2000 [00:34<00:00, 58.54 step/s, accuracy=0.72, loss=1.00, step=136000]\n",
            "Valid: 100% 8480/8500 [00:01<00:00, 5604.74 uttr/s, accuracy=0.80, loss=0.87]\n",
            "Train: 100% 2000/2000 [00:34<00:00, 58.56 step/s, accuracy=0.88, loss=0.35, step=138000]\n",
            "Valid: 100% 8480/8500 [00:01<00:00, 5650.09 uttr/s, accuracy=0.79, loss=0.93]\n",
            "Train: 100% 2000/2000 [00:34<00:00, 58.30 step/s, accuracy=0.94, loss=0.26, step=140000]\n",
            "Valid: 100% 8480/8500 [00:01<00:00, 5635.00 uttr/s, accuracy=0.79, loss=0.89]\n",
            "Train:   0% 0/2000 [00:00<?, ? step/s]\n",
            "\n",
            "                                                                                      \n",
            "Train:   1% 11/2000 [00:00<00:36, 54.98 step/s, accuracy=0.88, loss=0.53, step=140011]"
          ]
        },
        {
          "name": "stdout",
          "output_type": "stream",
          "text": [
            "Step 140000, best model saved. (accuracy=0.8025)\n"
          ]
        },
        {
          "name": "stderr",
          "output_type": "stream",
          "text": [
            "Train: 100% 2000/2000 [00:34<00:00, 58.55 step/s, accuracy=0.94, loss=0.21, step=142000]\n",
            "Valid: 100% 8480/8500 [00:01<00:00, 5618.51 uttr/s, accuracy=0.79, loss=0.87]\n",
            "Train: 100% 2000/2000 [00:34<00:00, 58.24 step/s, accuracy=0.84, loss=0.37, step=144000]\n",
            "Valid: 100% 8480/8500 [00:01<00:00, 5575.59 uttr/s, accuracy=0.80, loss=0.88]\n",
            "Train: 100% 2000/2000 [00:34<00:00, 57.88 step/s, accuracy=0.97, loss=0.24, step=146000]\n",
            "Valid: 100% 8480/8500 [00:01<00:00, 5566.68 uttr/s, accuracy=0.80, loss=0.87]\n",
            "Train: 100% 2000/2000 [00:33<00:00, 58.95 step/s, accuracy=0.91, loss=0.41, step=148000]\n",
            "Valid: 100% 8480/8500 [00:01<00:00, 5662.45 uttr/s, accuracy=0.79, loss=0.92]\n",
            "Train: 100% 2000/2000 [00:33<00:00, 59.29 step/s, accuracy=0.72, loss=0.74, step=150000]\n",
            "Valid: 100% 8480/8500 [00:01<00:00, 5755.12 uttr/s, accuracy=0.80, loss=0.88]\n",
            "Train:   0% 0/2000 [00:00<?, ? step/s]\n",
            "\n",
            "                                                                                      \n",
            "Train:   1% 11/2000 [00:00<00:36, 54.65 step/s, accuracy=0.97, loss=0.12, step=150011]"
          ]
        },
        {
          "name": "stdout",
          "output_type": "stream",
          "text": [
            "Step 150000, best model saved. (accuracy=0.8025)\n"
          ]
        },
        {
          "name": "stderr",
          "output_type": "stream",
          "text": [
            "Train: 100% 2000/2000 [00:33<00:00, 59.27 step/s, accuracy=0.78, loss=0.71, step=152000]\n",
            "Valid: 100% 8480/8500 [00:01<00:00, 5655.19 uttr/s, accuracy=0.79, loss=0.93]\n",
            "Train: 100% 2000/2000 [00:33<00:00, 58.87 step/s, accuracy=0.78, loss=0.70, step=154000]\n",
            "Valid: 100% 8480/8500 [00:01<00:00, 5565.90 uttr/s, accuracy=0.81, loss=0.86]\n",
            "Train: 100% 2000/2000 [00:33<00:00, 59.04 step/s, accuracy=0.84, loss=0.63, step=156000]\n",
            "Valid: 100% 8480/8500 [00:01<00:00, 5661.93 uttr/s, accuracy=0.80, loss=0.89]\n",
            "Train: 100% 2000/2000 [00:33<00:00, 58.96 step/s, accuracy=0.75, loss=0.61, step=158000]\n",
            "Valid: 100% 8480/8500 [00:01<00:00, 5706.95 uttr/s, accuracy=0.79, loss=0.89]\n",
            "Train: 100% 2000/2000 [00:33<00:00, 58.92 step/s, accuracy=0.88, loss=0.37, step=160000]\n",
            "Valid: 100% 8480/8500 [00:01<00:00, 5638.74 uttr/s, accuracy=0.79, loss=0.93]\n",
            "Train:   0% 0/2000 [00:00<?, ? step/s]\n",
            "\n",
            "                                                                                      \n",
            "Train:   1% 11/2000 [00:00<00:36, 54.93 step/s, accuracy=0.88, loss=0.55, step=160011]"
          ]
        },
        {
          "name": "stdout",
          "output_type": "stream",
          "text": [
            "Step 160000, best model saved. (accuracy=0.8057)\n"
          ]
        },
        {
          "name": "stderr",
          "output_type": "stream",
          "text": [
            "Train: 100% 2000/2000 [00:34<00:00, 57.27 step/s, accuracy=0.88, loss=0.42, step=162000]\n",
            "Valid: 100% 8480/8500 [00:01<00:00, 5212.72 uttr/s, accuracy=0.79, loss=0.92]\n",
            "Train: 100% 2000/2000 [00:34<00:00, 57.87 step/s, accuracy=0.81, loss=0.96, step=164000]\n",
            "Valid: 100% 8480/8500 [00:01<00:00, 5242.45 uttr/s, accuracy=0.80, loss=0.88]\n",
            "Train: 100% 2000/2000 [00:34<00:00, 58.05 step/s, accuracy=0.94, loss=0.13, step=166000]\n",
            "Valid: 100% 8480/8500 [00:01<00:00, 5453.01 uttr/s, accuracy=0.81, loss=0.86]\n",
            "Train: 100% 2000/2000 [00:34<00:00, 58.81 step/s, accuracy=0.94, loss=0.26, step=168000]\n",
            "Valid: 100% 8480/8500 [00:01<00:00, 5469.05 uttr/s, accuracy=0.80, loss=0.86]\n",
            "Train: 100% 2000/2000 [00:34<00:00, 58.38 step/s, accuracy=0.88, loss=0.36, step=170000]\n",
            "Valid: 100% 8480/8500 [00:01<00:00, 5399.71 uttr/s, accuracy=0.80, loss=0.87]\n",
            "Train:   0% 0/2000 [00:00<?, ? step/s]\n",
            "\n",
            "                                                                                      \n",
            "Train:   1% 11/2000 [00:00<00:36, 54.72 step/s, accuracy=0.88, loss=0.28, step=170011]"
          ]
        },
        {
          "name": "stdout",
          "output_type": "stream",
          "text": [
            "Step 170000, best model saved. (accuracy=0.8097)\n"
          ]
        },
        {
          "name": "stderr",
          "output_type": "stream",
          "text": [
            "Train: 100% 2000/2000 [00:34<00:00, 58.14 step/s, accuracy=0.88, loss=0.28, step=172000]\n",
            "Valid: 100% 8480/8500 [00:01<00:00, 5346.54 uttr/s, accuracy=0.79, loss=0.94]\n",
            "Train: 100% 2000/2000 [00:34<00:00, 58.76 step/s, accuracy=0.91, loss=0.39, step=174000]\n",
            "Valid: 100% 8480/8500 [00:01<00:00, 5409.36 uttr/s, accuracy=0.79, loss=0.89]\n",
            "Train: 100% 2000/2000 [00:34<00:00, 58.56 step/s, accuracy=0.91, loss=0.45, step=176000]\n",
            "Valid: 100% 8480/8500 [00:01<00:00, 5426.64 uttr/s, accuracy=0.80, loss=0.87]\n",
            "Train: 100% 2000/2000 [00:34<00:00, 58.33 step/s, accuracy=0.81, loss=0.68, step=178000]\n",
            "Valid: 100% 8480/8500 [00:01<00:00, 5475.58 uttr/s, accuracy=0.80, loss=0.86]\n",
            "Train: 100% 2000/2000 [00:34<00:00, 58.59 step/s, accuracy=0.94, loss=0.37, step=180000]\n",
            "Valid: 100% 8480/8500 [00:01<00:00, 5476.88 uttr/s, accuracy=0.79, loss=0.90]\n",
            "Train:   0% 0/2000 [00:00<?, ? step/s]\n",
            "\n",
            "                                                                                      \n",
            "Train:   1% 11/2000 [00:00<00:37, 52.91 step/s, accuracy=0.88, loss=0.37, step=180011]"
          ]
        },
        {
          "name": "stdout",
          "output_type": "stream",
          "text": [
            "Step 180000, best model saved. (accuracy=0.8097)\n"
          ]
        },
        {
          "name": "stderr",
          "output_type": "stream",
          "text": [
            "Train: 100% 2000/2000 [00:33<00:00, 58.85 step/s, accuracy=0.81, loss=0.68, step=182000]\n",
            "Valid: 100% 8480/8500 [00:01<00:00, 5342.98 uttr/s, accuracy=0.81, loss=0.85]\n",
            "Train: 100% 2000/2000 [00:34<00:00, 57.81 step/s, accuracy=0.97, loss=0.14, step=184000]\n",
            "Valid: 100% 8480/8500 [00:01<00:00, 5392.75 uttr/s, accuracy=0.81, loss=0.83]\n",
            "Train: 100% 2000/2000 [00:34<00:00, 58.10 step/s, accuracy=0.97, loss=0.13, step=186000]\n",
            "Valid: 100% 8480/8500 [00:01<00:00, 5346.76 uttr/s, accuracy=0.81, loss=0.83]\n",
            "Train: 100% 2000/2000 [00:34<00:00, 58.10 step/s, accuracy=0.88, loss=0.53, step=188000]\n",
            "Valid: 100% 8480/8500 [00:01<00:00, 5380.54 uttr/s, accuracy=0.81, loss=0.85]\n",
            "Train: 100% 2000/2000 [00:34<00:00, 57.74 step/s, accuracy=0.94, loss=0.27, step=190000]\n",
            "Valid: 100% 8480/8500 [00:01<00:00, 5412.66 uttr/s, accuracy=0.81, loss=0.83]\n",
            "Train:   0% 0/2000 [00:00<?, ? step/s]\n",
            "                                      \n",
            "Train:   1% 12/2000 [00:00<00:34, 58.32 step/s, accuracy=0.81, loss=0.60, step=190011]"
          ]
        },
        {
          "name": "stdout",
          "output_type": "stream",
          "text": [
            "Step 190000, best model saved. (accuracy=0.8105)\n"
          ]
        },
        {
          "name": "stderr",
          "output_type": "stream",
          "text": [
            "Train: 100% 2000/2000 [00:34<00:00, 58.65 step/s, accuracy=0.88, loss=0.50, step=192000]\n",
            "Valid: 100% 8480/8500 [00:01<00:00, 5355.89 uttr/s, accuracy=0.81, loss=0.84]\n",
            "Train: 100% 2000/2000 [00:34<00:00, 58.58 step/s, accuracy=0.88, loss=0.35, step=194000]\n",
            "Valid: 100% 8480/8500 [00:01<00:00, 5379.05 uttr/s, accuracy=0.80, loss=0.85]\n",
            "Train: 100% 2000/2000 [00:34<00:00, 58.05 step/s, accuracy=0.78, loss=0.64, step=196000]\n",
            "Valid: 100% 8480/8500 [00:01<00:00, 5310.16 uttr/s, accuracy=0.81, loss=0.82]\n",
            "Train: 100% 2000/2000 [00:34<00:00, 57.89 step/s, accuracy=0.84, loss=0.48, step=198000]\n",
            "Valid: 100% 8480/8500 [00:01<00:00, 5360.77 uttr/s, accuracy=0.81, loss=0.87]\n",
            "Train: 100% 2000/2000 [00:34<00:00, 57.96 step/s, accuracy=0.84, loss=0.49, step=2e+5]  \n",
            "Valid: 100% 8480/8500 [00:01<00:00, 5339.00 uttr/s, accuracy=0.81, loss=0.86]\n",
            "Train:   0% 0/2000 [00:00<?, ? step/s]\n",
            "\n",
            "                                                                                        \n",
            "Train:   1% 11/2000 [00:00<00:37, 53.11 step/s, accuracy=0.94, loss=0.18, step=2e+5]"
          ]
        },
        {
          "name": "stdout",
          "output_type": "stream",
          "text": [
            "Step 200000, best model saved. (accuracy=0.8149)\n"
          ]
        },
        {
          "name": "stderr",
          "output_type": "stream",
          "text": [
            "Train: 100% 2000/2000 [00:34<00:00, 57.69 step/s, accuracy=0.94, loss=0.62, step=202000]\n",
            "Valid: 100% 8480/8500 [00:01<00:00, 5378.01 uttr/s, accuracy=0.81, loss=0.85]\n",
            "Train: 100% 2000/2000 [00:34<00:00, 58.32 step/s, accuracy=0.94, loss=0.21, step=204000]\n",
            "Valid: 100% 8480/8500 [00:01<00:00, 5379.37 uttr/s, accuracy=0.81, loss=0.86]\n",
            "Train: 100% 2000/2000 [00:33<00:00, 58.87 step/s, accuracy=0.94, loss=0.39, step=206000]\n",
            "Valid: 100% 8480/8500 [00:01<00:00, 5475.98 uttr/s, accuracy=0.79, loss=0.92]\n",
            "Train: 100% 2000/2000 [00:34<00:00, 58.42 step/s, accuracy=0.91, loss=0.45, step=208000]\n",
            "Valid: 100% 8480/8500 [00:01<00:00, 5439.53 uttr/s, accuracy=0.82, loss=0.77]\n",
            "Train: 100% 2000/2000 [00:34<00:00, 58.36 step/s, accuracy=0.88, loss=0.37, step=210000]\n",
            "Valid: 100% 8480/8500 [00:01<00:00, 5384.57 uttr/s, accuracy=0.81, loss=0.87]\n",
            "Train:   0% 0/2000 [00:00<?, ? step/s]\n",
            "\n",
            "                                                                                        \n",
            "Train:   1% 11/2000 [00:00<00:36, 54.62 step/s, accuracy=0.78, loss=0.70, step=210011]"
          ]
        },
        {
          "name": "stdout",
          "output_type": "stream",
          "text": [
            "Step 210000, best model saved. (accuracy=0.8226)\n"
          ]
        },
        {
          "name": "stderr",
          "output_type": "stream",
          "text": [
            "Train: 100% 2000/2000 [00:34<00:00, 58.04 step/s, accuracy=0.81, loss=0.53, step=212000]\n",
            "Valid: 100% 8480/8500 [00:01<00:00, 5301.77 uttr/s, accuracy=0.81, loss=0.84]\n",
            "Train: 100% 2000/2000 [00:34<00:00, 57.53 step/s, accuracy=0.91, loss=0.26, step=214000]\n",
            "Valid: 100% 8480/8500 [00:01<00:00, 5423.07 uttr/s, accuracy=0.81, loss=0.85]\n",
            "Train: 100% 2000/2000 [00:34<00:00, 57.85 step/s, accuracy=0.97, loss=0.14, step=216000]\n",
            "Valid: 100% 8480/8500 [00:01<00:00, 5478.43 uttr/s, accuracy=0.81, loss=0.84]\n",
            "Train: 100% 2000/2000 [00:34<00:00, 58.60 step/s, accuracy=0.91, loss=0.22, step=218000]\n",
            "Valid: 100% 8480/8500 [00:01<00:00, 5296.55 uttr/s, accuracy=0.81, loss=0.86]\n",
            "Train: 100% 2000/2000 [00:34<00:00, 58.48 step/s, accuracy=0.94, loss=0.18, step=220000]\n",
            "Valid: 100% 8480/8500 [00:01<00:00, 5406.47 uttr/s, accuracy=0.81, loss=0.83]\n",
            "Train:   0% 0/2000 [00:00<?, ? step/s]\n",
            "\n",
            "                                                                                        \n",
            "Train:   1% 11/2000 [00:00<00:36, 55.19 step/s, accuracy=0.81, loss=0.62, step=220011]"
          ]
        },
        {
          "name": "stdout",
          "output_type": "stream",
          "text": [
            "Step 220000, best model saved. (accuracy=0.8226)\n"
          ]
        },
        {
          "name": "stderr",
          "output_type": "stream",
          "text": [
            "Train: 100% 2000/2000 [00:34<00:00, 58.63 step/s, accuracy=0.81, loss=0.52, step=222000]\n",
            "Valid: 100% 8480/8500 [00:01<00:00, 5463.08 uttr/s, accuracy=0.80, loss=0.90]\n",
            "Train: 100% 2000/2000 [00:34<00:00, 58.42 step/s, accuracy=0.91, loss=0.25, step=224000]\n",
            "Valid: 100% 8480/8500 [00:01<00:00, 5528.15 uttr/s, accuracy=0.80, loss=0.87]\n",
            "Train: 100% 2000/2000 [00:34<00:00, 57.72 step/s, accuracy=0.88, loss=0.24, step=226000]\n",
            "Valid: 100% 8480/8500 [00:01<00:00, 5335.35 uttr/s, accuracy=0.80, loss=0.86]\n",
            "Train: 100% 2000/2000 [00:34<00:00, 58.03 step/s, accuracy=0.88, loss=0.70, step=228000]\n",
            "Valid: 100% 8480/8500 [00:01<00:00, 5393.88 uttr/s, accuracy=0.80, loss=0.90]\n",
            "Train: 100% 2000/2000 [00:34<00:00, 58.12 step/s, accuracy=0.94, loss=0.35, step=230000]\n",
            "Valid: 100% 8480/8500 [00:01<00:00, 5449.39 uttr/s, accuracy=0.81, loss=0.83]\n",
            "Train:   0% 0/2000 [00:00<?, ? step/s]\n",
            "\n",
            "                                                                                        \n",
            "Train:   1% 11/2000 [00:00<00:36, 54.40 step/s, accuracy=0.91, loss=0.28, step=230011]"
          ]
        },
        {
          "name": "stdout",
          "output_type": "stream",
          "text": [
            "Step 230000, best model saved. (accuracy=0.8226)\n"
          ]
        },
        {
          "name": "stderr",
          "output_type": "stream",
          "text": [
            "Train: 100% 2000/2000 [00:34<00:00, 58.29 step/s, accuracy=0.97, loss=0.22, step=232000]\n",
            "Valid: 100% 8480/8500 [00:01<00:00, 5484.50 uttr/s, accuracy=0.81, loss=0.83]\n",
            "Train: 100% 2000/2000 [00:34<00:00, 58.82 step/s, accuracy=0.94, loss=0.20, step=234000]\n",
            "Valid: 100% 8480/8500 [00:01<00:00, 5529.32 uttr/s, accuracy=0.81, loss=0.84]\n",
            "Train: 100% 2000/2000 [00:34<00:00, 58.65 step/s, accuracy=0.97, loss=0.17, step=236000]\n",
            "Valid: 100% 8480/8500 [00:01<00:00, 5476.23 uttr/s, accuracy=0.81, loss=0.83]\n",
            "Train: 100% 2000/2000 [00:34<00:00, 57.73 step/s, accuracy=0.94, loss=0.30, step=238000]\n",
            "Valid: 100% 8480/8500 [00:01<00:00, 5430.61 uttr/s, accuracy=0.82, loss=0.84]\n",
            "Train: 100% 2000/2000 [00:34<00:00, 58.01 step/s, accuracy=0.91, loss=0.21, step=240000]\n",
            "Valid: 100% 8480/8500 [00:01<00:00, 5394.44 uttr/s, accuracy=0.81, loss=0.85]\n",
            "Train:   0% 0/2000 [00:00<?, ? step/s]\n",
            "\n",
            "                                                                                        \n",
            "Train:   1% 11/2000 [00:00<00:36, 55.11 step/s, accuracy=0.88, loss=0.54, step=240011]"
          ]
        },
        {
          "name": "stdout",
          "output_type": "stream",
          "text": [
            "Step 240000, best model saved. (accuracy=0.8226)\n"
          ]
        },
        {
          "name": "stderr",
          "output_type": "stream",
          "text": [
            "Train: 100% 2000/2000 [00:34<00:00, 58.15 step/s, accuracy=0.88, loss=0.36, step=242000]\n",
            "Valid: 100% 8480/8500 [00:01<00:00, 5443.14 uttr/s, accuracy=0.81, loss=0.85]\n",
            "Train: 100% 2000/2000 [00:34<00:00, 57.90 step/s, accuracy=0.94, loss=0.24, step=244000]\n",
            "Valid: 100% 8480/8500 [00:01<00:00, 5385.99 uttr/s, accuracy=0.82, loss=0.81]\n",
            "Train: 100% 2000/2000 [00:33<00:00, 58.86 step/s, accuracy=0.91, loss=0.37, step=246000]\n",
            "Valid: 100% 8480/8500 [00:01<00:00, 5488.12 uttr/s, accuracy=0.81, loss=0.81]\n",
            "Train: 100% 2000/2000 [00:34<00:00, 58.71 step/s, accuracy=0.84, loss=0.57, step=248000]\n",
            "Valid: 100% 8480/8500 [00:01<00:00, 5533.71 uttr/s, accuracy=0.81, loss=0.84]\n",
            "Train: 100% 2000/2000 [00:34<00:00, 58.23 step/s, accuracy=0.88, loss=0.42, step=250000]\n",
            "Valid: 100% 8480/8500 [00:01<00:00, 5443.27 uttr/s, accuracy=0.83, loss=0.77]\n",
            "Train:   0% 0/2000 [00:00<?, ? step/s]\n",
            "\n",
            "                                                                                        \n",
            "Train:   1% 11/2000 [00:00<00:35, 55.29 step/s, accuracy=0.88, loss=0.37, step=250011]"
          ]
        },
        {
          "name": "stdout",
          "output_type": "stream",
          "text": [
            "Step 250000, best model saved. (accuracy=0.8256)\n"
          ]
        },
        {
          "name": "stderr",
          "output_type": "stream",
          "text": [
            "Train: 100% 2000/2000 [00:34<00:00, 58.17 step/s, accuracy=0.94, loss=0.19, step=252000]\n",
            "Valid: 100% 8480/8500 [00:01<00:00, 5516.17 uttr/s, accuracy=0.81, loss=0.84]\n",
            "Train: 100% 2000/2000 [00:34<00:00, 58.11 step/s, accuracy=0.94, loss=0.27, step=254000]\n",
            "Valid: 100% 8480/8500 [00:01<00:00, 5456.19 uttr/s, accuracy=0.81, loss=0.83]\n",
            "Train: 100% 2000/2000 [00:34<00:00, 57.81 step/s, accuracy=0.94, loss=0.28, step=256000]\n",
            "Valid: 100% 8480/8500 [00:01<00:00, 5475.71 uttr/s, accuracy=0.81, loss=0.87]\n",
            "Train: 100% 2000/2000 [00:34<00:00, 58.60 step/s, accuracy=0.88, loss=0.33, step=258000]\n",
            "Valid: 100% 8480/8500 [00:01<00:00, 5511.17 uttr/s, accuracy=0.80, loss=0.87]\n",
            "Train: 100% 2000/2000 [00:33<00:00, 59.03 step/s, accuracy=0.91, loss=0.32, step=260000]\n",
            "Valid: 100% 8480/8500 [00:01<00:00, 5458.39 uttr/s, accuracy=0.81, loss=0.83]\n",
            "Train:   0% 0/2000 [00:00<?, ? step/s]\n",
            "\n",
            "                                                                                        \n",
            "Train:   1% 11/2000 [00:00<00:36, 54.28 step/s, accuracy=0.94, loss=0.36, step=260011]"
          ]
        },
        {
          "name": "stdout",
          "output_type": "stream",
          "text": [
            "Step 260000, best model saved. (accuracy=0.8256)\n"
          ]
        },
        {
          "name": "stderr",
          "output_type": "stream",
          "text": [
            "Train: 100% 2000/2000 [00:34<00:00, 58.55 step/s, accuracy=0.81, loss=0.55, step=262000]\n",
            "Valid: 100% 8480/8500 [00:01<00:00, 5333.59 uttr/s, accuracy=0.82, loss=0.83]\n",
            "Train: 100% 2000/2000 [00:34<00:00, 58.40 step/s, accuracy=0.97, loss=0.13, step=264000]\n",
            "Valid: 100% 8480/8500 [00:01<00:00, 5486.18 uttr/s, accuracy=0.82, loss=0.84]\n",
            "Train: 100% 2000/2000 [00:34<00:00, 58.24 step/s, accuracy=0.78, loss=0.60, step=266000]\n",
            "Valid: 100% 8480/8500 [00:01<00:00, 5386.06 uttr/s, accuracy=0.82, loss=0.83]\n",
            "Train: 100% 2000/2000 [00:34<00:00, 57.78 step/s, accuracy=0.97, loss=0.15, step=268000]\n",
            "Valid: 100% 8480/8500 [00:01<00:00, 5066.21 uttr/s, accuracy=0.82, loss=0.83]\n",
            "Train: 100% 2000/2000 [00:34<00:00, 58.13 step/s, accuracy=0.88, loss=0.41, step=270000]\n",
            "Valid: 100% 8480/8500 [00:01<00:00, 5455.14 uttr/s, accuracy=0.82, loss=0.83]\n",
            "Train:   0% 0/2000 [00:00<?, ? step/s]\n",
            "\n",
            "                                                                                        \n",
            "Train:   1% 11/2000 [00:00<00:36, 53.93 step/s, accuracy=0.84, loss=0.54, step=270011]"
          ]
        },
        {
          "name": "stdout",
          "output_type": "stream",
          "text": [
            "Step 270000, best model saved. (accuracy=0.8256)\n"
          ]
        },
        {
          "name": "stderr",
          "output_type": "stream",
          "text": [
            "Train: 100% 2000/2000 [00:34<00:00, 58.71 step/s, accuracy=0.88, loss=0.21, step=272000]\n",
            "Valid: 100% 8480/8500 [00:01<00:00, 5367.24 uttr/s, accuracy=0.82, loss=0.82]\n",
            "Train: 100% 2000/2000 [00:34<00:00, 58.36 step/s, accuracy=0.94, loss=0.22, step=274000]\n",
            "Valid: 100% 8480/8500 [00:01<00:00, 5479.90 uttr/s, accuracy=0.81, loss=0.84]\n",
            "Train: 100% 2000/2000 [00:34<00:00, 58.70 step/s, accuracy=0.97, loss=0.28, step=276000]\n",
            "Valid: 100% 8480/8500 [00:01<00:00, 5545.69 uttr/s, accuracy=0.82, loss=0.80]\n",
            "Train: 100% 2000/2000 [00:34<00:00, 58.45 step/s, accuracy=1.00, loss=0.08, step=278000]\n",
            "Valid: 100% 8480/8500 [00:01<00:00, 5418.66 uttr/s, accuracy=0.81, loss=0.83]\n",
            "Train: 100% 2000/2000 [00:34<00:00, 57.76 step/s, accuracy=0.94, loss=0.31, step=280000]\n",
            "Valid: 100% 8480/8500 [00:01<00:00, 5361.86 uttr/s, accuracy=0.82, loss=0.77]\n",
            "Train:   0% 0/2000 [00:00<?, ? step/s]\n",
            "\n",
            "                                                                                        \n",
            "Train:   1% 11/2000 [00:00<00:36, 55.11 step/s, accuracy=0.94, loss=0.28, step=280011]"
          ]
        },
        {
          "name": "stdout",
          "output_type": "stream",
          "text": [
            "Step 280000, best model saved. (accuracy=0.8256)\n"
          ]
        },
        {
          "name": "stderr",
          "output_type": "stream",
          "text": [
            "Train: 100% 2000/2000 [00:34<00:00, 58.36 step/s, accuracy=0.91, loss=0.23, step=282000]\n",
            "Valid: 100% 8480/8500 [00:01<00:00, 5425.36 uttr/s, accuracy=0.82, loss=0.78]\n",
            "Train: 100% 2000/2000 [00:34<00:00, 58.44 step/s, accuracy=0.91, loss=0.44, step=284000]\n",
            "Valid: 100% 8480/8500 [00:01<00:00, 5464.31 uttr/s, accuracy=0.82, loss=0.79]\n",
            "Train: 100% 2000/2000 [00:34<00:00, 58.37 step/s, accuracy=0.91, loss=0.27, step=286000]\n",
            "Valid: 100% 8480/8500 [00:01<00:00, 5497.38 uttr/s, accuracy=0.81, loss=0.83]\n",
            "Train: 100% 2000/2000 [00:34<00:00, 58.64 step/s, accuracy=0.94, loss=0.28, step=288000]\n",
            "Valid: 100% 8480/8500 [00:01<00:00, 5483.79 uttr/s, accuracy=0.81, loss=0.89]\n",
            "Train: 100% 2000/2000 [00:33<00:00, 58.88 step/s, accuracy=0.88, loss=0.43, step=290000]\n",
            "Valid: 100% 8480/8500 [00:01<00:00, 5487.19 uttr/s, accuracy=0.83, loss=0.76]\n",
            "Train:   0% 0/2000 [00:00<?, ? step/s]\n",
            "\n",
            "                                                                                        \n",
            "Train:   1% 11/2000 [00:00<00:36, 55.08 step/s, accuracy=0.91, loss=0.58, step=290011]"
          ]
        },
        {
          "name": "stdout",
          "output_type": "stream",
          "text": [
            "Step 290000, best model saved. (accuracy=0.8269)\n"
          ]
        },
        {
          "name": "stderr",
          "output_type": "stream",
          "text": [
            "Train: 100% 2000/2000 [00:34<00:00, 58.01 step/s, accuracy=0.84, loss=0.45, step=292000]\n",
            "Valid: 100% 8480/8500 [00:01<00:00, 5465.53 uttr/s, accuracy=0.82, loss=0.78]\n",
            "Train: 100% 2000/2000 [00:34<00:00, 58.12 step/s, accuracy=0.97, loss=0.27, step=294000]\n",
            "Valid: 100% 8480/8500 [00:01<00:00, 5459.25 uttr/s, accuracy=0.82, loss=0.81]\n",
            "Train: 100% 2000/2000 [00:34<00:00, 58.28 step/s, accuracy=0.97, loss=0.15, step=296000]\n",
            "Valid: 100% 8480/8500 [00:01<00:00, 5516.63 uttr/s, accuracy=0.82, loss=0.82]\n",
            "Train: 100% 2000/2000 [00:34<00:00, 58.12 step/s, accuracy=0.91, loss=0.47, step=298000]\n",
            "Valid: 100% 8480/8500 [00:01<00:00, 5393.93 uttr/s, accuracy=0.82, loss=0.82]\n",
            "Train: 100% 2000/2000 [00:33<00:00, 58.90 step/s, accuracy=0.94, loss=0.19, step=3e+5]  \n",
            "Valid: 100% 8480/8500 [00:01<00:00, 5455.84 uttr/s, accuracy=0.82, loss=0.81]\n",
            "Train:   0% 0/2000 [00:00<?, ? step/s]\n",
            "\n",
            "                                                                                        \n",
            "Train:   1% 11/2000 [00:00<00:36, 54.82 step/s, accuracy=0.97, loss=0.14, step=3e+5]"
          ]
        },
        {
          "name": "stdout",
          "output_type": "stream",
          "text": [
            "Step 300000, best model saved. (accuracy=0.8269)\n"
          ]
        },
        {
          "name": "stderr",
          "output_type": "stream",
          "text": [
            "Train: 100% 2000/2000 [00:33<00:00, 59.00 step/s, accuracy=0.88, loss=0.39, step=302000]\n",
            "Valid: 100% 8480/8500 [00:01<00:00, 5454.39 uttr/s, accuracy=0.82, loss=0.80]\n",
            "Train: 100% 2000/2000 [00:34<00:00, 58.62 step/s, accuracy=0.91, loss=0.24, step=304000]\n",
            "Valid: 100% 8480/8500 [00:01<00:00, 5473.02 uttr/s, accuracy=0.81, loss=0.81]\n",
            "Train: 100% 2000/2000 [00:34<00:00, 57.73 step/s, accuracy=0.91, loss=0.32, step=306000]\n",
            "Valid: 100% 8480/8500 [00:01<00:00, 5453.31 uttr/s, accuracy=0.82, loss=0.81]\n",
            "Train: 100% 2000/2000 [00:34<00:00, 58.19 step/s, accuracy=0.94, loss=0.21, step=308000]\n",
            "Valid: 100% 8480/8500 [00:01<00:00, 5365.70 uttr/s, accuracy=0.81, loss=0.82]\n",
            "Train: 100% 2000/2000 [00:34<00:00, 58.25 step/s, accuracy=0.81, loss=0.52, step=310000]\n",
            "Valid: 100% 8480/8500 [00:01<00:00, 5350.32 uttr/s, accuracy=0.82, loss=0.80]\n",
            "Train:   0% 0/2000 [00:00<?, ? step/s]\n",
            "\n",
            "                                                                                        \n",
            "Train:   1% 11/2000 [00:00<00:36, 54.35 step/s, accuracy=0.91, loss=0.93, step=310011]"
          ]
        },
        {
          "name": "stdout",
          "output_type": "stream",
          "text": [
            "Step 310000, best model saved. (accuracy=0.8269)\n"
          ]
        },
        {
          "name": "stderr",
          "output_type": "stream",
          "text": [
            "Train: 100% 2000/2000 [00:34<00:00, 58.09 step/s, accuracy=0.94, loss=0.25, step=312000]\n",
            "Valid: 100% 8480/8500 [00:01<00:00, 5478.31 uttr/s, accuracy=0.82, loss=0.81]\n",
            "Train: 100% 2000/2000 [00:33<00:00, 58.96 step/s, accuracy=0.84, loss=0.60, step=314000]\n",
            "Valid: 100% 8480/8500 [00:01<00:00, 5495.91 uttr/s, accuracy=0.80, loss=0.90]\n",
            "Train: 100% 2000/2000 [00:33<00:00, 58.93 step/s, accuracy=0.88, loss=0.28, step=316000]\n",
            "Valid: 100% 8480/8500 [00:01<00:00, 5444.51 uttr/s, accuracy=0.81, loss=0.83]\n",
            "Train: 100% 2000/2000 [00:34<00:00, 58.20 step/s, accuracy=0.91, loss=0.21, step=318000]\n",
            "Valid: 100% 8480/8500 [00:01<00:00, 5521.27 uttr/s, accuracy=0.81, loss=0.83]\n",
            "Train: 100% 2000/2000 [00:34<00:00, 58.19 step/s, accuracy=0.91, loss=0.22, step=320000]\n",
            "Valid: 100% 8480/8500 [00:01<00:00, 5456.25 uttr/s, accuracy=0.82, loss=0.78]\n",
            "Train:   0% 0/2000 [00:00<?, ? step/s]\n",
            "\n",
            "                                                                                        \n",
            "Train:   1% 11/2000 [00:00<00:36, 54.02 step/s, accuracy=0.91, loss=0.28, step=320011]"
          ]
        },
        {
          "name": "stdout",
          "output_type": "stream",
          "text": [
            "Step 320000, best model saved. (accuracy=0.8269)\n"
          ]
        },
        {
          "name": "stderr",
          "output_type": "stream",
          "text": [
            "Train: 100% 2000/2000 [00:34<00:00, 58.23 step/s, accuracy=0.81, loss=0.54, step=322000]\n",
            "Valid: 100% 8480/8500 [00:01<00:00, 5153.13 uttr/s, accuracy=0.82, loss=0.79]\n",
            "Train: 100% 2000/2000 [00:34<00:00, 57.67 step/s, accuracy=0.94, loss=0.15, step=324000]\n",
            "Valid: 100% 8480/8500 [00:01<00:00, 5455.57 uttr/s, accuracy=0.83, loss=0.76]\n",
            "Train: 100% 2000/2000 [00:34<00:00, 58.56 step/s, accuracy=0.91, loss=0.25, step=326000]\n",
            "Valid: 100% 8480/8500 [00:01<00:00, 5534.06 uttr/s, accuracy=0.82, loss=0.81]\n",
            "Train: 100% 2000/2000 [00:34<00:00, 58.82 step/s, accuracy=0.91, loss=0.30, step=328000]\n",
            "Valid: 100% 8480/8500 [00:01<00:00, 5537.68 uttr/s, accuracy=0.83, loss=0.77]\n",
            "Train: 100% 2000/2000 [00:34<00:00, 58.48 step/s, accuracy=0.88, loss=0.29, step=330000]\n",
            "Valid: 100% 8480/8500 [00:01<00:00, 5505.46 uttr/s, accuracy=0.82, loss=0.81]\n",
            "Train:   0% 0/2000 [00:00<?, ? step/s]\n",
            "\n",
            "                                                                                        \n",
            "Train:   1% 11/2000 [00:00<00:35, 55.37 step/s, accuracy=0.88, loss=0.49, step=330011]"
          ]
        },
        {
          "name": "stdout",
          "output_type": "stream",
          "text": [
            "Step 330000, best model saved. (accuracy=0.8269)\n"
          ]
        },
        {
          "name": "stderr",
          "output_type": "stream",
          "text": [
            "Train: 100% 2000/2000 [00:34<00:00, 58.42 step/s, accuracy=0.78, loss=0.86, step=332000]\n",
            "Valid: 100% 8480/8500 [00:01<00:00, 5407.26 uttr/s, accuracy=0.82, loss=0.82]\n",
            "Train: 100% 2000/2000 [00:34<00:00, 58.20 step/s, accuracy=0.84, loss=0.48, step=334000]\n",
            "Valid: 100% 8480/8500 [00:01<00:00, 5377.21 uttr/s, accuracy=0.82, loss=0.79]\n",
            "Train: 100% 2000/2000 [00:34<00:00, 57.88 step/s, accuracy=0.94, loss=0.26, step=336000]\n",
            "Valid: 100% 8480/8500 [00:01<00:00, 5360.43 uttr/s, accuracy=0.82, loss=0.80]\n",
            "Train: 100% 2000/2000 [00:34<00:00, 58.30 step/s, accuracy=0.88, loss=0.46, step=338000]\n",
            "Valid: 100% 8480/8500 [00:01<00:00, 5442.18 uttr/s, accuracy=0.82, loss=0.80]\n",
            "Train: 100% 2000/2000 [00:34<00:00, 58.81 step/s, accuracy=0.88, loss=0.45, step=340000]\n",
            "Valid: 100% 8480/8500 [00:01<00:00, 5406.98 uttr/s, accuracy=0.82, loss=0.79]\n",
            "Train:   0% 0/2000 [00:00<?, ? step/s]\n",
            "\n",
            "                                                                                        \n",
            "Train:   1% 11/2000 [00:00<00:37, 53.76 step/s, accuracy=0.88, loss=0.30, step=340011]"
          ]
        },
        {
          "name": "stdout",
          "output_type": "stream",
          "text": [
            "Step 340000, best model saved. (accuracy=0.8269)\n"
          ]
        },
        {
          "name": "stderr",
          "output_type": "stream",
          "text": [
            "Train: 100% 2000/2000 [00:34<00:00, 58.52 step/s, accuracy=0.91, loss=0.40, step=342000]\n",
            "Valid: 100% 8480/8500 [00:01<00:00, 5548.75 uttr/s, accuracy=0.82, loss=0.81]\n",
            "Train: 100% 2000/2000 [00:33<00:00, 58.97 step/s, accuracy=0.91, loss=0.31, step=344000]\n",
            "Valid: 100% 8480/8500 [00:01<00:00, 5382.39 uttr/s, accuracy=0.83, loss=0.75]\n",
            "Train: 100% 2000/2000 [00:34<00:00, 58.53 step/s, accuracy=0.88, loss=0.24, step=346000]\n",
            "Valid: 100% 8480/8500 [00:01<00:00, 5397.12 uttr/s, accuracy=0.82, loss=0.79]\n",
            "Train: 100% 2000/2000 [00:34<00:00, 57.84 step/s, accuracy=0.81, loss=0.57, step=348000]\n",
            "Valid: 100% 8480/8500 [00:01<00:00, 5474.40 uttr/s, accuracy=0.82, loss=0.83]\n",
            "Train: 100% 2000/2000 [00:34<00:00, 58.22 step/s, accuracy=0.88, loss=0.51, step=350000]\n",
            "Valid: 100% 8480/8500 [00:01<00:00, 5513.93 uttr/s, accuracy=0.81, loss=0.84]\n",
            "Train:   0% 0/2000 [00:00<?, ? step/s]\n",
            "\n",
            "                                                                                        \n",
            "Train:   1% 11/2000 [00:00<00:37, 53.47 step/s, accuracy=0.84, loss=0.26, step=350011]"
          ]
        },
        {
          "name": "stdout",
          "output_type": "stream",
          "text": [
            "Step 350000, best model saved. (accuracy=0.8308)\n"
          ]
        },
        {
          "name": "stderr",
          "output_type": "stream",
          "text": [
            "Train: 100% 2000/2000 [00:34<00:00, 58.47 step/s, accuracy=0.84, loss=0.42, step=352000]\n",
            "Valid: 100% 8480/8500 [00:01<00:00, 5501.82 uttr/s, accuracy=0.82, loss=0.81]\n",
            "Train: 100% 2000/2000 [00:34<00:00, 58.26 step/s, accuracy=0.91, loss=0.37, step=354000]\n",
            "Valid: 100% 8480/8500 [00:01<00:00, 5392.32 uttr/s, accuracy=0.82, loss=0.81]\n",
            "Train: 100% 2000/2000 [00:33<00:00, 58.95 step/s, accuracy=0.97, loss=0.24, step=356000]\n",
            "Valid: 100% 8480/8500 [00:01<00:00, 5446.10 uttr/s, accuracy=0.82, loss=0.81]\n",
            "Train: 100% 2000/2000 [00:34<00:00, 58.58 step/s, accuracy=0.81, loss=0.46, step=358000]\n",
            "Valid: 100% 8480/8500 [00:01<00:00, 5441.75 uttr/s, accuracy=0.83, loss=0.78]\n",
            "Train: 100% 2000/2000 [00:34<00:00, 57.75 step/s, accuracy=0.91, loss=0.27, step=360000]\n",
            "Valid: 100% 8480/8500 [00:01<00:00, 5419.38 uttr/s, accuracy=0.82, loss=0.80]\n",
            "Train:   0% 0/2000 [00:00<?, ? step/s]\n",
            "\n",
            "                                                                                        \n",
            "Train:   1% 11/2000 [00:00<00:36, 55.05 step/s, accuracy=0.88, loss=0.29, step=360011]"
          ]
        },
        {
          "name": "stdout",
          "output_type": "stream",
          "text": [
            "Step 360000, best model saved. (accuracy=0.8308)\n"
          ]
        },
        {
          "name": "stderr",
          "output_type": "stream",
          "text": [
            "Train: 100% 2000/2000 [00:34<00:00, 58.13 step/s, accuracy=0.75, loss=0.60, step=362000]\n",
            "Valid: 100% 8480/8500 [00:01<00:00, 5446.03 uttr/s, accuracy=0.83, loss=0.75]\n",
            "Train: 100% 2000/2000 [00:34<00:00, 58.36 step/s, accuracy=0.91, loss=0.45, step=364000]\n",
            "Valid: 100% 8480/8500 [00:01<00:00, 5277.70 uttr/s, accuracy=0.82, loss=0.78]\n",
            "Train: 100% 2000/2000 [00:34<00:00, 58.18 step/s, accuracy=0.94, loss=0.22, step=366000]\n",
            "Valid: 100% 8480/8500 [00:01<00:00, 5426.72 uttr/s, accuracy=0.83, loss=0.76]\n",
            "Train: 100% 2000/2000 [00:33<00:00, 58.91 step/s, accuracy=0.88, loss=0.25, step=368000]\n",
            "Valid: 100% 8480/8500 [00:01<00:00, 5470.16 uttr/s, accuracy=0.83, loss=0.77]\n",
            "Train: 100% 2000/2000 [00:34<00:00, 58.78 step/s, accuracy=0.84, loss=0.49, step=370000]\n",
            "Valid: 100% 8480/8500 [00:01<00:00, 5406.19 uttr/s, accuracy=0.83, loss=0.79]\n",
            "Train:   0% 0/2000 [00:00<?, ? step/s]\n",
            "\n",
            "                                                                                        \n",
            "Train:   1% 11/2000 [00:00<00:36, 53.97 step/s, accuracy=0.88, loss=0.60, step=370011]"
          ]
        },
        {
          "name": "stdout",
          "output_type": "stream",
          "text": [
            "Step 370000, best model saved. (accuracy=0.8328)\n"
          ]
        },
        {
          "name": "stderr",
          "output_type": "stream",
          "text": [
            "Train: 100% 2000/2000 [00:34<00:00, 58.16 step/s, accuracy=0.81, loss=0.44, step=372000]\n",
            "Valid: 100% 8480/8500 [00:01<00:00, 5528.53 uttr/s, accuracy=0.83, loss=0.74]\n",
            "Train: 100% 2000/2000 [00:34<00:00, 58.21 step/s, accuracy=0.97, loss=0.16, step=374000]\n",
            "Valid: 100% 8480/8500 [00:01<00:00, 5530.00 uttr/s, accuracy=0.82, loss=0.83]\n",
            "Train: 100% 2000/2000 [00:34<00:00, 58.05 step/s, accuracy=1.00, loss=0.17, step=376000]\n",
            "Valid: 100% 8480/8500 [00:01<00:00, 5475.25 uttr/s, accuracy=0.82, loss=0.80]\n",
            "Train: 100% 2000/2000 [00:34<00:00, 57.88 step/s, accuracy=0.94, loss=0.40, step=378000]\n",
            "Valid: 100% 8480/8500 [00:01<00:00, 5474.21 uttr/s, accuracy=0.83, loss=0.77]\n",
            "Train: 100% 2000/2000 [00:34<00:00, 58.71 step/s, accuracy=0.84, loss=0.55, step=380000]\n",
            "Valid: 100% 8480/8500 [00:01<00:00, 5426.04 uttr/s, accuracy=0.82, loss=0.78]\n",
            "Train:   0% 0/2000 [00:00<?, ? step/s]\n",
            "\n",
            "                                                                                        \n",
            "Train:   1% 11/2000 [00:00<00:36, 54.66 step/s, accuracy=0.91, loss=0.26, step=380011]"
          ]
        },
        {
          "name": "stdout",
          "output_type": "stream",
          "text": [
            "Step 380000, best model saved. (accuracy=0.8336)\n"
          ]
        },
        {
          "name": "stderr",
          "output_type": "stream",
          "text": [
            "Train: 100% 2000/2000 [00:34<00:00, 58.61 step/s, accuracy=0.94, loss=0.16, step=382000]\n",
            "Valid: 100% 8480/8500 [00:01<00:00, 5252.16 uttr/s, accuracy=0.83, loss=0.78]\n",
            "Train: 100% 2000/2000 [00:34<00:00, 57.48 step/s, accuracy=0.88, loss=0.49, step=384000]\n",
            "Valid: 100% 8480/8500 [00:01<00:00, 5441.35 uttr/s, accuracy=0.83, loss=0.77]\n",
            "Train: 100% 2000/2000 [00:34<00:00, 57.92 step/s, accuracy=0.91, loss=0.31, step=386000]\n",
            "Valid: 100% 8480/8500 [00:01<00:00, 5365.23 uttr/s, accuracy=0.80, loss=0.90]\n",
            "Train: 100% 2000/2000 [00:34<00:00, 58.12 step/s, accuracy=0.88, loss=0.28, step=388000]\n",
            "Valid: 100% 8480/8500 [00:01<00:00, 5397.92 uttr/s, accuracy=0.82, loss=0.79]\n",
            "Train: 100% 2000/2000 [00:34<00:00, 57.75 step/s, accuracy=0.91, loss=0.26, step=390000]\n",
            "Valid: 100% 8480/8500 [00:01<00:00, 5466.04 uttr/s, accuracy=0.83, loss=0.75]\n",
            "Train:   0% 0/2000 [00:00<?, ? step/s]\n",
            "\n",
            "                                                                                        \n",
            "Train:   1% 11/2000 [00:00<00:36, 53.80 step/s, accuracy=0.91, loss=0.24, step=390011]"
          ]
        },
        {
          "name": "stdout",
          "output_type": "stream",
          "text": [
            "Step 390000, best model saved. (accuracy=0.8347)\n"
          ]
        },
        {
          "name": "stderr",
          "output_type": "stream",
          "text": [
            "Train: 100% 2000/2000 [00:34<00:00, 58.27 step/s, accuracy=0.78, loss=0.53, step=392000]\n",
            "Valid: 100% 8480/8500 [00:01<00:00, 5498.83 uttr/s, accuracy=0.82, loss=0.80]\n",
            "Train: 100% 2000/2000 [00:34<00:00, 58.44 step/s, accuracy=0.97, loss=0.17, step=394000]\n",
            "Valid: 100% 8480/8500 [00:01<00:00, 5520.35 uttr/s, accuracy=0.84, loss=0.75]\n",
            "Train: 100% 2000/2000 [00:34<00:00, 58.36 step/s, accuracy=0.94, loss=0.25, step=396000]\n",
            "Valid: 100% 8480/8500 [00:01<00:00, 5512.62 uttr/s, accuracy=0.84, loss=0.73]\n",
            "Train: 100% 2000/2000 [00:34<00:00, 58.62 step/s, accuracy=0.91, loss=0.38, step=398000]\n",
            "Valid: 100% 8480/8500 [00:01<00:00, 5369.60 uttr/s, accuracy=0.83, loss=0.75]\n",
            "Train: 100% 2000/2000 [00:34<00:00, 58.48 step/s, accuracy=0.94, loss=0.17, step=4e+5]  \n",
            "Valid: 100% 8480/8500 [00:01<00:00, 5408.13 uttr/s, accuracy=0.83, loss=0.76]\n",
            "Train:   0% 0/2000 [00:00<?, ? step/s]\n",
            "\n",
            "                                                                                        \n",
            "Train:   1% 11/2000 [00:00<00:35, 55.73 step/s, accuracy=0.94, loss=0.34, step=4e+5]"
          ]
        },
        {
          "name": "stdout",
          "output_type": "stream",
          "text": [
            "Step 400000, best model saved. (accuracy=0.8360)\n"
          ]
        },
        {
          "name": "stderr",
          "output_type": "stream",
          "text": [
            "Train: 100% 2000/2000 [00:34<00:00, 58.25 step/s, accuracy=0.97, loss=0.14, step=402000]\n",
            "Valid: 100% 8480/8500 [00:01<00:00, 5449.58 uttr/s, accuracy=0.83, loss=0.76]\n",
            "Train: 100% 2000/2000 [00:34<00:00, 58.72 step/s, accuracy=1.00, loss=0.07, step=404000]\n",
            "Valid: 100% 8480/8500 [00:01<00:00, 5439.97 uttr/s, accuracy=0.83, loss=0.75]\n",
            "Train: 100% 2000/2000 [00:34<00:00, 58.64 step/s, accuracy=0.88, loss=0.52, step=406000]\n",
            "Valid: 100% 8480/8500 [00:01<00:00, 5467.55 uttr/s, accuracy=0.83, loss=0.77]\n",
            "Train: 100% 2000/2000 [00:34<00:00, 58.25 step/s, accuracy=0.88, loss=0.37, step=408000]\n",
            "Valid: 100% 8480/8500 [00:01<00:00, 5451.14 uttr/s, accuracy=0.84, loss=0.73]\n",
            "Train: 100% 2000/2000 [00:33<00:00, 58.86 step/s, accuracy=0.97, loss=0.11, step=410000]\n",
            "Valid: 100% 8480/8500 [00:01<00:00, 5617.54 uttr/s, accuracy=0.83, loss=0.78]\n",
            "Train:   0% 0/2000 [00:00<?, ? step/s]\n",
            "\n",
            "                                                                                        \n",
            "Train:   1% 12/2000 [00:00<00:35, 55.81 step/s, accuracy=0.94, loss=0.23, step=410012]"
          ]
        },
        {
          "name": "stdout",
          "output_type": "stream",
          "text": [
            "Step 410000, best model saved. (accuracy=0.8384)\n"
          ]
        },
        {
          "name": "stderr",
          "output_type": "stream",
          "text": [
            "Train: 100% 2000/2000 [00:34<00:00, 58.66 step/s, accuracy=0.94, loss=0.16, step=412000]\n",
            "Valid: 100% 8480/8500 [00:01<00:00, 5645.01 uttr/s, accuracy=0.83, loss=0.77]\n",
            "Train: 100% 2000/2000 [00:34<00:00, 58.39 step/s, accuracy=0.97, loss=0.16, step=414000]\n",
            "Valid: 100% 8480/8500 [00:01<00:00, 5447.08 uttr/s, accuracy=0.83, loss=0.78]\n",
            "Train: 100% 2000/2000 [00:33<00:00, 58.90 step/s, accuracy=0.97, loss=0.23, step=416000]\n",
            "Valid: 100% 8480/8500 [00:01<00:00, 5556.50 uttr/s, accuracy=0.82, loss=0.80]\n",
            "Train: 100% 2000/2000 [00:33<00:00, 58.93 step/s, accuracy=0.94, loss=0.45, step=418000]\n",
            "Valid: 100% 8480/8500 [00:01<00:00, 5463.03 uttr/s, accuracy=0.83, loss=0.75]\n",
            "Train: 100% 2000/2000 [00:34<00:00, 58.48 step/s, accuracy=0.97, loss=0.08, step=420000]\n",
            "Valid: 100% 8480/8500 [00:01<00:00, 5423.56 uttr/s, accuracy=0.83, loss=0.74]\n",
            "Train:   0% 0/2000 [00:00<?, ? step/s]\n",
            "\n",
            "                                                                                        \n",
            "Train:   1% 11/2000 [00:00<00:36, 54.37 step/s, accuracy=0.75, loss=0.72, step=420011]"
          ]
        },
        {
          "name": "stdout",
          "output_type": "stream",
          "text": [
            "Step 420000, best model saved. (accuracy=0.8384)\n"
          ]
        },
        {
          "name": "stderr",
          "output_type": "stream",
          "text": [
            "Train: 100% 2000/2000 [00:34<00:00, 58.79 step/s, accuracy=0.91, loss=0.35, step=422000]\n",
            "Valid: 100% 8480/8500 [00:01<00:00, 5488.77 uttr/s, accuracy=0.82, loss=0.80]\n",
            "Train: 100% 2000/2000 [00:33<00:00, 58.90 step/s, accuracy=0.91, loss=0.38, step=424000]\n",
            "Valid: 100% 8480/8500 [00:01<00:00, 5574.43 uttr/s, accuracy=0.82, loss=0.79]\n",
            "Train: 100% 2000/2000 [00:34<00:00, 58.48 step/s, accuracy=0.75, loss=0.61, step=426000]\n",
            "Valid: 100% 8480/8500 [00:01<00:00, 5534.18 uttr/s, accuracy=0.83, loss=0.76]\n",
            "Train: 100% 2000/2000 [00:33<00:00, 59.02 step/s, accuracy=0.88, loss=0.42, step=428000]\n",
            "Valid: 100% 8480/8500 [00:01<00:00, 5102.46 uttr/s, accuracy=0.82, loss=0.77]\n",
            "Train: 100% 2000/2000 [00:34<00:00, 58.81 step/s, accuracy=0.84, loss=0.46, step=430000]\n",
            "Valid: 100% 8480/8500 [00:01<00:00, 5565.81 uttr/s, accuracy=0.82, loss=0.81]\n",
            "Train:   0% 0/2000 [00:00<?, ? step/s]\n",
            "\n",
            "                                                                                        \n",
            "Train:   1% 11/2000 [00:00<00:38, 51.65 step/s, accuracy=0.97, loss=0.35, step=430011]"
          ]
        },
        {
          "name": "stdout",
          "output_type": "stream",
          "text": [
            "Step 430000, best model saved. (accuracy=0.8384)\n"
          ]
        },
        {
          "name": "stderr",
          "output_type": "stream",
          "text": [
            "Train: 100% 2000/2000 [00:34<00:00, 58.61 step/s, accuracy=0.88, loss=0.26, step=432000]\n",
            "Valid: 100% 8480/8500 [00:01<00:00, 5492.26 uttr/s, accuracy=0.84, loss=0.74]\n",
            "Train: 100% 2000/2000 [00:33<00:00, 58.84 step/s, accuracy=0.94, loss=0.19, step=434000]\n",
            "Valid: 100% 8480/8500 [00:01<00:00, 5492.41 uttr/s, accuracy=0.83, loss=0.77]\n",
            "Train: 100% 2000/2000 [00:34<00:00, 58.63 step/s, accuracy=0.91, loss=0.34, step=436000]\n",
            "Valid: 100% 8480/8500 [00:01<00:00, 5453.55 uttr/s, accuracy=0.82, loss=0.80]\n",
            "Train: 100% 2000/2000 [00:34<00:00, 58.47 step/s, accuracy=0.94, loss=0.38, step=438000]\n",
            "Valid: 100% 8480/8500 [00:01<00:00, 5501.19 uttr/s, accuracy=0.84, loss=0.73]\n",
            "Train: 100% 2000/2000 [00:33<00:00, 59.01 step/s, accuracy=0.88, loss=0.37, step=440000]\n",
            "Valid: 100% 8480/8500 [00:01<00:00, 5491.13 uttr/s, accuracy=0.83, loss=0.75]\n",
            "Train:   0% 0/2000 [00:00<?, ? step/s]\n",
            "\n",
            "                                                                                        \n",
            "Train:   1% 11/2000 [00:00<00:37, 53.15 step/s, accuracy=0.91, loss=0.30, step=440011]"
          ]
        },
        {
          "name": "stdout",
          "output_type": "stream",
          "text": [
            "Step 440000, best model saved. (accuracy=0.8384)\n"
          ]
        },
        {
          "name": "stderr",
          "output_type": "stream",
          "text": [
            "Train: 100% 2000/2000 [00:33<00:00, 58.96 step/s, accuracy=0.72, loss=0.99, step=442000]\n",
            "Valid: 100% 8480/8500 [00:01<00:00, 5479.10 uttr/s, accuracy=0.82, loss=0.78]\n",
            "Train: 100% 2000/2000 [00:34<00:00, 58.67 step/s, accuracy=0.94, loss=0.41, step=444000]\n",
            "Valid: 100% 8480/8500 [00:01<00:00, 5432.93 uttr/s, accuracy=0.83, loss=0.77]\n",
            "Train: 100% 2000/2000 [00:33<00:00, 59.13 step/s, accuracy=0.84, loss=0.36, step=446000]\n",
            "Valid: 100% 8480/8500 [00:01<00:00, 5484.64 uttr/s, accuracy=0.82, loss=0.78]\n",
            "Train: 100% 2000/2000 [00:34<00:00, 58.70 step/s, accuracy=0.88, loss=0.31, step=448000]\n",
            "Valid: 100% 8480/8500 [00:01<00:00, 5479.33 uttr/s, accuracy=0.83, loss=0.78]\n",
            "Train: 100% 2000/2000 [00:34<00:00, 58.45 step/s, accuracy=0.88, loss=0.40, step=450000]\n",
            "Valid: 100% 8480/8500 [00:01<00:00, 5539.93 uttr/s, accuracy=0.83, loss=0.77]\n",
            "Train:   0% 0/2000 [00:00<?, ? step/s]\n",
            "\n",
            "                                                                                        \n",
            "Train:   1% 11/2000 [00:00<00:35, 55.34 step/s, accuracy=0.84, loss=0.42, step=450011]"
          ]
        },
        {
          "name": "stdout",
          "output_type": "stream",
          "text": [
            "Step 450000, best model saved. (accuracy=0.8384)\n"
          ]
        },
        {
          "name": "stderr",
          "output_type": "stream",
          "text": [
            "Train: 100% 2000/2000 [00:33<00:00, 58.93 step/s, accuracy=0.97, loss=0.13, step=452000]\n",
            "Valid: 100% 8480/8500 [00:01<00:00, 5409.73 uttr/s, accuracy=0.83, loss=0.75]\n",
            "Train: 100% 2000/2000 [00:33<00:00, 58.86 step/s, accuracy=0.91, loss=0.13, step=454000]\n",
            "Valid: 100% 8480/8500 [00:01<00:00, 5492.75 uttr/s, accuracy=0.83, loss=0.75]\n",
            "Train: 100% 2000/2000 [00:33<00:00, 58.89 step/s, accuracy=0.97, loss=0.14, step=456000]\n",
            "Valid: 100% 8480/8500 [00:01<00:00, 5523.19 uttr/s, accuracy=0.83, loss=0.75]\n",
            "Train: 100% 2000/2000 [00:34<00:00, 58.60 step/s, accuracy=0.97, loss=0.12, step=458000]\n",
            "Valid: 100% 8480/8500 [00:01<00:00, 5494.46 uttr/s, accuracy=0.83, loss=0.75]\n",
            "Train: 100% 2000/2000 [00:33<00:00, 59.01 step/s, accuracy=0.91, loss=0.58, step=460000]\n",
            "Valid: 100% 8480/8500 [00:01<00:00, 5409.54 uttr/s, accuracy=0.83, loss=0.75]\n",
            "Train:   0% 0/2000 [00:00<?, ? step/s]\n",
            "\n",
            "                                                                                        \n",
            "Train:   1% 11/2000 [00:00<00:37, 52.73 step/s, accuracy=1.00, loss=0.11, step=460011]"
          ]
        },
        {
          "name": "stdout",
          "output_type": "stream",
          "text": [
            "Step 460000, best model saved. (accuracy=0.8384)\n"
          ]
        },
        {
          "name": "stderr",
          "output_type": "stream",
          "text": [
            "Train: 100% 2000/2000 [00:33<00:00, 58.91 step/s, accuracy=0.88, loss=0.32, step=462000]\n",
            "Valid: 100% 8480/8500 [00:01<00:00, 5504.62 uttr/s, accuracy=0.82, loss=0.82]\n",
            "Train: 100% 2000/2000 [00:34<00:00, 58.44 step/s, accuracy=0.88, loss=0.47, step=464000]\n",
            "Valid: 100% 8480/8500 [00:01<00:00, 5432.15 uttr/s, accuracy=0.83, loss=0.78]\n",
            "Train: 100% 2000/2000 [00:33<00:00, 58.95 step/s, accuracy=0.94, loss=0.43, step=466000]\n",
            "Valid: 100% 8480/8500 [00:01<00:00, 5679.07 uttr/s, accuracy=0.84, loss=0.74]\n",
            "Train: 100% 2000/2000 [00:33<00:00, 58.87 step/s, accuracy=0.97, loss=0.12, step=468000]\n",
            "Valid: 100% 8480/8500 [00:01<00:00, 5456.60 uttr/s, accuracy=0.84, loss=0.72]\n",
            "Train: 100% 2000/2000 [00:34<00:00, 58.57 step/s, accuracy=0.94, loss=0.37, step=470000]\n",
            "Valid: 100% 8480/8500 [00:01<00:00, 5613.26 uttr/s, accuracy=0.83, loss=0.78]\n",
            "Train:   0% 0/2000 [00:00<?, ? step/s]\n",
            "\n",
            "                                                                                        \n",
            "Train:   1% 11/2000 [00:00<00:35, 55.37 step/s, accuracy=0.91, loss=0.42, step=470011]"
          ]
        },
        {
          "name": "stdout",
          "output_type": "stream",
          "text": [
            "Step 470000, best model saved. (accuracy=0.8384)\n"
          ]
        },
        {
          "name": "stderr",
          "output_type": "stream",
          "text": [
            "Train: 100% 2000/2000 [00:33<00:00, 59.02 step/s, accuracy=0.88, loss=0.38, step=472000]\n",
            "Valid: 100% 8480/8500 [00:01<00:00, 5491.35 uttr/s, accuracy=0.83, loss=0.78]\n",
            "Train: 100% 2000/2000 [00:33<00:00, 59.01 step/s, accuracy=0.94, loss=0.23, step=474000]\n",
            "Valid: 100% 8480/8500 [00:01<00:00, 5543.71 uttr/s, accuracy=0.82, loss=0.79]\n",
            "Train: 100% 2000/2000 [00:34<00:00, 58.42 step/s, accuracy=0.94, loss=0.20, step=476000]\n",
            "Valid: 100% 8480/8500 [00:01<00:00, 5447.29 uttr/s, accuracy=0.83, loss=0.77]\n",
            "Train: 100% 2000/2000 [00:34<00:00, 58.66 step/s, accuracy=1.00, loss=0.07, step=478000]\n",
            "Valid: 100% 8480/8500 [00:01<00:00, 5539.59 uttr/s, accuracy=0.83, loss=0.76]\n",
            "Train: 100% 2000/2000 [00:33<00:00, 58.94 step/s, accuracy=0.88, loss=0.36, step=480000]\n",
            "Valid: 100% 8480/8500 [00:01<00:00, 5456.73 uttr/s, accuracy=0.84, loss=0.76]\n",
            "Train:   0% 0/2000 [00:00<?, ? step/s]\n",
            "\n",
            "                                                                                        \n",
            "Train:   1% 11/2000 [00:00<00:36, 55.16 step/s, accuracy=0.88, loss=0.38, step=480011]"
          ]
        },
        {
          "name": "stdout",
          "output_type": "stream",
          "text": [
            "Step 480000, best model saved. (accuracy=0.8384)\n"
          ]
        },
        {
          "name": "stderr",
          "output_type": "stream",
          "text": [
            "Train: 100% 2000/2000 [00:34<00:00, 58.26 step/s, accuracy=0.88, loss=0.19, step=482000]\n",
            "Valid: 100% 8480/8500 [00:01<00:00, 4894.70 uttr/s, accuracy=0.83, loss=0.76]\n",
            "Train: 100% 2000/2000 [00:33<00:00, 59.02 step/s, accuracy=0.88, loss=0.35, step=484000]\n",
            "Valid: 100% 8480/8500 [00:01<00:00, 5469.76 uttr/s, accuracy=0.83, loss=0.79]\n",
            "Train: 100% 2000/2000 [00:33<00:00, 58.96 step/s, accuracy=0.91, loss=0.45, step=486000]\n",
            "Valid: 100% 8480/8500 [00:01<00:00, 5602.47 uttr/s, accuracy=0.84, loss=0.75]\n",
            "Train: 100% 2000/2000 [00:34<00:00, 58.51 step/s, accuracy=0.97, loss=0.14, step=488000]\n",
            "Valid: 100% 8480/8500 [00:01<00:00, 5496.78 uttr/s, accuracy=0.83, loss=0.75]\n",
            "Train: 100% 2000/2000 [00:34<00:00, 58.72 step/s, accuracy=0.91, loss=0.29, step=490000]\n",
            "Valid: 100% 8480/8500 [00:01<00:00, 5401.78 uttr/s, accuracy=0.83, loss=0.77]\n",
            "Train:   0% 0/2000 [00:00<?, ? step/s]\n",
            "\n",
            "                                                                                        \n",
            "Train:   1% 11/2000 [00:00<00:37, 52.70 step/s, accuracy=1.00, loss=0.13, step=490011]"
          ]
        },
        {
          "name": "stdout",
          "output_type": "stream",
          "text": [
            "Step 490000, best model saved. (accuracy=0.8384)\n"
          ]
        },
        {
          "name": "stderr",
          "output_type": "stream",
          "text": [
            "Train: 100% 2000/2000 [00:34<00:00, 58.28 step/s, accuracy=0.78, loss=0.75, step=492000]\n",
            "Valid: 100% 8480/8500 [00:01<00:00, 5450.10 uttr/s, accuracy=0.84, loss=0.74]\n",
            "Train: 100% 2000/2000 [00:34<00:00, 58.09 step/s, accuracy=0.97, loss=0.16, step=494000]\n",
            "Valid: 100% 8480/8500 [00:01<00:00, 5470.07 uttr/s, accuracy=0.83, loss=0.75]\n",
            "Train: 100% 2000/2000 [00:33<00:00, 58.97 step/s, accuracy=0.84, loss=0.32, step=496000]\n",
            "Valid: 100% 8480/8500 [00:01<00:00, 5429.73 uttr/s, accuracy=0.83, loss=0.77]\n",
            "Train: 100% 2000/2000 [00:33<00:00, 59.02 step/s, accuracy=0.88, loss=0.25, step=498000]\n",
            "Valid: 100% 8480/8500 [00:01<00:00, 5442.24 uttr/s, accuracy=0.83, loss=0.77]\n",
            "Train: 100% 2000/2000 [00:34<00:00, 58.58 step/s, accuracy=0.91, loss=0.26, step=5e+5]  \n",
            "Valid: 100% 8480/8500 [00:01<00:00, 5436.58 uttr/s, accuracy=0.84, loss=0.76]\n",
            "Train:   0% 0/2000 [00:00<?, ? step/s]\n",
            "\n",
            "                                                                                        \n",
            "Train:   1% 11/2000 [00:00<00:35, 55.63 step/s, accuracy=0.91, loss=0.27, step=5e+5]"
          ]
        },
        {
          "name": "stdout",
          "output_type": "stream",
          "text": [
            "Step 500000, best model saved. (accuracy=0.8384)\n"
          ]
        },
        {
          "name": "stderr",
          "output_type": "stream",
          "text": [
            "Train: 100% 2000/2000 [00:33<00:00, 58.83 step/s, accuracy=0.91, loss=0.17, step=502000]\n",
            "Valid: 100% 8480/8500 [00:01<00:00, 5644.33 uttr/s, accuracy=0.84, loss=0.71]\n",
            "Train: 100% 2000/2000 [00:33<00:00, 59.35 step/s, accuracy=0.91, loss=0.23, step=504000]\n",
            "Valid: 100% 8480/8500 [00:01<00:00, 5763.66 uttr/s, accuracy=0.83, loss=0.77]\n",
            "Train: 100% 2000/2000 [00:33<00:00, 59.00 step/s, accuracy=0.91, loss=0.20, step=506000]\n",
            "Valid: 100% 8480/8500 [00:01<00:00, 5766.27 uttr/s, accuracy=0.83, loss=0.77]\n",
            "Train: 100% 2000/2000 [00:33<00:00, 59.37 step/s, accuracy=0.88, loss=0.46, step=508000]\n",
            "Valid: 100% 8480/8500 [00:01<00:00, 5713.39 uttr/s, accuracy=0.84, loss=0.72]\n",
            "Train: 100% 2000/2000 [00:33<00:00, 59.37 step/s, accuracy=0.84, loss=0.40, step=510000]\n",
            "Valid: 100% 8480/8500 [00:01<00:00, 5662.62 uttr/s, accuracy=0.84, loss=0.72]\n",
            "Train:   0% 0/2000 [00:00<?, ? step/s]\n",
            "\n",
            "                                                                                        \n",
            "Train:   1% 12/2000 [00:00<00:34, 58.29 step/s, accuracy=0.94, loss=0.24, step=510011]"
          ]
        },
        {
          "name": "stdout",
          "output_type": "stream",
          "text": [
            "Step 510000, best model saved. (accuracy=0.8439)\n"
          ]
        },
        {
          "name": "stderr",
          "output_type": "stream",
          "text": [
            "Train: 100% 2000/2000 [00:33<00:00, 58.98 step/s, accuracy=0.94, loss=0.15, step=512000]\n",
            "Valid: 100% 8480/8500 [00:01<00:00, 5755.37 uttr/s, accuracy=0.84, loss=0.73]\n",
            "Train: 100% 2000/2000 [00:33<00:00, 59.42 step/s, accuracy=0.91, loss=0.26, step=514000]\n",
            "Valid: 100% 8480/8500 [00:01<00:00, 5695.73 uttr/s, accuracy=0.84, loss=0.74]\n",
            "Train: 100% 2000/2000 [00:33<00:00, 59.43 step/s, accuracy=0.88, loss=0.36, step=516000]\n",
            "Valid: 100% 8480/8500 [00:01<00:00, 5745.33 uttr/s, accuracy=0.84, loss=0.71]\n",
            "Train: 100% 2000/2000 [00:33<00:00, 59.02 step/s, accuracy=0.88, loss=0.42, step=518000]\n",
            "Valid: 100% 8480/8500 [00:01<00:00, 5712.88 uttr/s, accuracy=0.84, loss=0.73]\n",
            "Train: 100% 2000/2000 [00:33<00:00, 59.48 step/s, accuracy=0.94, loss=0.25, step=520000]\n",
            "Valid: 100% 8480/8500 [00:01<00:00, 5713.81 uttr/s, accuracy=0.83, loss=0.77]\n",
            "Train:   0% 0/2000 [00:00<?, ? step/s]\n",
            "\n",
            "                                                                                        \n",
            "Train:   1% 12/2000 [00:00<00:34, 56.88 step/s, accuracy=0.88, loss=0.32, step=520012]"
          ]
        },
        {
          "name": "stdout",
          "output_type": "stream",
          "text": [
            "Step 520000, best model saved. (accuracy=0.8439)\n"
          ]
        },
        {
          "name": "stderr",
          "output_type": "stream",
          "text": [
            "Train: 100% 2000/2000 [00:33<00:00, 59.36 step/s, accuracy=0.94, loss=0.26, step=522000]\n",
            "Valid: 100% 8480/8500 [00:01<00:00, 5676.54 uttr/s, accuracy=0.84, loss=0.73]\n",
            "Train: 100% 2000/2000 [00:33<00:00, 58.98 step/s, accuracy=0.94, loss=0.31, step=524000]\n",
            "Valid: 100% 8480/8500 [00:01<00:00, 5759.52 uttr/s, accuracy=0.84, loss=0.73]\n",
            "Train: 100% 2000/2000 [00:33<00:00, 59.36 step/s, accuracy=0.91, loss=0.23, step=526000]\n",
            "Valid: 100% 8480/8500 [00:01<00:00, 5820.56 uttr/s, accuracy=0.83, loss=0.74]\n",
            "Train: 100% 2000/2000 [00:33<00:00, 59.38 step/s, accuracy=0.88, loss=0.49, step=528000]\n",
            "Valid: 100% 8480/8500 [00:01<00:00, 5774.91 uttr/s, accuracy=0.84, loss=0.71]\n",
            "Train: 100% 2000/2000 [00:33<00:00, 58.93 step/s, accuracy=0.94, loss=0.24, step=530000]\n",
            "Valid: 100% 8480/8500 [00:01<00:00, 5802.78 uttr/s, accuracy=0.83, loss=0.72]\n",
            "Train:   0% 0/2000 [00:00<?, ? step/s]\n",
            "\n",
            "                                                                                        \n",
            "Train:   1% 11/2000 [00:00<00:35, 55.73 step/s, accuracy=0.94, loss=0.22, step=530011]"
          ]
        },
        {
          "name": "stdout",
          "output_type": "stream",
          "text": [
            "Step 530000, best model saved. (accuracy=0.8439)\n"
          ]
        },
        {
          "name": "stderr",
          "output_type": "stream",
          "text": [
            "Train: 100% 2000/2000 [00:33<00:00, 59.47 step/s, accuracy=0.97, loss=0.17, step=532000]\n",
            "Valid: 100% 8480/8500 [00:01<00:00, 5694.34 uttr/s, accuracy=0.83, loss=0.77]\n",
            "Train: 100% 2000/2000 [00:33<00:00, 59.33 step/s, accuracy=0.84, loss=0.43, step=534000]\n",
            "Valid: 100% 8480/8500 [00:01<00:00, 5727.97 uttr/s, accuracy=0.84, loss=0.71]\n",
            "Train: 100% 2000/2000 [00:33<00:00, 58.96 step/s, accuracy=0.88, loss=0.29, step=536000]\n",
            "Valid: 100% 8480/8500 [00:01<00:00, 5260.20 uttr/s, accuracy=0.82, loss=0.80]\n",
            "Train: 100% 2000/2000 [00:33<00:00, 59.31 step/s, accuracy=1.00, loss=0.06, step=538000]\n",
            "Valid: 100% 8480/8500 [00:01<00:00, 5782.05 uttr/s, accuracy=0.84, loss=0.72]\n",
            "Train: 100% 2000/2000 [00:33<00:00, 59.41 step/s, accuracy=0.97, loss=0.14, step=540000]\n",
            "Valid: 100% 8480/8500 [00:01<00:00, 5812.87 uttr/s, accuracy=0.84, loss=0.75]\n",
            "Train:   0% 0/2000 [00:00<?, ? step/s]\n",
            "\n",
            "                                                                                        \n",
            "Train:   1% 11/2000 [00:00<00:35, 55.85 step/s, accuracy=0.94, loss=0.13, step=540011]"
          ]
        },
        {
          "name": "stdout",
          "output_type": "stream",
          "text": [
            "Step 540000, best model saved. (accuracy=0.8439)\n"
          ]
        },
        {
          "name": "stderr",
          "output_type": "stream",
          "text": [
            "Train: 100% 2000/2000 [00:33<00:00, 58.97 step/s, accuracy=0.94, loss=0.08, step=542000]\n",
            "Valid: 100% 8480/8500 [00:01<00:00, 5716.61 uttr/s, accuracy=0.84, loss=0.74]\n",
            "Train: 100% 2000/2000 [00:33<00:00, 59.39 step/s, accuracy=0.84, loss=0.46, step=544000]\n",
            "Valid: 100% 8480/8500 [00:01<00:00, 5762.23 uttr/s, accuracy=0.84, loss=0.74]\n",
            "Train: 100% 2000/2000 [00:33<00:00, 59.38 step/s, accuracy=0.91, loss=0.31, step=546000]\n",
            "Valid: 100% 8480/8500 [00:01<00:00, 5767.78 uttr/s, accuracy=0.85, loss=0.70]\n",
            "Train: 100% 2000/2000 [00:33<00:00, 59.06 step/s, accuracy=0.94, loss=0.23, step=548000]\n",
            "Valid: 100% 8480/8500 [00:01<00:00, 5691.92 uttr/s, accuracy=0.84, loss=0.72]\n",
            "Train: 100% 2000/2000 [00:33<00:00, 59.30 step/s, accuracy=0.84, loss=0.28, step=550000]\n",
            "Valid: 100% 8480/8500 [00:01<00:00, 5820.34 uttr/s, accuracy=0.85, loss=0.71]\n",
            "Train:   0% 0/2000 [00:00<?, ? step/s]\n",
            "\n",
            "                                                                                        \n",
            "Train:   1% 11/2000 [00:00<00:35, 56.07 step/s, accuracy=0.94, loss=0.21, step=550011]"
          ]
        },
        {
          "name": "stdout",
          "output_type": "stream",
          "text": [
            "Step 550000, best model saved. (accuracy=0.8483)\n"
          ]
        },
        {
          "name": "stderr",
          "output_type": "stream",
          "text": [
            "Train: 100% 2000/2000 [00:33<00:00, 59.30 step/s, accuracy=0.94, loss=0.19, step=552000]\n",
            "Valid: 100% 8480/8500 [00:01<00:00, 5796.65 uttr/s, accuracy=0.85, loss=0.70]\n",
            "Train: 100% 2000/2000 [00:33<00:00, 59.02 step/s, accuracy=0.97, loss=0.29, step=554000]\n",
            "Valid: 100% 8480/8500 [00:01<00:00, 5699.37 uttr/s, accuracy=0.83, loss=0.76]\n",
            "Train: 100% 2000/2000 [00:33<00:00, 59.33 step/s, accuracy=0.91, loss=0.34, step=556000]\n",
            "Valid: 100% 8480/8500 [00:01<00:00, 5682.60 uttr/s, accuracy=0.85, loss=0.71]\n",
            "Train: 100% 2000/2000 [00:34<00:00, 58.72 step/s, accuracy=0.97, loss=0.13, step=558000]\n",
            "Valid: 100% 8480/8500 [00:01<00:00, 5754.56 uttr/s, accuracy=0.83, loss=0.77]\n",
            "Train: 100% 2000/2000 [00:33<00:00, 59.00 step/s, accuracy=0.91, loss=0.42, step=560000]\n",
            "Valid: 100% 8480/8500 [00:01<00:00, 5819.34 uttr/s, accuracy=0.85, loss=0.72]\n",
            "Train:   0% 0/2000 [00:00<?, ? step/s]\n",
            "\n",
            "                                                                                        \n",
            "Train:   1% 11/2000 [00:00<00:35, 56.07 step/s, accuracy=0.84, loss=0.40, step=560011]"
          ]
        },
        {
          "name": "stdout",
          "output_type": "stream",
          "text": [
            "Step 560000, best model saved. (accuracy=0.8488)\n"
          ]
        },
        {
          "name": "stderr",
          "output_type": "stream",
          "text": [
            "Train: 100% 2000/2000 [00:33<00:00, 59.38 step/s, accuracy=1.00, loss=0.07, step=562000]\n",
            "Valid: 100% 8480/8500 [00:01<00:00, 5743.13 uttr/s, accuracy=0.84, loss=0.73]\n",
            "Train: 100% 2000/2000 [00:33<00:00, 59.33 step/s, accuracy=0.81, loss=0.45, step=564000]\n",
            "Valid: 100% 8480/8500 [00:01<00:00, 5750.88 uttr/s, accuracy=0.84, loss=0.72]\n",
            "Train: 100% 2000/2000 [00:33<00:00, 58.92 step/s, accuracy=0.97, loss=0.11, step=566000]\n",
            "Valid: 100% 8480/8500 [00:01<00:00, 5787.65 uttr/s, accuracy=0.84, loss=0.73]\n",
            "Train: 100% 2000/2000 [00:33<00:00, 59.31 step/s, accuracy=0.84, loss=0.30, step=568000]\n",
            "Valid: 100% 8480/8500 [00:01<00:00, 5782.89 uttr/s, accuracy=0.84, loss=0.73]\n",
            "Train: 100% 2000/2000 [00:33<00:00, 59.36 step/s, accuracy=0.94, loss=0.23, step=570000]\n",
            "Valid: 100% 8480/8500 [00:01<00:00, 5723.24 uttr/s, accuracy=0.84, loss=0.73]\n",
            "Train:   0% 0/2000 [00:00<?, ? step/s]\n",
            "\n",
            "                                                                                        \n",
            "Train:   1% 11/2000 [00:00<00:35, 55.50 step/s, accuracy=0.88, loss=0.41, step=570011]"
          ]
        },
        {
          "name": "stdout",
          "output_type": "stream",
          "text": [
            "Step 570000, best model saved. (accuracy=0.8488)\n"
          ]
        },
        {
          "name": "stderr",
          "output_type": "stream",
          "text": [
            "Train: 100% 2000/2000 [00:33<00:00, 58.95 step/s, accuracy=0.94, loss=0.14, step=572000]\n",
            "Valid: 100% 8480/8500 [00:01<00:00, 5673.03 uttr/s, accuracy=0.84, loss=0.73]\n",
            "Train: 100% 2000/2000 [00:33<00:00, 59.40 step/s, accuracy=0.88, loss=0.40, step=574000]\n",
            "Valid: 100% 8480/8500 [00:01<00:00, 5717.50 uttr/s, accuracy=0.84, loss=0.76]\n",
            "Train: 100% 2000/2000 [00:33<00:00, 59.34 step/s, accuracy=0.94, loss=0.19, step=576000]\n",
            "Valid: 100% 8480/8500 [00:01<00:00, 5718.96 uttr/s, accuracy=0.83, loss=0.75]\n",
            "Train: 100% 2000/2000 [00:33<00:00, 59.02 step/s, accuracy=0.91, loss=0.19, step=578000]\n",
            "Valid: 100% 8480/8500 [00:01<00:00, 5706.02 uttr/s, accuracy=0.85, loss=0.71]\n",
            "Train: 100% 2000/2000 [00:33<00:00, 59.41 step/s, accuracy=0.91, loss=0.22, step=580000]\n",
            "Valid: 100% 8480/8500 [00:01<00:00, 5760.84 uttr/s, accuracy=0.84, loss=0.71]\n",
            "Train:   0% 0/2000 [00:00<?, ? step/s]\n",
            "\n",
            "                                                                                        \n",
            "Train:   1% 11/2000 [00:00<00:35, 55.66 step/s, accuracy=0.91, loss=0.30, step=580011]"
          ]
        },
        {
          "name": "stdout",
          "output_type": "stream",
          "text": [
            "Step 580000, best model saved. (accuracy=0.8491)\n"
          ]
        },
        {
          "name": "stderr",
          "output_type": "stream",
          "text": [
            "Train: 100% 2000/2000 [00:33<00:00, 59.34 step/s, accuracy=0.81, loss=0.38, step=582000]\n",
            "Valid: 100% 8480/8500 [00:01<00:00, 5757.16 uttr/s, accuracy=0.82, loss=0.82]\n",
            "Train: 100% 2000/2000 [00:33<00:00, 58.94 step/s, accuracy=0.91, loss=0.37, step=584000]\n",
            "Valid: 100% 8480/8500 [00:01<00:00, 5729.32 uttr/s, accuracy=0.84, loss=0.71]\n",
            "Train: 100% 2000/2000 [00:33<00:00, 59.34 step/s, accuracy=0.88, loss=0.78, step=586000]\n",
            "Valid: 100% 8480/8500 [00:01<00:00, 5759.12 uttr/s, accuracy=0.83, loss=0.76]\n",
            "Train: 100% 2000/2000 [00:33<00:00, 59.33 step/s, accuracy=0.91, loss=0.40, step=588000]\n",
            "Valid: 100% 8480/8500 [00:01<00:00, 5584.48 uttr/s, accuracy=0.84, loss=0.74]\n",
            "Train: 100% 2000/2000 [00:34<00:00, 58.80 step/s, accuracy=0.97, loss=0.09, step=590000]\n",
            "Valid: 100% 8480/8500 [00:01<00:00, 5737.07 uttr/s, accuracy=0.84, loss=0.73]\n",
            "Train:   0% 0/2000 [00:00<?, ? step/s]\n",
            "\n",
            "                                                                                        \n",
            "Train:   1% 12/2000 [00:00<00:35, 56.35 step/s, accuracy=0.94, loss=0.30, step=590012]"
          ]
        },
        {
          "name": "stdout",
          "output_type": "stream",
          "text": [
            "Step 590000, best model saved. (accuracy=0.8491)\n"
          ]
        },
        {
          "name": "stderr",
          "output_type": "stream",
          "text": [
            "Train: 100% 2000/2000 [00:33<00:00, 59.37 step/s, accuracy=0.91, loss=0.27, step=592000]\n",
            "Valid: 100% 8480/8500 [00:01<00:00, 5772.60 uttr/s, accuracy=0.84, loss=0.71]\n",
            "Train: 100% 2000/2000 [00:33<00:00, 59.41 step/s, accuracy=0.97, loss=0.12, step=594000]\n",
            "Valid: 100% 8480/8500 [00:01<00:00, 5828.51 uttr/s, accuracy=0.84, loss=0.73]\n",
            "Train: 100% 2000/2000 [00:33<00:00, 59.03 step/s, accuracy=0.97, loss=0.12, step=596000]\n",
            "Valid: 100% 8480/8500 [00:01<00:00, 5699.03 uttr/s, accuracy=0.84, loss=0.75]\n",
            "Train: 100% 2000/2000 [00:33<00:00, 59.26 step/s, accuracy=0.84, loss=0.48, step=598000]\n",
            "Valid: 100% 8480/8500 [00:01<00:00, 5771.49 uttr/s, accuracy=0.84, loss=0.74]\n",
            "Train: 100% 2000/2000 [00:33<00:00, 59.38 step/s, accuracy=1.00, loss=0.06, step=6e+5]  \n",
            "Valid: 100% 8480/8500 [00:01<00:00, 5656.69 uttr/s, accuracy=0.85, loss=0.72]\n",
            "Train:   0% 0/2000 [00:00<?, ? step/s]\n",
            "\n",
            "                                                                                        \n",
            "Train:   1% 11/2000 [00:00<00:35, 55.34 step/s, accuracy=0.91, loss=0.35, step=6e+5]"
          ]
        },
        {
          "name": "stdout",
          "output_type": "stream",
          "text": [
            "Step 600000, best model saved. (accuracy=0.8491)\n"
          ]
        },
        {
          "name": "stderr",
          "output_type": "stream",
          "text": [
            "Train: 100% 2000/2000 [00:33<00:00, 59.35 step/s, accuracy=0.88, loss=0.31, step=602000]\n",
            "Valid: 100% 8480/8500 [00:01<00:00, 5678.55 uttr/s, accuracy=0.83, loss=0.76]\n",
            "Train: 100% 2000/2000 [00:33<00:00, 58.93 step/s, accuracy=0.94, loss=0.18, step=604000]\n",
            "Valid: 100% 8480/8500 [00:01<00:00, 5715.60 uttr/s, accuracy=0.85, loss=0.71]\n",
            "Train: 100% 2000/2000 [00:33<00:00, 59.33 step/s, accuracy=0.91, loss=0.29, step=606000]\n",
            "Valid: 100% 8480/8500 [00:01<00:00, 5832.95 uttr/s, accuracy=0.84, loss=0.71]\n",
            "Train: 100% 2000/2000 [00:33<00:00, 59.43 step/s, accuracy=0.84, loss=0.32, step=608000]\n",
            "Valid: 100% 8480/8500 [00:01<00:00, 5748.20 uttr/s, accuracy=0.85, loss=0.70]\n",
            "Train: 100% 2000/2000 [00:33<00:00, 59.04 step/s, accuracy=0.97, loss=0.13, step=610000]\n",
            "Valid: 100% 8480/8500 [00:01<00:00, 5755.01 uttr/s, accuracy=0.84, loss=0.75]\n",
            "Train:   0% 0/2000 [00:00<?, ? step/s]\n",
            "\n",
            "                                                                                        \n",
            "Train:   1% 11/2000 [00:00<00:35, 55.75 step/s, accuracy=0.84, loss=0.47, step=610011]"
          ]
        },
        {
          "name": "stdout",
          "output_type": "stream",
          "text": [
            "Step 610000, best model saved. (accuracy=0.8491)\n"
          ]
        },
        {
          "name": "stderr",
          "output_type": "stream",
          "text": [
            "Train: 100% 2000/2000 [00:33<00:00, 59.31 step/s, accuracy=0.94, loss=0.30, step=612000]\n",
            "Valid: 100% 8480/8500 [00:01<00:00, 5819.03 uttr/s, accuracy=0.83, loss=0.79]\n",
            "Train: 100% 2000/2000 [00:33<00:00, 59.40 step/s, accuracy=0.97, loss=0.10, step=614000]\n",
            "Valid: 100% 8480/8500 [00:01<00:00, 5680.61 uttr/s, accuracy=0.85, loss=0.70]\n",
            "Train: 100% 2000/2000 [00:33<00:00, 58.99 step/s, accuracy=0.97, loss=0.13, step=616000]\n",
            "Valid: 100% 8480/8500 [00:01<00:00, 5748.26 uttr/s, accuracy=0.84, loss=0.74]\n",
            "Train: 100% 2000/2000 [00:33<00:00, 59.39 step/s, accuracy=0.84, loss=0.37, step=618000]\n",
            "Valid: 100% 8480/8500 [00:01<00:00, 5780.67 uttr/s, accuracy=0.85, loss=0.69]\n",
            "Train: 100% 2000/2000 [00:33<00:00, 59.41 step/s, accuracy=0.78, loss=0.84, step=620000]\n",
            "Valid: 100% 8480/8500 [00:01<00:00, 5754.99 uttr/s, accuracy=0.83, loss=0.77]\n",
            "Train:   0% 0/2000 [00:00<?, ? step/s]\n",
            "\n",
            "                                                                                        \n",
            "Train:   1% 11/2000 [00:00<00:35, 55.34 step/s, accuracy=0.91, loss=0.18, step=620011]"
          ]
        },
        {
          "name": "stdout",
          "output_type": "stream",
          "text": [
            "Step 620000, best model saved. (accuracy=0.8491)\n"
          ]
        },
        {
          "name": "stderr",
          "output_type": "stream",
          "text": [
            "Train: 100% 2000/2000 [00:33<00:00, 58.89 step/s, accuracy=1.00, loss=0.08, step=622000]\n",
            "Valid: 100% 8480/8500 [00:01<00:00, 5791.04 uttr/s, accuracy=0.83, loss=0.76]\n",
            "Train: 100% 2000/2000 [00:33<00:00, 59.37 step/s, accuracy=0.78, loss=0.75, step=624000]\n",
            "Valid: 100% 8480/8500 [00:01<00:00, 5684.80 uttr/s, accuracy=0.84, loss=0.73]\n",
            "Train: 100% 2000/2000 [00:33<00:00, 59.35 step/s, accuracy=0.94, loss=0.23, step=626000]\n",
            "Valid: 100% 8480/8500 [00:01<00:00, 5687.48 uttr/s, accuracy=0.85, loss=0.70]\n",
            "Train: 100% 2000/2000 [00:33<00:00, 58.99 step/s, accuracy=0.94, loss=0.20, step=628000]\n",
            "Valid: 100% 8480/8500 [00:01<00:00, 5781.00 uttr/s, accuracy=0.85, loss=0.70]\n",
            "Train: 100% 2000/2000 [00:33<00:00, 59.43 step/s, accuracy=0.91, loss=0.35, step=630000]\n",
            "Valid: 100% 8480/8500 [00:01<00:00, 5695.71 uttr/s, accuracy=0.85, loss=0.71]\n",
            "Train:   0% 0/2000 [00:00<?, ? step/s]\n",
            "\n",
            "                                                                                        \n",
            "Train:   1% 11/2000 [00:00<00:35, 56.10 step/s, accuracy=0.97, loss=0.07, step=630011]"
          ]
        },
        {
          "name": "stdout",
          "output_type": "stream",
          "text": [
            "Step 630000, best model saved. (accuracy=0.8491)\n"
          ]
        },
        {
          "name": "stderr",
          "output_type": "stream",
          "text": [
            "Train: 100% 2000/2000 [00:33<00:00, 59.33 step/s, accuracy=0.91, loss=0.33, step=632000]\n",
            "Valid: 100% 8480/8500 [00:01<00:00, 5745.35 uttr/s, accuracy=0.86, loss=0.65]\n",
            "Train: 100% 2000/2000 [00:33<00:00, 58.95 step/s, accuracy=0.94, loss=0.22, step=634000]\n",
            "Valid: 100% 8480/8500 [00:01<00:00, 5720.02 uttr/s, accuracy=0.85, loss=0.70]\n",
            "Train: 100% 2000/2000 [00:33<00:00, 59.34 step/s, accuracy=0.97, loss=0.12, step=636000]\n",
            "Valid: 100% 8480/8500 [00:01<00:00, 5868.75 uttr/s, accuracy=0.85, loss=0.71]\n",
            "Train: 100% 2000/2000 [00:33<00:00, 59.33 step/s, accuracy=0.91, loss=0.24, step=638000]\n",
            "Valid: 100% 8480/8500 [00:01<00:00, 5730.10 uttr/s, accuracy=0.84, loss=0.73]\n",
            "Train: 100% 2000/2000 [00:33<00:00, 58.97 step/s, accuracy=0.97, loss=0.16, step=640000]\n",
            "Valid: 100% 8480/8500 [00:01<00:00, 5730.02 uttr/s, accuracy=0.85, loss=0.68]\n",
            "Train:   0% 0/2000 [00:00<?, ? step/s]\n",
            "\n",
            "                                                                                        \n",
            "Train:   1% 11/2000 [00:00<00:35, 55.63 step/s, accuracy=0.91, loss=0.25, step=640011]"
          ]
        },
        {
          "name": "stdout",
          "output_type": "stream",
          "text": [
            "Step 640000, best model saved. (accuracy=0.8586)\n"
          ]
        },
        {
          "name": "stderr",
          "output_type": "stream",
          "text": [
            "Train: 100% 2000/2000 [00:33<00:00, 59.21 step/s, accuracy=0.94, loss=0.15, step=642000]\n",
            "Valid: 100% 8480/8500 [00:01<00:00, 5758.25 uttr/s, accuracy=0.84, loss=0.74]\n",
            "Train: 100% 2000/2000 [00:33<00:00, 59.42 step/s, accuracy=0.91, loss=0.28, step=644000]\n",
            "Valid: 100% 8480/8500 [00:01<00:00, 5736.99 uttr/s, accuracy=0.84, loss=0.71]\n",
            "Train: 100% 2000/2000 [00:33<00:00, 58.96 step/s, accuracy=0.91, loss=0.64, step=646000]\n",
            "Valid: 100% 8480/8500 [00:01<00:00, 5715.95 uttr/s, accuracy=0.85, loss=0.72]\n",
            "Train: 100% 2000/2000 [00:33<00:00, 59.38 step/s, accuracy=1.00, loss=0.08, step=648000]\n",
            "Valid: 100% 8480/8500 [00:01<00:00, 5834.27 uttr/s, accuracy=0.84, loss=0.74]\n",
            "Train: 100% 2000/2000 [00:33<00:00, 59.37 step/s, accuracy=0.94, loss=0.27, step=650000]\n",
            "Valid: 100% 8480/8500 [00:01<00:00, 5811.54 uttr/s, accuracy=0.85, loss=0.69]\n",
            "Train:   0% 0/2000 [00:00<?, ? step/s]\n",
            "\n",
            "                                                                                        \n",
            "Train:   1% 11/2000 [00:00<00:36, 54.21 step/s, accuracy=0.91, loss=0.20, step=650011]"
          ]
        },
        {
          "name": "stdout",
          "output_type": "stream",
          "text": [
            "Step 650000, best model saved. (accuracy=0.8586)\n"
          ]
        },
        {
          "name": "stderr",
          "output_type": "stream",
          "text": [
            "Train: 100% 2000/2000 [00:33<00:00, 59.00 step/s, accuracy=0.81, loss=0.47, step=652000]\n",
            "Valid: 100% 8480/8500 [00:01<00:00, 5730.35 uttr/s, accuracy=0.84, loss=0.70]\n",
            "Train: 100% 2000/2000 [00:33<00:00, 59.42 step/s, accuracy=1.00, loss=0.10, step=654000]\n",
            "Valid: 100% 8480/8500 [00:01<00:00, 5698.02 uttr/s, accuracy=0.85, loss=0.67]\n",
            "Train: 100% 2000/2000 [00:33<00:00, 59.38 step/s, accuracy=0.88, loss=0.38, step=656000]\n",
            "Valid: 100% 8480/8500 [00:01<00:00, 5737.35 uttr/s, accuracy=0.85, loss=0.71]\n",
            "Train: 100% 2000/2000 [00:33<00:00, 59.02 step/s, accuracy=0.97, loss=0.12, step=658000]\n",
            "Valid: 100% 8480/8500 [00:01<00:00, 5762.47 uttr/s, accuracy=0.85, loss=0.69]\n",
            "Train: 100% 2000/2000 [00:33<00:00, 59.36 step/s, accuracy=0.91, loss=0.41, step=660000]\n",
            "Valid: 100% 8480/8500 [00:01<00:00, 5810.00 uttr/s, accuracy=0.84, loss=0.75]\n",
            "Train:   0% 0/2000 [00:00<?, ? step/s]\n",
            "\n",
            "                                                                                        \n",
            "Train:   1% 11/2000 [00:00<00:37, 53.01 step/s, accuracy=0.97, loss=0.08, step=660011]"
          ]
        },
        {
          "name": "stdout",
          "output_type": "stream",
          "text": [
            "Step 660000, best model saved. (accuracy=0.8586)\n"
          ]
        },
        {
          "name": "stderr",
          "output_type": "stream",
          "text": [
            "Train: 100% 2000/2000 [00:33<00:00, 59.35 step/s, accuracy=0.94, loss=0.34, step=662000]\n",
            "Valid: 100% 8480/8500 [00:01<00:00, 5817.21 uttr/s, accuracy=0.85, loss=0.70]\n",
            "Train: 100% 2000/2000 [00:33<00:00, 58.97 step/s, accuracy=0.97, loss=0.17, step=664000]\n",
            "Valid: 100% 8480/8500 [00:01<00:00, 5748.02 uttr/s, accuracy=0.85, loss=0.70]\n",
            "Train: 100% 2000/2000 [00:33<00:00, 59.33 step/s, accuracy=1.00, loss=0.10, step=666000]\n",
            "Valid: 100% 8480/8500 [00:01<00:00, 5767.02 uttr/s, accuracy=0.85, loss=0.71]\n",
            "Train: 100% 2000/2000 [00:33<00:00, 59.44 step/s, accuracy=0.94, loss=0.15, step=668000]\n",
            "Valid: 100% 8480/8500 [00:01<00:00, 5792.55 uttr/s, accuracy=0.85, loss=0.68]\n",
            "Train: 100% 2000/2000 [00:33<00:00, 58.99 step/s, accuracy=0.97, loss=0.17, step=670000]\n",
            "Valid: 100% 8480/8500 [00:01<00:00, 5734.98 uttr/s, accuracy=0.85, loss=0.70]\n",
            "Train:   0% 0/2000 [00:00<?, ? step/s]\n",
            "\n",
            "                                                                                        \n",
            "Train:   1% 12/2000 [00:00<00:34, 58.40 step/s, accuracy=0.88, loss=0.35, step=670012]"
          ]
        },
        {
          "name": "stdout",
          "output_type": "stream",
          "text": [
            "Step 670000, best model saved. (accuracy=0.8586)\n"
          ]
        },
        {
          "name": "stderr",
          "output_type": "stream",
          "text": [
            "Train: 100% 2000/2000 [00:33<00:00, 59.40 step/s, accuracy=1.00, loss=0.09, step=672000]\n",
            "Valid: 100% 8480/8500 [00:01<00:00, 5621.61 uttr/s, accuracy=0.85, loss=0.67]\n",
            "Train: 100% 2000/2000 [00:33<00:00, 59.36 step/s, accuracy=0.94, loss=0.13, step=674000]\n",
            "Valid: 100% 8480/8500 [00:01<00:00, 5775.40 uttr/s, accuracy=0.85, loss=0.69]\n",
            "Train: 100% 2000/2000 [00:33<00:00, 58.89 step/s, accuracy=0.91, loss=0.33, step=676000]\n",
            "Valid: 100% 8480/8500 [00:01<00:00, 5813.85 uttr/s, accuracy=0.86, loss=0.67]\n",
            "Train: 100% 2000/2000 [00:33<00:00, 59.38 step/s, accuracy=0.97, loss=0.14, step=678000]\n",
            "Valid: 100% 8480/8500 [00:01<00:00, 5717.52 uttr/s, accuracy=0.85, loss=0.70]\n",
            "Train: 100% 2000/2000 [00:33<00:00, 59.44 step/s, accuracy=0.97, loss=0.18, step=680000]\n",
            "Valid: 100% 8480/8500 [00:01<00:00, 5749.82 uttr/s, accuracy=0.84, loss=0.73]\n",
            "Train:   0% 0/2000 [00:00<?, ? step/s]\n",
            "\n",
            "                                                                                        \n",
            "Train:   1% 12/2000 [00:00<00:33, 58.47 step/s, accuracy=0.91, loss=0.34, step=680012]"
          ]
        },
        {
          "name": "stdout",
          "output_type": "stream",
          "text": [
            "Step 680000, best model saved. (accuracy=0.8586)\n"
          ]
        },
        {
          "name": "stderr",
          "output_type": "stream",
          "text": [
            "Train: 100% 2000/2000 [00:33<00:00, 59.01 step/s, accuracy=0.97, loss=0.18, step=682000]\n",
            "Valid: 100% 8480/8500 [00:01<00:00, 5737.08 uttr/s, accuracy=0.85, loss=0.69]\n",
            "Train: 100% 2000/2000 [00:33<00:00, 59.37 step/s, accuracy=0.94, loss=0.27, step=684000]\n",
            "Valid: 100% 8480/8500 [00:01<00:00, 5728.00 uttr/s, accuracy=0.84, loss=0.76]\n",
            "Train: 100% 2000/2000 [00:33<00:00, 59.34 step/s, accuracy=0.88, loss=0.33, step=686000]\n",
            "Valid: 100% 8480/8500 [00:01<00:00, 5778.47 uttr/s, accuracy=0.85, loss=0.72]\n",
            "Train: 100% 2000/2000 [00:33<00:00, 59.00 step/s, accuracy=0.81, loss=0.51, step=688000]\n",
            "Valid: 100% 8480/8500 [00:01<00:00, 5736.96 uttr/s, accuracy=0.85, loss=0.70]\n",
            "Train: 100% 2000/2000 [00:33<00:00, 59.34 step/s, accuracy=0.84, loss=0.44, step=690000]\n",
            "Valid: 100% 8480/8500 [00:01<00:00, 5811.17 uttr/s, accuracy=0.85, loss=0.67]\n",
            "Train:   0% 0/2000 [00:00<?, ? step/s]\n",
            "\n",
            "                                                                                        \n",
            "Train:   1% 12/2000 [00:00<00:34, 58.21 step/s, accuracy=0.97, loss=0.14, step=690011]"
          ]
        },
        {
          "name": "stdout",
          "output_type": "stream",
          "text": [
            "Step 690000, best model saved. (accuracy=0.8586)\n"
          ]
        },
        {
          "name": "stderr",
          "output_type": "stream",
          "text": [
            "Train: 100% 2000/2000 [00:33<00:00, 59.33 step/s, accuracy=0.94, loss=0.46, step=692000]\n",
            "Valid: 100% 8480/8500 [00:01<00:00, 5790.96 uttr/s, accuracy=0.85, loss=0.69]\n",
            "Train: 100% 2000/2000 [00:33<00:00, 59.08 step/s, accuracy=0.94, loss=0.28, step=694000]\n",
            "Valid: 100% 8480/8500 [00:01<00:00, 5711.20 uttr/s, accuracy=0.84, loss=0.71]\n",
            "Train: 100% 2000/2000 [00:33<00:00, 59.37 step/s, accuracy=0.94, loss=0.34, step=696000]\n",
            "Valid: 100% 8480/8500 [00:01<00:00, 5122.17 uttr/s, accuracy=0.85, loss=0.71]\n",
            "Train: 100% 2000/2000 [00:33<00:00, 59.33 step/s, accuracy=0.91, loss=0.32, step=698000]\n",
            "Valid: 100% 8480/8500 [00:01<00:00, 5697.78 uttr/s, accuracy=0.85, loss=0.71]\n",
            "Train: 100% 2000/2000 [00:33<00:00, 58.92 step/s, accuracy=0.94, loss=0.18, step=7e+5]  \n",
            "Valid: 100% 8480/8500 [00:01<00:00, 5785.97 uttr/s, accuracy=0.84, loss=0.74]\n",
            "Train:   0% 0/2000 [00:00<?, ? step/s]\n",
            "\n",
            "                                                                                        \n",
            "Train:   1% 11/2000 [00:00<00:35, 55.42 step/s, accuracy=0.97, loss=0.08, step=7e+5]"
          ]
        },
        {
          "name": "stdout",
          "output_type": "stream",
          "text": [
            "Step 700000, best model saved. (accuracy=0.8586)\n"
          ]
        },
        {
          "name": "stderr",
          "output_type": "stream",
          "text": [
            "Train: 100% 2000/2000 [00:33<00:00, 59.36 step/s, accuracy=0.91, loss=0.31, step=702000]\n",
            "Valid: 100% 8480/8500 [00:01<00:00, 5821.48 uttr/s, accuracy=0.85, loss=0.70]\n",
            "Train: 100% 2000/2000 [00:33<00:00, 59.40 step/s, accuracy=0.94, loss=0.36, step=704000]\n",
            "Valid: 100% 8480/8500 [00:01<00:00, 5732.43 uttr/s, accuracy=0.85, loss=0.71]\n",
            "Train: 100% 2000/2000 [00:33<00:00, 59.05 step/s, accuracy=0.94, loss=0.23, step=706000]\n",
            "Valid: 100% 8480/8500 [00:01<00:00, 5803.14 uttr/s, accuracy=0.85, loss=0.72]\n",
            "Train: 100% 2000/2000 [00:33<00:00, 59.34 step/s, accuracy=1.00, loss=0.07, step=708000]\n",
            "Valid: 100% 8480/8500 [00:01<00:00, 5754.78 uttr/s, accuracy=0.85, loss=0.70]\n",
            "Train: 100% 2000/2000 [00:33<00:00, 59.42 step/s, accuracy=0.84, loss=0.32, step=710000]\n",
            "Valid: 100% 8480/8500 [00:01<00:00, 5782.25 uttr/s, accuracy=0.84, loss=0.72]\n",
            "Train:   0% 0/2000 [00:00<?, ? step/s]\n",
            "\n",
            "                                                                                        \n",
            "Train:   1% 12/2000 [00:00<00:35, 56.47 step/s, accuracy=0.84, loss=0.57, step=710012]"
          ]
        },
        {
          "name": "stdout",
          "output_type": "stream",
          "text": [
            "Step 710000, best model saved. (accuracy=0.8586)\n"
          ]
        },
        {
          "name": "stderr",
          "output_type": "stream",
          "text": [
            "Train: 100% 2000/2000 [00:33<00:00, 58.91 step/s, accuracy=0.94, loss=0.13, step=712000]\n",
            "Valid: 100% 8480/8500 [00:01<00:00, 5778.41 uttr/s, accuracy=0.85, loss=0.66]\n",
            "Train: 100% 2000/2000 [00:33<00:00, 59.34 step/s, accuracy=0.94, loss=0.25, step=714000]\n",
            "Valid: 100% 8480/8500 [00:01<00:00, 5700.76 uttr/s, accuracy=0.85, loss=0.69]\n",
            "Train: 100% 2000/2000 [00:33<00:00, 59.35 step/s, accuracy=0.94, loss=0.30, step=716000]\n",
            "Valid: 100% 8480/8500 [00:01<00:00, 5887.71 uttr/s, accuracy=0.85, loss=0.70]\n",
            "Train: 100% 2000/2000 [00:33<00:00, 58.98 step/s, accuracy=0.91, loss=0.23, step=718000]\n",
            "Valid: 100% 8480/8500 [00:01<00:00, 5812.13 uttr/s, accuracy=0.86, loss=0.67]\n",
            "Train: 100% 2000/2000 [00:33<00:00, 59.33 step/s, accuracy=0.97, loss=0.17, step=720000]\n",
            "Valid: 100% 8480/8500 [00:01<00:00, 5683.41 uttr/s, accuracy=0.85, loss=0.67]\n",
            "Train:   0% 0/2000 [00:00<?, ? step/s]\n",
            "\n",
            "                                                                                        \n",
            "Train:   1% 12/2000 [00:00<00:35, 55.41 step/s, accuracy=0.91, loss=0.47, step=720012]"
          ]
        },
        {
          "name": "stdout",
          "output_type": "stream",
          "text": [
            "Step 720000, best model saved. (accuracy=0.8586)\n"
          ]
        },
        {
          "name": "stderr",
          "output_type": "stream",
          "text": [
            "Train: 100% 2000/2000 [00:33<00:00, 59.39 step/s, accuracy=0.94, loss=0.27, step=722000]\n",
            "Valid: 100% 8480/8500 [00:01<00:00, 5683.78 uttr/s, accuracy=0.85, loss=0.67]\n",
            "Train: 100% 2000/2000 [00:33<00:00, 58.95 step/s, accuracy=0.94, loss=0.12, step=724000]\n",
            "Valid: 100% 8480/8500 [00:01<00:00, 5704.93 uttr/s, accuracy=0.85, loss=0.71]\n",
            "Train: 100% 2000/2000 [00:33<00:00, 59.40 step/s, accuracy=0.94, loss=0.28, step=726000]\n",
            "Valid: 100% 8480/8500 [00:01<00:00, 5769.15 uttr/s, accuracy=0.86, loss=0.67]\n",
            "Train: 100% 2000/2000 [00:33<00:00, 59.33 step/s, accuracy=0.91, loss=0.29, step=728000]\n",
            "Valid: 100% 8480/8500 [00:01<00:00, 5807.18 uttr/s, accuracy=0.85, loss=0.71]\n",
            "Train: 100% 2000/2000 [00:33<00:00, 59.01 step/s, accuracy=0.94, loss=0.11, step=730000]\n",
            "Valid: 100% 8480/8500 [00:01<00:00, 5740.06 uttr/s, accuracy=0.84, loss=0.73]\n",
            "Train:   0% 0/2000 [00:00<?, ? step/s]\n",
            "\n",
            "                                                                                        \n",
            "Train:   1% 12/2000 [00:00<00:35, 56.44 step/s, accuracy=0.97, loss=0.09, step=730012]"
          ]
        },
        {
          "name": "stdout",
          "output_type": "stream",
          "text": [
            "Step 730000, best model saved. (accuracy=0.8586)\n"
          ]
        },
        {
          "name": "stderr",
          "output_type": "stream",
          "text": [
            "Train: 100% 2000/2000 [00:33<00:00, 59.42 step/s, accuracy=0.88, loss=0.27, step=732000]\n",
            "Valid: 100% 8480/8500 [00:01<00:00, 5756.90 uttr/s, accuracy=0.85, loss=0.71]\n",
            "Train: 100% 2000/2000 [00:33<00:00, 59.36 step/s, accuracy=0.88, loss=0.52, step=734000]\n",
            "Valid: 100% 8480/8500 [00:01<00:00, 5775.13 uttr/s, accuracy=0.85, loss=0.71]\n",
            "Train: 100% 2000/2000 [00:33<00:00, 59.03 step/s, accuracy=0.94, loss=0.20, step=736000]\n",
            "Valid: 100% 8480/8500 [00:01<00:00, 5677.44 uttr/s, accuracy=0.85, loss=0.68]\n",
            "Train: 100% 2000/2000 [00:33<00:00, 59.36 step/s, accuracy=0.94, loss=0.19, step=738000]\n",
            "Valid: 100% 8480/8500 [00:01<00:00, 5751.46 uttr/s, accuracy=0.84, loss=0.71]\n",
            "Train: 100% 2000/2000 [00:33<00:00, 59.41 step/s, accuracy=0.97, loss=0.19, step=740000]\n",
            "Valid: 100% 8480/8500 [00:01<00:00, 5720.74 uttr/s, accuracy=0.85, loss=0.70]\n",
            "Train:   0% 0/2000 [00:00<?, ? step/s]\n",
            "\n",
            "                                                                                        \n",
            "Train:   1% 11/2000 [00:00<00:36, 54.27 step/s, accuracy=0.91, loss=0.47, step=740011]"
          ]
        },
        {
          "name": "stdout",
          "output_type": "stream",
          "text": [
            "Step 740000, best model saved. (accuracy=0.8586)\n"
          ]
        },
        {
          "name": "stderr",
          "output_type": "stream",
          "text": [
            "Train: 100% 2000/2000 [00:33<00:00, 58.94 step/s, accuracy=0.97, loss=0.23, step=742000]\n",
            "Valid: 100% 8480/8500 [00:01<00:00, 5805.38 uttr/s, accuracy=0.85, loss=0.69]\n",
            "Train: 100% 2000/2000 [00:33<00:00, 59.37 step/s, accuracy=1.00, loss=0.05, step=744000]\n",
            "Valid: 100% 8480/8500 [00:01<00:00, 5792.81 uttr/s, accuracy=0.85, loss=0.68]\n",
            "Train: 100% 2000/2000 [00:33<00:00, 59.37 step/s, accuracy=0.94, loss=0.33, step=746000]\n",
            "Valid: 100% 8480/8500 [00:01<00:00, 5722.86 uttr/s, accuracy=0.85, loss=0.68]\n",
            "Train: 100% 2000/2000 [00:33<00:00, 58.98 step/s, accuracy=0.94, loss=0.20, step=748000]\n",
            "Valid: 100% 8480/8500 [00:01<00:00, 5730.07 uttr/s, accuracy=0.85, loss=0.71]\n",
            "Train: 100% 2000/2000 [00:33<00:00, 59.32 step/s, accuracy=0.91, loss=0.57, step=750000]\n",
            "Valid: 100% 8480/8500 [00:01<00:00, 5416.98 uttr/s, accuracy=0.85, loss=0.68]\n",
            "Train:   0% 0/2000 [00:00<?, ? step/s]\n",
            "\n",
            "                                                                                        \n",
            "Train:   1% 11/2000 [00:00<00:37, 53.07 step/s, accuracy=0.91, loss=0.34, step=750011]"
          ]
        },
        {
          "name": "stdout",
          "output_type": "stream",
          "text": [
            "Step 750000, best model saved. (accuracy=0.8586)\n"
          ]
        },
        {
          "name": "stderr",
          "output_type": "stream",
          "text": [
            "Train: 100% 2000/2000 [00:33<00:00, 59.23 step/s, accuracy=0.97, loss=0.23, step=752000]\n",
            "Valid: 100% 8480/8500 [00:01<00:00, 5723.48 uttr/s, accuracy=0.85, loss=0.67]\n",
            "Train: 100% 2000/2000 [00:33<00:00, 59.40 step/s, accuracy=0.97, loss=0.08, step=754000]\n",
            "Valid: 100% 8480/8500 [00:01<00:00, 5731.90 uttr/s, accuracy=0.85, loss=0.69]\n",
            "Train: 100% 2000/2000 [00:33<00:00, 58.99 step/s, accuracy=1.00, loss=0.04, step=756000]\n",
            "Valid: 100% 8480/8500 [00:01<00:00, 5805.91 uttr/s, accuracy=0.85, loss=0.68]\n",
            "Train: 100% 2000/2000 [00:33<00:00, 59.41 step/s, accuracy=0.94, loss=0.11, step=758000]\n",
            "Valid: 100% 8480/8500 [00:01<00:00, 5727.98 uttr/s, accuracy=0.85, loss=0.71]\n",
            "Train: 100% 2000/2000 [00:33<00:00, 59.41 step/s, accuracy=0.91, loss=0.28, step=760000]\n",
            "Valid: 100% 8480/8500 [00:01<00:00, 5764.80 uttr/s, accuracy=0.85, loss=0.70]\n",
            "Train:   0% 0/2000 [00:00<?, ? step/s]\n",
            "\n",
            "                                                                                        \n",
            "Train:   1% 11/2000 [00:00<00:36, 55.01 step/s, accuracy=0.97, loss=0.11, step=760011]"
          ]
        },
        {
          "name": "stdout",
          "output_type": "stream",
          "text": [
            "Step 760000, best model saved. (accuracy=0.8586)\n"
          ]
        },
        {
          "name": "stderr",
          "output_type": "stream",
          "text": [
            "Train: 100% 2000/2000 [00:33<00:00, 58.97 step/s, accuracy=0.84, loss=0.46, step=762000]\n",
            "Valid: 100% 8480/8500 [00:01<00:00, 5754.85 uttr/s, accuracy=0.86, loss=0.67]\n",
            "Train: 100% 2000/2000 [00:33<00:00, 59.36 step/s, accuracy=1.00, loss=0.04, step=764000]\n",
            "Valid: 100% 8480/8500 [00:01<00:00, 5705.66 uttr/s, accuracy=0.86, loss=0.67]\n",
            "Train: 100% 2000/2000 [00:33<00:00, 59.32 step/s, accuracy=0.84, loss=0.45, step=766000]\n",
            "Valid: 100% 8480/8500 [00:01<00:00, 5693.48 uttr/s, accuracy=0.85, loss=0.70]\n",
            "Train: 100% 2000/2000 [00:33<00:00, 58.98 step/s, accuracy=1.00, loss=0.06, step=768000]\n",
            "Valid: 100% 8480/8500 [00:01<00:00, 5765.75 uttr/s, accuracy=0.85, loss=0.70]\n",
            "Train: 100% 2000/2000 [00:33<00:00, 59.38 step/s, accuracy=0.94, loss=0.29, step=770000]\n",
            "Valid: 100% 8480/8500 [00:01<00:00, 5668.74 uttr/s, accuracy=0.86, loss=0.65]\n",
            "Train:   0% 0/2000 [00:00<?, ? step/s]\n",
            "\n",
            "                                                                                        \n",
            "Train:   1% 11/2000 [00:00<00:36, 55.22 step/s, accuracy=1.00, loss=0.06, step=770011]"
          ]
        },
        {
          "name": "stdout",
          "output_type": "stream",
          "text": [
            "Step 770000, best model saved. (accuracy=0.8637)\n"
          ]
        },
        {
          "name": "stderr",
          "output_type": "stream",
          "text": [
            "Train: 100% 2000/2000 [00:33<00:00, 59.31 step/s, accuracy=1.00, loss=0.08, step=772000]\n",
            "Valid: 100% 8480/8500 [00:01<00:00, 5775.66 uttr/s, accuracy=0.85, loss=0.71]\n",
            "Train: 100% 2000/2000 [00:33<00:00, 58.95 step/s, accuracy=0.97, loss=0.17, step=774000]\n",
            "Valid: 100% 8480/8500 [00:01<00:00, 5746.04 uttr/s, accuracy=0.86, loss=0.67]\n",
            "Train: 100% 2000/2000 [00:33<00:00, 59.41 step/s, accuracy=0.94, loss=0.16, step=776000]\n",
            "Valid: 100% 8480/8500 [00:01<00:00, 5793.33 uttr/s, accuracy=0.86, loss=0.65]\n",
            "Train: 100% 2000/2000 [00:33<00:00, 59.40 step/s, accuracy=0.94, loss=0.09, step=778000]\n",
            "Valid: 100% 8480/8500 [00:01<00:00, 5748.98 uttr/s, accuracy=0.86, loss=0.67]\n",
            "Train: 100% 2000/2000 [00:33<00:00, 58.98 step/s, accuracy=0.88, loss=0.46, step=780000]\n",
            "Valid: 100% 8480/8500 [00:01<00:00, 5716.74 uttr/s, accuracy=0.85, loss=0.69]\n",
            "Train:   0% 0/2000 [00:00<?, ? step/s]\n",
            "\n",
            "                                                                                        \n",
            "Train:   1% 12/2000 [00:00<00:34, 58.01 step/s, accuracy=1.00, loss=0.07, step=780011]"
          ]
        },
        {
          "name": "stdout",
          "output_type": "stream",
          "text": [
            "Step 780000, best model saved. (accuracy=0.8637)\n"
          ]
        },
        {
          "name": "stderr",
          "output_type": "stream",
          "text": [
            "Train: 100% 2000/2000 [00:33<00:00, 59.43 step/s, accuracy=0.97, loss=0.16, step=782000]\n",
            "Valid: 100% 8480/8500 [00:01<00:00, 5731.14 uttr/s, accuracy=0.85, loss=0.68]\n",
            "Train: 100% 2000/2000 [00:33<00:00, 59.37 step/s, accuracy=0.84, loss=0.24, step=784000]\n",
            "Valid: 100% 8480/8500 [00:01<00:00, 5816.44 uttr/s, accuracy=0.85, loss=0.67]\n",
            "Train: 100% 2000/2000 [00:33<00:00, 58.98 step/s, accuracy=0.91, loss=0.23, step=786000]\n",
            "Valid: 100% 8480/8500 [00:01<00:00, 5767.51 uttr/s, accuracy=0.86, loss=0.65]\n",
            "Train: 100% 2000/2000 [00:33<00:00, 59.35 step/s, accuracy=1.00, loss=0.08, step=788000]\n",
            "Valid: 100% 8480/8500 [00:01<00:00, 5737.46 uttr/s, accuracy=0.85, loss=0.66]\n",
            "Train: 100% 2000/2000 [00:33<00:00, 59.45 step/s, accuracy=0.91, loss=0.26, step=790000]\n",
            "Valid: 100% 8480/8500 [00:01<00:00, 5669.39 uttr/s, accuracy=0.85, loss=0.68]\n",
            "Train:   0% 0/2000 [00:00<?, ? step/s]\n",
            "\n",
            "                                                                                        \n",
            "Train:   1% 12/2000 [00:00<00:35, 56.70 step/s, accuracy=0.94, loss=0.21, step=790012]"
          ]
        },
        {
          "name": "stdout",
          "output_type": "stream",
          "text": [
            "Step 790000, best model saved. (accuracy=0.8637)\n"
          ]
        },
        {
          "name": "stderr",
          "output_type": "stream",
          "text": [
            "Train: 100% 2000/2000 [00:33<00:00, 59.07 step/s, accuracy=1.00, loss=0.03, step=792000]\n",
            "Valid: 100% 8480/8500 [00:01<00:00, 5666.84 uttr/s, accuracy=0.86, loss=0.66]\n",
            "Train: 100% 2000/2000 [00:33<00:00, 59.37 step/s, accuracy=0.88, loss=0.36, step=794000]\n",
            "Valid: 100% 8480/8500 [00:01<00:00, 5699.26 uttr/s, accuracy=0.85, loss=0.69]\n",
            "Train: 100% 2000/2000 [00:33<00:00, 59.35 step/s, accuracy=0.94, loss=0.15, step=796000]\n",
            "Valid: 100% 8480/8500 [00:01<00:00, 5781.51 uttr/s, accuracy=0.86, loss=0.64]\n",
            "Train: 100% 2000/2000 [00:33<00:00, 58.97 step/s, accuracy=0.97, loss=0.08, step=798000]\n",
            "Valid: 100% 8480/8500 [00:01<00:00, 5705.59 uttr/s, accuracy=0.86, loss=0.67]\n",
            "Train: 100% 2000/2000 [00:33<00:00, 59.39 step/s, accuracy=1.00, loss=0.05, step=8e+5]  \n",
            "Valid: 100% 8480/8500 [00:01<00:00, 5793.21 uttr/s, accuracy=0.86, loss=0.65]\n",
            "Train:   0% 0/2000 [00:00<?, ? step/s]\n",
            "\n",
            "                                                                                        \n",
            "Train:   1% 12/2000 [00:00<00:34, 58.22 step/s, accuracy=0.94, loss=0.29, step=8e+5]"
          ]
        },
        {
          "name": "stdout",
          "output_type": "stream",
          "text": [
            "Step 800000, best model saved. (accuracy=0.8637)\n"
          ]
        },
        {
          "name": "stderr",
          "output_type": "stream",
          "text": [
            "Train: 100% 2000/2000 [00:33<00:00, 59.44 step/s, accuracy=0.94, loss=0.25, step=802000]\n",
            "Valid: 100% 8480/8500 [00:01<00:00, 5661.55 uttr/s, accuracy=0.86, loss=0.67]\n",
            "Train: 100% 2000/2000 [00:34<00:00, 58.78 step/s, accuracy=0.97, loss=0.10, step=804000]\n",
            "Valid: 100% 8480/8500 [00:01<00:00, 5704.47 uttr/s, accuracy=0.86, loss=0.68]\n",
            "Train: 100% 2000/2000 [00:33<00:00, 59.37 step/s, accuracy=0.91, loss=0.29, step=806000]\n",
            "Valid: 100% 8480/8500 [00:01<00:00, 5691.38 uttr/s, accuracy=0.85, loss=0.68]\n",
            "Train: 100% 2000/2000 [00:33<00:00, 59.33 step/s, accuracy=0.97, loss=0.12, step=808000]\n",
            "Valid: 100% 8480/8500 [00:01<00:00, 5801.48 uttr/s, accuracy=0.85, loss=0.65]\n",
            "Train: 100% 2000/2000 [00:33<00:00, 58.99 step/s, accuracy=0.97, loss=0.07, step=810000]\n",
            "Valid: 100% 8480/8500 [00:01<00:00, 5694.33 uttr/s, accuracy=0.86, loss=0.67]\n",
            "Train:   0% 0/2000 [00:00<?, ? step/s]\n",
            "\n",
            "                                                                                        \n",
            "Train:   1% 11/2000 [00:00<00:35, 55.96 step/s, accuracy=0.91, loss=0.32, step=810011]"
          ]
        },
        {
          "name": "stdout",
          "output_type": "stream",
          "text": [
            "Step 810000, best model saved. (accuracy=0.8637)\n"
          ]
        },
        {
          "name": "stderr",
          "output_type": "stream",
          "text": [
            "Train: 100% 2000/2000 [00:33<00:00, 59.35 step/s, accuracy=0.91, loss=0.25, step=812000]\n",
            "Valid: 100% 8480/8500 [00:01<00:00, 5777.82 uttr/s, accuracy=0.85, loss=0.72]\n",
            "Train: 100% 2000/2000 [00:33<00:00, 59.41 step/s, accuracy=0.94, loss=0.24, step=814000]\n",
            "Valid: 100% 8480/8500 [00:01<00:00, 5726.07 uttr/s, accuracy=0.85, loss=0.70]\n",
            "Train: 100% 2000/2000 [00:33<00:00, 58.96 step/s, accuracy=0.91, loss=0.27, step=816000]\n",
            "Valid: 100% 8480/8500 [00:01<00:00, 5809.70 uttr/s, accuracy=0.85, loss=0.70]\n",
            "Train: 100% 2000/2000 [00:33<00:00, 59.28 step/s, accuracy=0.97, loss=0.10, step=818000]\n",
            "Valid: 100% 8480/8500 [00:01<00:00, 5771.25 uttr/s, accuracy=0.86, loss=0.65]\n",
            "Train: 100% 2000/2000 [00:33<00:00, 59.41 step/s, accuracy=0.94, loss=0.21, step=820000]\n",
            "Valid: 100% 8480/8500 [00:01<00:00, 5666.46 uttr/s, accuracy=0.85, loss=0.70]\n",
            "Train:   0% 0/2000 [00:00<?, ? step/s]\n",
            "\n",
            "                                                                                        \n",
            "Train:   1% 12/2000 [00:00<00:34, 58.15 step/s, accuracy=0.94, loss=0.25, step=820011]"
          ]
        },
        {
          "name": "stdout",
          "output_type": "stream",
          "text": [
            "Step 820000, best model saved. (accuracy=0.8637)\n"
          ]
        },
        {
          "name": "stderr",
          "output_type": "stream",
          "text": [
            "Train: 100% 2000/2000 [00:33<00:00, 58.96 step/s, accuracy=0.91, loss=0.33, step=822000]\n",
            "Valid: 100% 8480/8500 [00:01<00:00, 5572.55 uttr/s, accuracy=0.85, loss=0.65]\n",
            "Train: 100% 2000/2000 [00:33<00:00, 59.38 step/s, accuracy=0.88, loss=0.28, step=824000]\n",
            "Valid: 100% 8480/8500 [00:01<00:00, 5773.37 uttr/s, accuracy=0.85, loss=0.66]\n",
            "Train: 100% 2000/2000 [00:33<00:00, 59.35 step/s, accuracy=0.88, loss=0.50, step=826000]\n",
            "Valid: 100% 8480/8500 [00:01<00:00, 5761.05 uttr/s, accuracy=0.85, loss=0.65]\n",
            "Train: 100% 2000/2000 [00:33<00:00, 59.01 step/s, accuracy=0.94, loss=0.25, step=828000]\n",
            "Valid: 100% 8480/8500 [00:01<00:00, 5759.33 uttr/s, accuracy=0.86, loss=0.64]\n",
            "Train: 100% 2000/2000 [00:33<00:00, 59.41 step/s, accuracy=0.94, loss=0.13, step=830000]\n",
            "Valid: 100% 8480/8500 [00:01<00:00, 5705.17 uttr/s, accuracy=0.86, loss=0.67]\n",
            "Train:   0% 0/2000 [00:00<?, ? step/s]\n",
            "\n",
            "                                                                                        \n",
            "Train:   1% 12/2000 [00:00<00:35, 55.70 step/s, accuracy=0.97, loss=0.36, step=830012]"
          ]
        },
        {
          "name": "stdout",
          "output_type": "stream",
          "text": [
            "Step 830000, best model saved. (accuracy=0.8637)\n"
          ]
        },
        {
          "name": "stderr",
          "output_type": "stream",
          "text": [
            "Train: 100% 2000/2000 [00:33<00:00, 59.35 step/s, accuracy=0.91, loss=0.15, step=832000]\n",
            "Valid: 100% 8480/8500 [00:01<00:00, 5721.45 uttr/s, accuracy=0.85, loss=0.70]\n",
            "Train: 100% 2000/2000 [00:33<00:00, 59.01 step/s, accuracy=0.94, loss=0.16, step=834000]\n",
            "Valid: 100% 8480/8500 [00:01<00:00, 5726.47 uttr/s, accuracy=0.85, loss=0.69]\n",
            "Train: 100% 2000/2000 [00:33<00:00, 59.30 step/s, accuracy=0.94, loss=0.25, step=836000]\n",
            "Valid: 100% 8480/8500 [00:01<00:00, 5712.09 uttr/s, accuracy=0.85, loss=0.67]\n",
            "Train: 100% 2000/2000 [00:33<00:00, 59.38 step/s, accuracy=0.97, loss=0.11, step=838000]\n",
            "Valid: 100% 8480/8500 [00:01<00:00, 5673.19 uttr/s, accuracy=0.85, loss=0.68]\n",
            "Train: 100% 2000/2000 [00:33<00:00, 58.99 step/s, accuracy=0.97, loss=0.10, step=840000]\n",
            "Valid: 100% 8480/8500 [00:01<00:00, 5740.72 uttr/s, accuracy=0.85, loss=0.68]\n",
            "Train:   0% 0/2000 [00:00<?, ? step/s]\n",
            "\n",
            "                                                                                        \n",
            "Train:   1% 11/2000 [00:00<00:35, 55.57 step/s, accuracy=0.91, loss=0.24, step=840011]"
          ]
        },
        {
          "name": "stdout",
          "output_type": "stream",
          "text": [
            "Step 840000, best model saved. (accuracy=0.8637)\n"
          ]
        },
        {
          "name": "stderr",
          "output_type": "stream",
          "text": [
            "Train: 100% 2000/2000 [00:33<00:00, 59.39 step/s, accuracy=0.94, loss=0.19, step=842000]\n",
            "Valid: 100% 8480/8500 [00:01<00:00, 5769.40 uttr/s, accuracy=0.86, loss=0.65]\n",
            "Train: 100% 2000/2000 [00:33<00:00, 59.32 step/s, accuracy=0.97, loss=0.13, step=844000]\n",
            "Valid: 100% 8480/8500 [00:01<00:00, 5644.39 uttr/s, accuracy=0.85, loss=0.69]\n",
            "Train: 100% 2000/2000 [00:33<00:00, 58.99 step/s, accuracy=0.88, loss=0.30, step=846000]\n",
            "Valid: 100% 8480/8500 [00:01<00:00, 5656.64 uttr/s, accuracy=0.86, loss=0.65]\n",
            "Train: 100% 2000/2000 [00:33<00:00, 59.39 step/s, accuracy=0.97, loss=0.08, step=848000]\n",
            "Valid: 100% 8480/8500 [00:01<00:00, 5797.74 uttr/s, accuracy=0.86, loss=0.65]\n",
            "Train: 100% 2000/2000 [00:33<00:00, 59.37 step/s, accuracy=0.97, loss=0.19, step=850000]\n",
            "Valid: 100% 8480/8500 [00:01<00:00, 5729.75 uttr/s, accuracy=0.86, loss=0.64]\n",
            "Train:   0% 0/2000 [00:00<?, ? step/s]\n",
            "\n",
            "                                                                                        \n",
            "Train:   0% 10/2000 [00:00<00:42, 46.39 step/s, accuracy=0.97, loss=0.11, step=850010]"
          ]
        },
        {
          "name": "stdout",
          "output_type": "stream",
          "text": [
            "Step 850000, best model saved. (accuracy=0.8637)\n"
          ]
        },
        {
          "name": "stderr",
          "output_type": "stream",
          "text": [
            "Train: 100% 2000/2000 [00:33<00:00, 58.96 step/s, accuracy=0.97, loss=0.09, step=852000]\n",
            "Valid: 100% 8480/8500 [00:01<00:00, 5772.25 uttr/s, accuracy=0.86, loss=0.63]\n",
            "Train: 100% 2000/2000 [00:33<00:00, 59.46 step/s, accuracy=0.97, loss=0.06, step=854000]\n",
            "Valid: 100% 8480/8500 [00:01<00:00, 5762.39 uttr/s, accuracy=0.86, loss=0.64]\n",
            "Train: 100% 2000/2000 [00:33<00:00, 59.45 step/s, accuracy=0.97, loss=0.05, step=856000]\n",
            "Valid: 100% 8480/8500 [00:01<00:00, 5757.13 uttr/s, accuracy=0.86, loss=0.65]\n",
            "Train: 100% 2000/2000 [00:33<00:00, 58.86 step/s, accuracy=0.97, loss=0.18, step=858000]\n",
            "Valid: 100% 8480/8500 [00:01<00:00, 5743.95 uttr/s, accuracy=0.85, loss=0.69]\n",
            "Train: 100% 2000/2000 [00:33<00:00, 59.38 step/s, accuracy=0.97, loss=0.15, step=860000]\n",
            "Valid: 100% 8480/8500 [00:01<00:00, 5700.07 uttr/s, accuracy=0.86, loss=0.66]\n",
            "Train:   0% 0/2000 [00:00<?, ? step/s]\n",
            "\n",
            "                                                                                        \n",
            "Train:   1% 12/2000 [00:00<00:35, 56.22 step/s, accuracy=1.00, loss=0.05, step=860012]"
          ]
        },
        {
          "name": "stdout",
          "output_type": "stream",
          "text": [
            "Step 860000, best model saved. (accuracy=0.8645)\n"
          ]
        },
        {
          "name": "stderr",
          "output_type": "stream",
          "text": [
            "Train: 100% 2000/2000 [00:33<00:00, 59.39 step/s, accuracy=1.00, loss=0.07, step=862000]\n",
            "Valid: 100% 8480/8500 [00:01<00:00, 5712.44 uttr/s, accuracy=0.86, loss=0.65]\n",
            "Train: 100% 2000/2000 [00:33<00:00, 58.97 step/s, accuracy=0.97, loss=0.12, step=864000]\n",
            "Valid: 100% 8480/8500 [00:01<00:00, 5774.37 uttr/s, accuracy=0.86, loss=0.65]\n",
            "Train: 100% 2000/2000 [00:33<00:00, 59.38 step/s, accuracy=1.00, loss=0.07, step=866000]\n",
            "Valid: 100% 8480/8500 [00:01<00:00, 5701.83 uttr/s, accuracy=0.86, loss=0.69]\n",
            "Train: 100% 2000/2000 [00:33<00:00, 59.38 step/s, accuracy=0.91, loss=0.24, step=868000]\n",
            "Valid: 100% 8480/8500 [00:01<00:00, 5697.40 uttr/s, accuracy=0.87, loss=0.64]\n",
            "Train: 100% 2000/2000 [00:33<00:00, 58.99 step/s, accuracy=0.97, loss=0.08, step=870000]\n",
            "Valid: 100% 8480/8500 [00:01<00:00, 5649.97 uttr/s, accuracy=0.86, loss=0.67]\n",
            "Train:   0% 0/2000 [00:00<?, ? step/s]\n",
            "\n",
            "                                                                                        \n",
            "Train:   1% 11/2000 [00:00<00:35, 55.61 step/s, accuracy=0.97, loss=0.07, step=870011]"
          ]
        },
        {
          "name": "stdout",
          "output_type": "stream",
          "text": [
            "Step 870000, best model saved. (accuracy=0.8672)\n"
          ]
        },
        {
          "name": "stderr",
          "output_type": "stream",
          "text": [
            "Train: 100% 2000/2000 [00:33<00:00, 59.35 step/s, accuracy=0.97, loss=0.07, step=872000]\n",
            "Valid: 100% 8480/8500 [00:01<00:00, 5659.71 uttr/s, accuracy=0.86, loss=0.66]\n",
            "Train: 100% 2000/2000 [00:33<00:00, 59.39 step/s, accuracy=0.94, loss=0.44, step=874000]\n",
            "Valid: 100% 8480/8500 [00:01<00:00, 5697.91 uttr/s, accuracy=0.86, loss=0.67]\n",
            "Train: 100% 2000/2000 [00:33<00:00, 58.97 step/s, accuracy=1.00, loss=0.05, step=876000]\n",
            "Valid: 100% 8480/8500 [00:01<00:00, 5683.26 uttr/s, accuracy=0.86, loss=0.64]\n",
            "Train: 100% 2000/2000 [00:33<00:00, 59.32 step/s, accuracy=0.91, loss=0.37, step=878000]\n",
            "Valid: 100% 8480/8500 [00:01<00:00, 5784.47 uttr/s, accuracy=0.87, loss=0.63]\n",
            "Train: 100% 2000/2000 [00:33<00:00, 59.36 step/s, accuracy=1.00, loss=0.06, step=880000]\n",
            "Valid: 100% 8480/8500 [00:01<00:00, 5693.29 uttr/s, accuracy=0.86, loss=0.65]\n",
            "Train:   0% 0/2000 [00:00<?, ? step/s]\n",
            "\n",
            "                                                                                        \n",
            "Train:   1% 11/2000 [00:00<00:35, 55.27 step/s, accuracy=0.94, loss=0.14, step=880011]"
          ]
        },
        {
          "name": "stdout",
          "output_type": "stream",
          "text": [
            "Step 880000, best model saved. (accuracy=0.8679)\n"
          ]
        },
        {
          "name": "stderr",
          "output_type": "stream",
          "text": [
            "Train: 100% 2000/2000 [00:33<00:00, 58.92 step/s, accuracy=0.91, loss=0.28, step=882000]\n",
            "Valid: 100% 8480/8500 [00:01<00:00, 5765.08 uttr/s, accuracy=0.86, loss=0.67]\n",
            "Train: 100% 2000/2000 [00:33<00:00, 59.37 step/s, accuracy=0.97, loss=0.08, step=884000]\n",
            "Valid: 100% 8480/8500 [00:01<00:00, 5753.54 uttr/s, accuracy=0.86, loss=0.67]\n",
            "Train: 100% 2000/2000 [00:33<00:00, 59.37 step/s, accuracy=0.94, loss=0.12, step=886000]\n",
            "Valid: 100% 8480/8500 [00:01<00:00, 5770.02 uttr/s, accuracy=0.86, loss=0.68]\n",
            "Train: 100% 2000/2000 [00:33<00:00, 59.03 step/s, accuracy=0.94, loss=0.17, step=888000]\n",
            "Valid: 100% 8480/8500 [00:01<00:00, 5782.32 uttr/s, accuracy=0.86, loss=0.63]\n",
            "Train: 100% 2000/2000 [00:33<00:00, 59.35 step/s, accuracy=0.97, loss=0.08, step=890000]\n",
            "Valid: 100% 8480/8500 [00:01<00:00, 5712.74 uttr/s, accuracy=0.87, loss=0.62]\n",
            "Train:   0% 0/2000 [00:00<?, ? step/s]\n",
            "\n",
            "                                                                                        \n",
            "Train:   1% 11/2000 [00:00<00:35, 55.42 step/s, accuracy=0.94, loss=0.17, step=890011]"
          ]
        },
        {
          "name": "stdout",
          "output_type": "stream",
          "text": [
            "Step 890000, best model saved. (accuracy=0.8679)\n"
          ]
        },
        {
          "name": "stderr",
          "output_type": "stream",
          "text": [
            "Train: 100% 2000/2000 [00:33<00:00, 59.35 step/s, accuracy=0.94, loss=0.31, step=892000]\n",
            "Valid: 100% 8480/8500 [00:01<00:00, 5794.86 uttr/s, accuracy=0.86, loss=0.65]\n",
            "Train: 100% 2000/2000 [00:33<00:00, 58.99 step/s, accuracy=0.97, loss=0.09, step=894000]\n",
            "Valid: 100% 8480/8500 [00:01<00:00, 5739.19 uttr/s, accuracy=0.86, loss=0.61]\n",
            "Train: 100% 2000/2000 [00:33<00:00, 59.37 step/s, accuracy=0.97, loss=0.25, step=896000]\n",
            "Valid: 100% 8480/8500 [00:01<00:00, 5780.99 uttr/s, accuracy=0.86, loss=0.65]\n",
            "Train: 100% 2000/2000 [00:33<00:00, 59.37 step/s, accuracy=0.97, loss=0.21, step=898000]\n",
            "Valid: 100% 8480/8500 [00:01<00:00, 5710.56 uttr/s, accuracy=0.86, loss=0.66]\n",
            "Train: 100% 2000/2000 [00:33<00:00, 59.06 step/s, accuracy=0.91, loss=0.37, step=9e+5]  \n",
            "Valid: 100% 8480/8500 [00:01<00:00, 5739.76 uttr/s, accuracy=0.85, loss=0.70]\n",
            "Train:   0% 0/2000 [00:00<?, ? step/s]\n",
            "\n",
            "                                                                                        \n",
            "Train:   1% 11/2000 [00:00<00:36, 54.14 step/s, accuracy=0.94, loss=0.20, step=9e+5]"
          ]
        },
        {
          "name": "stdout",
          "output_type": "stream",
          "text": [
            "Step 900000, best model saved. (accuracy=0.8679)\n"
          ]
        },
        {
          "name": "stderr",
          "output_type": "stream",
          "text": [
            "Train: 100% 2000/2000 [00:33<00:00, 59.37 step/s, accuracy=0.91, loss=0.29, step=902000]\n",
            "Valid: 100% 8480/8500 [00:01<00:00, 5621.59 uttr/s, accuracy=0.86, loss=0.68]\n",
            "Train: 100% 2000/2000 [00:33<00:00, 59.33 step/s, accuracy=0.97, loss=0.10, step=904000]\n",
            "Valid: 100% 8480/8500 [00:01<00:00, 5677.24 uttr/s, accuracy=0.86, loss=0.65]\n",
            "Train: 100% 2000/2000 [00:33<00:00, 59.37 step/s, accuracy=0.97, loss=0.18, step=906000]\n",
            "Valid: 100% 8480/8500 [00:01<00:00, 5737.42 uttr/s, accuracy=0.87, loss=0.64]\n",
            "Train: 100% 2000/2000 [00:33<00:00, 58.99 step/s, accuracy=1.00, loss=0.09, step=908000]\n",
            "Valid: 100% 8480/8500 [00:01<00:00, 5792.94 uttr/s, accuracy=0.86, loss=0.67]\n",
            "Train: 100% 2000/2000 [00:33<00:00, 59.31 step/s, accuracy=0.94, loss=0.14, step=910000]\n",
            "Valid: 100% 8480/8500 [00:01<00:00, 5724.87 uttr/s, accuracy=0.86, loss=0.66]\n",
            "Train:   0% 0/2000 [00:00<?, ? step/s]\n",
            "\n",
            "                                                                                        \n",
            "Train:   1% 12/2000 [00:00<00:34, 57.72 step/s, accuracy=0.97, loss=0.08, step=910011]"
          ]
        },
        {
          "name": "stdout",
          "output_type": "stream",
          "text": [
            "Step 910000, best model saved. (accuracy=0.8679)\n"
          ]
        },
        {
          "name": "stderr",
          "output_type": "stream",
          "text": [
            "Train: 100% 2000/2000 [00:33<00:00, 59.25 step/s, accuracy=1.00, loss=0.06, step=912000]\n",
            "Valid: 100% 8480/8500 [00:01<00:00, 5782.71 uttr/s, accuracy=0.86, loss=0.66]\n",
            "Train: 100% 2000/2000 [00:33<00:00, 59.02 step/s, accuracy=0.91, loss=0.19, step=914000]\n",
            "Valid: 100% 8480/8500 [00:01<00:00, 5748.77 uttr/s, accuracy=0.86, loss=0.66]\n",
            "Train: 100% 2000/2000 [00:33<00:00, 59.36 step/s, accuracy=0.97, loss=0.11, step=916000]\n",
            "Valid: 100% 8480/8500 [00:01<00:00, 5703.10 uttr/s, accuracy=0.86, loss=0.67]\n",
            "Train: 100% 2000/2000 [00:33<00:00, 59.36 step/s, accuracy=1.00, loss=0.06, step=918000]\n",
            "Valid: 100% 8480/8500 [00:01<00:00, 5672.27 uttr/s, accuracy=0.86, loss=0.66]\n",
            "Train: 100% 2000/2000 [00:33<00:00, 58.94 step/s, accuracy=0.94, loss=0.13, step=920000]\n",
            "Valid: 100% 8480/8500 [00:01<00:00, 5825.33 uttr/s, accuracy=0.86, loss=0.63]\n",
            "Train:   0% 0/2000 [00:00<?, ? step/s]\n",
            "\n",
            "                                                                                        \n",
            "Train:   1% 12/2000 [00:00<00:34, 57.98 step/s, accuracy=0.91, loss=0.26, step=920011]"
          ]
        },
        {
          "name": "stdout",
          "output_type": "stream",
          "text": [
            "Step 920000, best model saved. (accuracy=0.8679)\n"
          ]
        },
        {
          "name": "stderr",
          "output_type": "stream",
          "text": [
            "Train: 100% 2000/2000 [00:33<00:00, 59.28 step/s, accuracy=0.91, loss=0.24, step=922000]\n",
            "Valid: 100% 8480/8500 [00:01<00:00, 5795.66 uttr/s, accuracy=0.86, loss=0.66]\n",
            "Train: 100% 2000/2000 [00:33<00:00, 59.31 step/s, accuracy=0.97, loss=0.09, step=924000]\n",
            "Valid: 100% 8480/8500 [00:01<00:00, 5762.45 uttr/s, accuracy=0.86, loss=0.67]\n",
            "Train: 100% 2000/2000 [00:33<00:00, 58.98 step/s, accuracy=0.81, loss=0.43, step=926000]\n",
            "Valid: 100% 8480/8500 [00:01<00:00, 5728.42 uttr/s, accuracy=0.86, loss=0.66]\n",
            "Train: 100% 2000/2000 [00:33<00:00, 59.38 step/s, accuracy=0.91, loss=0.22, step=928000]\n",
            "Valid: 100% 8480/8500 [00:01<00:00, 5735.01 uttr/s, accuracy=0.86, loss=0.65]\n",
            "Train: 100% 2000/2000 [00:33<00:00, 59.38 step/s, accuracy=0.97, loss=0.10, step=930000]\n",
            "Valid: 100% 8480/8500 [00:01<00:00, 5636.87 uttr/s, accuracy=0.87, loss=0.61]\n",
            "Train:   0% 0/2000 [00:00<?, ? step/s]\n",
            "\n",
            "                                                                                        \n",
            "Train:   1% 11/2000 [00:00<00:36, 54.57 step/s, accuracy=0.88, loss=0.40, step=930011]"
          ]
        },
        {
          "name": "stdout",
          "output_type": "stream",
          "text": [
            "Step 930000, best model saved. (accuracy=0.8691)\n"
          ]
        },
        {
          "name": "stderr",
          "output_type": "stream",
          "text": [
            "Train: 100% 2000/2000 [00:33<00:00, 58.95 step/s, accuracy=0.91, loss=0.21, step=932000]\n",
            "Valid: 100% 8480/8500 [00:01<00:00, 5767.72 uttr/s, accuracy=0.86, loss=0.65]\n",
            "Train: 100% 2000/2000 [00:33<00:00, 59.38 step/s, accuracy=0.94, loss=0.17, step=934000]\n",
            "Valid: 100% 8480/8500 [00:01<00:00, 5780.53 uttr/s, accuracy=0.87, loss=0.65]\n",
            "Train: 100% 2000/2000 [00:33<00:00, 59.38 step/s, accuracy=0.94, loss=0.12, step=936000]\n",
            "Valid: 100% 8480/8500 [00:01<00:00, 5772.40 uttr/s, accuracy=0.86, loss=0.66]\n",
            "Train: 100% 2000/2000 [00:33<00:00, 59.03 step/s, accuracy=0.97, loss=0.08, step=938000]\n",
            "Valid: 100% 8480/8500 [00:01<00:00, 5798.34 uttr/s, accuracy=0.86, loss=0.64]\n",
            "Train: 100% 2000/2000 [00:33<00:00, 59.39 step/s, accuracy=0.97, loss=0.13, step=940000]\n",
            "Valid: 100% 8480/8500 [00:01<00:00, 5786.49 uttr/s, accuracy=0.86, loss=0.64]\n",
            "Train:   0% 0/2000 [00:00<?, ? step/s]\n",
            "\n",
            "                                                                                        \n",
            "Train:   1% 12/2000 [00:00<00:34, 58.36 step/s, accuracy=0.97, loss=0.28, step=940012]"
          ]
        },
        {
          "name": "stdout",
          "output_type": "stream",
          "text": [
            "Step 940000, best model saved. (accuracy=0.8691)\n"
          ]
        },
        {
          "name": "stderr",
          "output_type": "stream",
          "text": [
            "Train: 100% 2000/2000 [00:33<00:00, 59.43 step/s, accuracy=0.97, loss=0.08, step=942000]\n",
            "Valid: 100% 8480/8500 [00:01<00:00, 5682.12 uttr/s, accuracy=0.87, loss=0.62]\n",
            "Train: 100% 2000/2000 [00:33<00:00, 58.90 step/s, accuracy=0.91, loss=0.21, step=944000]\n",
            "Valid: 100% 8480/8500 [00:01<00:00, 5652.09 uttr/s, accuracy=0.86, loss=0.66]\n",
            "Train: 100% 2000/2000 [00:33<00:00, 59.38 step/s, accuracy=0.91, loss=0.23, step=946000]\n",
            "Valid: 100% 8480/8500 [00:01<00:00, 5652.02 uttr/s, accuracy=0.86, loss=0.65]\n",
            "Train: 100% 2000/2000 [00:33<00:00, 59.34 step/s, accuracy=1.00, loss=0.03, step=948000]\n",
            "Valid: 100% 8480/8500 [00:01<00:00, 5753.69 uttr/s, accuracy=0.87, loss=0.65]\n",
            "Train: 100% 2000/2000 [00:33<00:00, 58.93 step/s, accuracy=1.00, loss=0.02, step=950000]\n",
            "Valid: 100% 8480/8500 [00:01<00:00, 5745.93 uttr/s, accuracy=0.87, loss=0.62]\n",
            "Train:   0% 0/2000 [00:00<?, ? step/s]\n",
            "\n",
            "                                                                                        \n",
            "Train:   1% 11/2000 [00:00<00:35, 55.74 step/s, accuracy=0.91, loss=0.17, step=950011]"
          ]
        },
        {
          "name": "stdout",
          "output_type": "stream",
          "text": [
            "Step 950000, best model saved. (accuracy=0.8721)\n"
          ]
        },
        {
          "name": "stderr",
          "output_type": "stream",
          "text": [
            "Train: 100% 2000/2000 [00:33<00:00, 59.33 step/s, accuracy=0.97, loss=0.12, step=952000]\n",
            "Valid: 100% 8480/8500 [00:01<00:00, 5780.99 uttr/s, accuracy=0.87, loss=0.62]\n",
            "Train: 100% 2000/2000 [00:33<00:00, 59.40 step/s, accuracy=0.94, loss=0.16, step=954000]\n",
            "Valid: 100% 8480/8500 [00:01<00:00, 5745.27 uttr/s, accuracy=0.86, loss=0.66]\n",
            "Train: 100% 2000/2000 [00:33<00:00, 59.00 step/s, accuracy=0.97, loss=0.09, step=956000]\n",
            "Valid: 100% 8480/8500 [00:01<00:00, 5712.08 uttr/s, accuracy=0.86, loss=0.62]\n",
            "Train: 100% 2000/2000 [00:33<00:00, 59.33 step/s, accuracy=0.97, loss=0.14, step=958000]\n",
            "Valid: 100% 8480/8500 [00:01<00:00, 5603.70 uttr/s, accuracy=0.86, loss=0.65]\n",
            "Train: 100% 2000/2000 [00:33<00:00, 59.37 step/s, accuracy=0.88, loss=0.29, step=960000]\n",
            "Valid: 100% 8480/8500 [00:01<00:00, 5846.15 uttr/s, accuracy=0.87, loss=0.63]\n",
            "Train:   0% 0/2000 [00:00<?, ? step/s]\n",
            "\n",
            "                                                                                        \n",
            "Train:   1% 12/2000 [00:00<00:34, 58.05 step/s, accuracy=0.94, loss=0.15, step=960011]"
          ]
        },
        {
          "name": "stdout",
          "output_type": "stream",
          "text": [
            "Step 960000, best model saved. (accuracy=0.8721)\n"
          ]
        },
        {
          "name": "stderr",
          "output_type": "stream",
          "text": [
            "Train: 100% 2000/2000 [00:33<00:00, 58.91 step/s, accuracy=1.00, loss=0.06, step=962000]\n",
            "Valid: 100% 8480/8500 [00:01<00:00, 5758.68 uttr/s, accuracy=0.87, loss=0.63]\n",
            "Train: 100% 2000/2000 [00:33<00:00, 59.27 step/s, accuracy=1.00, loss=0.02, step=964000]\n",
            "Valid: 100% 8480/8500 [00:01<00:00, 5781.18 uttr/s, accuracy=0.86, loss=0.67]\n",
            "Train: 100% 2000/2000 [00:33<00:00, 59.37 step/s, accuracy=0.94, loss=0.21, step=966000]\n",
            "Valid: 100% 8480/8500 [00:01<00:00, 5745.34 uttr/s, accuracy=0.87, loss=0.61]\n",
            "Train: 100% 2000/2000 [00:33<00:00, 59.00 step/s, accuracy=0.97, loss=0.10, step=968000]\n",
            "Valid: 100% 8480/8500 [00:01<00:00, 5783.92 uttr/s, accuracy=0.86, loss=0.65]\n",
            "Train: 100% 2000/2000 [00:33<00:00, 59.39 step/s, accuracy=0.91, loss=0.15, step=970000]\n",
            "Valid: 100% 8480/8500 [00:01<00:00, 5659.37 uttr/s, accuracy=0.86, loss=0.66]\n",
            "Train:   0% 0/2000 [00:00<?, ? step/s]\n",
            "\n",
            "                                                                                        \n",
            "Train:   1% 11/2000 [00:00<00:36, 54.54 step/s, accuracy=1.00, loss=0.03, step=970011]"
          ]
        },
        {
          "name": "stdout",
          "output_type": "stream",
          "text": [
            "Step 970000, best model saved. (accuracy=0.8721)\n"
          ]
        },
        {
          "name": "stderr",
          "output_type": "stream",
          "text": [
            "Train: 100% 2000/2000 [00:33<00:00, 59.40 step/s, accuracy=1.00, loss=0.05, step=972000]\n",
            "Valid: 100% 8480/8500 [00:01<00:00, 5689.28 uttr/s, accuracy=0.87, loss=0.66]\n",
            "Train: 100% 2000/2000 [00:33<00:00, 58.95 step/s, accuracy=1.00, loss=0.06, step=974000]\n",
            "Valid: 100% 8480/8500 [00:01<00:00, 5677.95 uttr/s, accuracy=0.86, loss=0.66]\n",
            "Train: 100% 2000/2000 [00:33<00:00, 59.39 step/s, accuracy=0.91, loss=0.23, step=976000]\n",
            "Valid: 100% 8480/8500 [00:01<00:00, 5672.39 uttr/s, accuracy=0.86, loss=0.64]\n",
            "Train: 100% 2000/2000 [00:33<00:00, 59.37 step/s, accuracy=0.97, loss=0.13, step=978000]\n",
            "Valid: 100% 8480/8500 [00:01<00:00, 5731.52 uttr/s, accuracy=0.86, loss=0.67]\n",
            "Train: 100% 2000/2000 [00:33<00:00, 59.05 step/s, accuracy=1.00, loss=0.08, step=980000]\n",
            "Valid: 100% 8480/8500 [00:01<00:00, 5696.40 uttr/s, accuracy=0.87, loss=0.63]\n",
            "Train:   0% 0/2000 [00:00<?, ? step/s]\n",
            "\n",
            "                                                                                        \n",
            "Train:   1% 11/2000 [00:00<00:36, 54.69 step/s, accuracy=1.00, loss=0.05, step=980011]"
          ]
        },
        {
          "name": "stdout",
          "output_type": "stream",
          "text": [
            "Step 980000, best model saved. (accuracy=0.8721)\n"
          ]
        },
        {
          "name": "stderr",
          "output_type": "stream",
          "text": [
            "Train: 100% 2000/2000 [00:33<00:00, 59.38 step/s, accuracy=0.94, loss=0.17, step=982000]\n",
            "Valid: 100% 8480/8500 [00:01<00:00, 5748.59 uttr/s, accuracy=0.87, loss=0.61]\n",
            "Train: 100% 2000/2000 [00:33<00:00, 59.39 step/s, accuracy=0.91, loss=0.29, step=984000]\n",
            "Valid: 100% 8480/8500 [00:01<00:00, 5682.53 uttr/s, accuracy=0.87, loss=0.64]\n",
            "Train: 100% 2000/2000 [00:33<00:00, 59.04 step/s, accuracy=0.94, loss=0.29, step=986000]\n",
            "Valid: 100% 8480/8500 [00:01<00:00, 5741.35 uttr/s, accuracy=0.87, loss=0.62]\n",
            "Train: 100% 2000/2000 [00:33<00:00, 59.36 step/s, accuracy=0.94, loss=0.26, step=988000]\n",
            "Valid: 100% 8480/8500 [00:01<00:00, 5746.47 uttr/s, accuracy=0.87, loss=0.65]\n",
            "Train: 100% 2000/2000 [00:33<00:00, 59.39 step/s, accuracy=1.00, loss=0.06, step=990000]\n",
            "Valid: 100% 8480/8500 [00:01<00:00, 5770.88 uttr/s, accuracy=0.87, loss=0.67]\n",
            "Train:   0% 0/2000 [00:00<?, ? step/s]\n",
            "\n",
            "                                                                                        \n",
            "Train:   1% 11/2000 [00:00<00:35, 55.67 step/s, accuracy=0.97, loss=0.06, step=990011]"
          ]
        },
        {
          "name": "stdout",
          "output_type": "stream",
          "text": [
            "Step 990000, best model saved. (accuracy=0.8721)\n"
          ]
        },
        {
          "name": "stderr",
          "output_type": "stream",
          "text": [
            "Train: 100% 2000/2000 [00:33<00:00, 58.91 step/s, accuracy=0.94, loss=0.15, step=992000]\n",
            "Valid: 100% 8480/8500 [00:01<00:00, 5693.84 uttr/s, accuracy=0.87, loss=0.65]\n",
            "Train: 100% 2000/2000 [00:33<00:00, 59.39 step/s, accuracy=0.97, loss=0.13, step=994000]\n",
            "Valid: 100% 8480/8500 [00:01<00:00, 5683.75 uttr/s, accuracy=0.87, loss=0.61]\n",
            "Train: 100% 2000/2000 [00:33<00:00, 59.39 step/s, accuracy=0.94, loss=0.23, step=996000]\n",
            "Valid: 100% 8480/8500 [00:01<00:00, 5677.44 uttr/s, accuracy=0.86, loss=0.66]\n",
            "Train: 100% 2000/2000 [00:33<00:00, 58.98 step/s, accuracy=1.00, loss=0.03, step=998000]\n",
            "Valid: 100% 8480/8500 [00:01<00:00, 5692.96 uttr/s, accuracy=0.87, loss=0.62]\n",
            "Train: 100% 2000/2000 [00:33<00:00, 59.39 step/s, accuracy=1.00, loss=0.03, step=1e+6]  \n",
            "Valid: 100% 8480/8500 [00:01<00:00, 5696.95 uttr/s, accuracy=0.87, loss=0.64]\n",
            "Train:   0% 0/2000 [00:00<?, ? step/s]\n",
            "\n",
            "                                                                                        \n",
            "Train:   1% 11/2000 [00:00<00:35, 55.79 step/s, accuracy=1.00, loss=0.02, step=1e+6]"
          ]
        },
        {
          "name": "stdout",
          "output_type": "stream",
          "text": [
            "Step 1000000, best model saved. (accuracy=0.8733)\n"
          ]
        },
        {
          "name": "stderr",
          "output_type": "stream",
          "text": [
            "Train: 100% 2000/2000 [00:33<00:00, 59.35 step/s, accuracy=0.97, loss=0.05, step=1e+6]\n",
            "Valid: 100% 8480/8500 [00:01<00:00, 5716.95 uttr/s, accuracy=0.87, loss=0.64]\n",
            "Train: 100% 2000/2000 [00:33<00:00, 58.94 step/s, accuracy=0.94, loss=0.20, step=1e+6]\n",
            "Valid: 100% 8480/8500 [00:01<00:00, 5748.98 uttr/s, accuracy=0.87, loss=0.61]\n",
            "Train: 100% 2000/2000 [00:33<00:00, 59.37 step/s, accuracy=0.97, loss=0.12, step=1006000]\n",
            "Valid: 100% 8480/8500 [00:01<00:00, 5696.26 uttr/s, accuracy=0.87, loss=0.63]\n",
            "Train: 100% 2000/2000 [00:33<00:00, 59.41 step/s, accuracy=0.94, loss=0.28, step=1008000]\n",
            "Valid: 100% 8480/8500 [00:01<00:00, 5733.71 uttr/s, accuracy=0.86, loss=0.65]\n",
            "Train: 100% 2000/2000 [00:33<00:00, 58.99 step/s, accuracy=0.91, loss=0.30, step=1010000]\n",
            "Valid: 100% 8480/8500 [00:01<00:00, 5716.59 uttr/s, accuracy=0.87, loss=0.62]\n",
            "Train:   0% 0/2000 [00:00<?, ? step/s]\n",
            "\n",
            "                                                                                        \n",
            "Train:   1% 12/2000 [00:00<00:35, 56.76 step/s, accuracy=0.94, loss=0.11, step=1010012]"
          ]
        },
        {
          "name": "stdout",
          "output_type": "stream",
          "text": [
            "Step 1010000, best model saved. (accuracy=0.8733)\n"
          ]
        },
        {
          "name": "stderr",
          "output_type": "stream",
          "text": [
            "Train: 100% 2000/2000 [00:33<00:00, 59.35 step/s, accuracy=0.97, loss=0.35, step=1012000]\n",
            "Valid: 100% 8480/8500 [00:01<00:00, 5701.89 uttr/s, accuracy=0.87, loss=0.61]\n",
            "Train: 100% 2000/2000 [00:33<00:00, 59.44 step/s, accuracy=0.97, loss=0.17, step=1014000]\n",
            "Valid: 100% 8480/8500 [00:01<00:00, 5753.13 uttr/s, accuracy=0.87, loss=0.64]\n",
            "Train: 100% 2000/2000 [00:33<00:00, 58.91 step/s, accuracy=1.00, loss=0.03, step=1016000]\n",
            "Valid: 100% 8480/8500 [00:01<00:00, 5308.03 uttr/s, accuracy=0.87, loss=0.62]\n",
            "Train: 100% 2000/2000 [00:33<00:00, 59.27 step/s, accuracy=0.94, loss=0.14, step=1018000]\n",
            "Valid: 100% 8480/8500 [00:01<00:00, 5764.92 uttr/s, accuracy=0.88, loss=0.60]\n",
            "Train: 100% 2000/2000 [00:33<00:00, 59.35 step/s, accuracy=0.94, loss=0.19, step=1020000]\n",
            "Valid: 100% 8480/8500 [00:01<00:00, 5762.14 uttr/s, accuracy=0.87, loss=0.62]\n",
            "Train:   0% 0/2000 [00:00<?, ? step/s]\n",
            "\n",
            "                                                                                        \n",
            "Train:   1% 11/2000 [00:00<00:35, 56.35 step/s, accuracy=0.94, loss=0.14, step=1020011]"
          ]
        },
        {
          "name": "stdout",
          "output_type": "stream",
          "text": [
            "Step 1020000, best model saved. (accuracy=0.8750)\n"
          ]
        },
        {
          "name": "stderr",
          "output_type": "stream",
          "text": [
            "Train: 100% 2000/2000 [00:33<00:00, 58.97 step/s, accuracy=1.00, loss=0.02, step=1022000]\n",
            "Valid: 100% 8480/8500 [00:01<00:00, 5770.65 uttr/s, accuracy=0.87, loss=0.60]\n",
            "Train: 100% 2000/2000 [00:33<00:00, 59.38 step/s, accuracy=0.94, loss=0.15, step=1024000]\n",
            "Valid: 100% 8480/8500 [00:01<00:00, 5691.99 uttr/s, accuracy=0.87, loss=0.64]\n",
            "Train: 100% 2000/2000 [00:33<00:00, 59.36 step/s, accuracy=0.97, loss=0.11, step=1026000]\n",
            "Valid: 100% 8480/8500 [00:01<00:00, 5651.59 uttr/s, accuracy=0.87, loss=0.61]\n",
            "Train: 100% 2000/2000 [00:33<00:00, 59.03 step/s, accuracy=1.00, loss=0.03, step=1028000]\n",
            "Valid: 100% 8480/8500 [00:01<00:00, 5806.45 uttr/s, accuracy=0.87, loss=0.63]\n",
            "Train: 100% 2000/2000 [00:33<00:00, 59.31 step/s, accuracy=0.97, loss=0.06, step=1030000]\n",
            "Valid: 100% 8480/8500 [00:01<00:00, 5838.51 uttr/s, accuracy=0.87, loss=0.61]\n",
            "Train:   0% 0/2000 [00:00<?, ? step/s]\n",
            "\n",
            "                                                                                        \n",
            "Train:   1% 11/2000 [00:00<00:35, 55.75 step/s, accuracy=0.94, loss=0.27, step=1030011]"
          ]
        },
        {
          "name": "stdout",
          "output_type": "stream",
          "text": [
            "Step 1030000, best model saved. (accuracy=0.8750)\n"
          ]
        },
        {
          "name": "stderr",
          "output_type": "stream",
          "text": [
            "Train: 100% 2000/2000 [00:33<00:00, 59.32 step/s, accuracy=1.00, loss=0.01, step=1032000]\n",
            "Valid: 100% 8480/8500 [00:01<00:00, 5668.56 uttr/s, accuracy=0.87, loss=0.65]\n",
            "Train: 100% 2000/2000 [00:33<00:00, 58.91 step/s, accuracy=0.91, loss=0.27, step=1034000]\n",
            "Valid: 100% 8480/8500 [00:01<00:00, 5767.79 uttr/s, accuracy=0.87, loss=0.61]\n",
            "Train: 100% 2000/2000 [00:33<00:00, 59.46 step/s, accuracy=0.97, loss=0.09, step=1036000]\n",
            "Valid: 100% 8480/8500 [00:01<00:00, 5757.21 uttr/s, accuracy=0.87, loss=0.65]\n",
            "Train: 100% 2000/2000 [00:33<00:00, 59.35 step/s, accuracy=0.97, loss=0.06, step=1038000]\n",
            "Valid: 100% 8480/8500 [00:01<00:00, 5755.45 uttr/s, accuracy=0.87, loss=0.62]\n",
            "Train: 100% 2000/2000 [00:33<00:00, 58.98 step/s, accuracy=0.94, loss=0.23, step=1040000]\n",
            "Valid: 100% 8480/8500 [00:01<00:00, 5817.66 uttr/s, accuracy=0.87, loss=0.60]\n",
            "Train:   0% 0/2000 [00:00<?, ? step/s]\n",
            "\n",
            "                                                                                        \n",
            "Train:   1% 11/2000 [00:00<00:36, 53.77 step/s, accuracy=0.97, loss=0.31, step=1040011]"
          ]
        },
        {
          "name": "stdout",
          "output_type": "stream",
          "text": [
            "Step 1040000, best model saved. (accuracy=0.8750)\n"
          ]
        },
        {
          "name": "stderr",
          "output_type": "stream",
          "text": [
            "Train: 100% 2000/2000 [00:33<00:00, 59.22 step/s, accuracy=0.97, loss=0.11, step=1042000]\n",
            "Valid: 100% 8480/8500 [00:01<00:00, 5772.90 uttr/s, accuracy=0.87, loss=0.62]\n",
            "Train: 100% 2000/2000 [00:33<00:00, 59.35 step/s, accuracy=0.97, loss=0.05, step=1044000]\n",
            "Valid: 100% 8480/8500 [00:01<00:00, 5839.34 uttr/s, accuracy=0.87, loss=0.62]\n",
            "Train: 100% 2000/2000 [00:33<00:00, 58.95 step/s, accuracy=0.97, loss=0.12, step=1046000]\n",
            "Valid: 100% 8480/8500 [00:01<00:00, 5831.82 uttr/s, accuracy=0.87, loss=0.62]\n",
            "Train: 100% 2000/2000 [00:33<00:00, 59.33 step/s, accuracy=0.97, loss=0.06, step=1048000]\n",
            "Valid: 100% 8480/8500 [00:01<00:00, 5784.69 uttr/s, accuracy=0.87, loss=0.61]\n",
            "Train: 100% 2000/2000 [00:33<00:00, 59.40 step/s, accuracy=1.00, loss=0.02, step=1050000]\n",
            "Valid: 100% 8480/8500 [00:01<00:00, 5697.05 uttr/s, accuracy=0.87, loss=0.61]\n",
            "Train:   0% 0/2000 [00:00<?, ? step/s]\n",
            "\n",
            "                                                                                        \n",
            "Train:   1% 12/2000 [00:00<00:34, 57.79 step/s, accuracy=0.94, loss=0.22, step=1050011]"
          ]
        },
        {
          "name": "stdout",
          "output_type": "stream",
          "text": [
            "Step 1050000, best model saved. (accuracy=0.8750)\n"
          ]
        },
        {
          "name": "stderr",
          "output_type": "stream",
          "text": [
            "Train: 100% 2000/2000 [00:33<00:00, 58.98 step/s, accuracy=0.97, loss=0.10, step=1052000]\n",
            "Valid: 100% 8480/8500 [00:01<00:00, 5727.89 uttr/s, accuracy=0.87, loss=0.63]\n",
            "Train: 100% 2000/2000 [00:33<00:00, 59.42 step/s, accuracy=0.97, loss=0.10, step=1054000]\n",
            "Valid: 100% 8480/8500 [00:01<00:00, 5727.03 uttr/s, accuracy=0.88, loss=0.61]\n",
            "Train: 100% 2000/2000 [00:33<00:00, 59.37 step/s, accuracy=0.97, loss=0.11, step=1056000]\n",
            "Valid: 100% 8480/8500 [00:01<00:00, 5632.89 uttr/s, accuracy=0.88, loss=0.60]\n",
            "Train: 100% 2000/2000 [00:33<00:00, 59.36 step/s, accuracy=1.00, loss=0.03, step=1058000]\n",
            "Valid: 100% 8480/8500 [00:01<00:00, 5767.77 uttr/s, accuracy=0.87, loss=0.61]\n",
            "Train: 100% 2000/2000 [00:33<00:00, 58.94 step/s, accuracy=0.97, loss=0.16, step=1060000]\n",
            "Valid: 100% 8480/8500 [00:01<00:00, 5727.50 uttr/s, accuracy=0.87, loss=0.63]\n",
            "Train:   0% 0/2000 [00:00<?, ? step/s]\n",
            "\n",
            "                                                                                        \n",
            "Train:   1% 11/2000 [00:00<00:36, 54.71 step/s, accuracy=0.97, loss=0.09, step=1060011]"
          ]
        },
        {
          "name": "stdout",
          "output_type": "stream",
          "text": [
            "Step 1060000, best model saved. (accuracy=0.8775)\n"
          ]
        },
        {
          "name": "stderr",
          "output_type": "stream",
          "text": [
            "Train: 100% 2000/2000 [00:33<00:00, 59.31 step/s, accuracy=1.00, loss=0.05, step=1062000]\n",
            "Valid: 100% 8480/8500 [00:01<00:00, 5794.44 uttr/s, accuracy=0.88, loss=0.60]\n",
            "Train: 100% 2000/2000 [00:33<00:00, 59.40 step/s, accuracy=0.94, loss=0.22, step=1064000]\n",
            "Valid: 100% 8480/8500 [00:01<00:00, 5727.95 uttr/s, accuracy=0.88, loss=0.59]\n",
            "Train: 100% 2000/2000 [00:33<00:00, 58.99 step/s, accuracy=1.00, loss=0.04, step=1066000]\n",
            "Valid: 100% 8480/8500 [00:01<00:00, 5720.28 uttr/s, accuracy=0.88, loss=0.60]\n",
            "Train: 100% 2000/2000 [00:33<00:00, 59.35 step/s, accuracy=0.88, loss=0.20, step=1068000]\n",
            "Valid: 100% 8480/8500 [00:01<00:00, 5678.74 uttr/s, accuracy=0.87, loss=0.60]\n",
            "Train: 100% 2000/2000 [00:33<00:00, 59.25 step/s, accuracy=1.00, loss=0.05, step=1070000]\n",
            "Valid: 100% 8480/8500 [00:01<00:00, 5725.08 uttr/s, accuracy=0.87, loss=0.63]\n",
            "Train:   0% 0/2000 [00:00<?, ? step/s]\n",
            "\n",
            "                                                                                        \n",
            "Train:   1% 12/2000 [00:00<00:34, 58.09 step/s, accuracy=0.97, loss=0.08, step=1070011]"
          ]
        },
        {
          "name": "stdout",
          "output_type": "stream",
          "text": [
            "Step 1070000, best model saved. (accuracy=0.8775)\n"
          ]
        },
        {
          "name": "stderr",
          "output_type": "stream",
          "text": [
            "Train: 100% 2000/2000 [00:33<00:00, 58.98 step/s, accuracy=1.00, loss=0.06, step=1072000]\n",
            "Valid: 100% 8480/8500 [00:01<00:00, 5749.60 uttr/s, accuracy=0.87, loss=0.62]\n",
            "Train: 100% 2000/2000 [00:33<00:00, 59.45 step/s, accuracy=0.97, loss=0.13, step=1074000]\n",
            "Valid: 100% 8480/8500 [00:01<00:00, 5702.26 uttr/s, accuracy=0.88, loss=0.59]\n",
            "Train: 100% 2000/2000 [00:33<00:00, 59.40 step/s, accuracy=0.97, loss=0.06, step=1076000]\n",
            "Valid: 100% 8480/8500 [00:01<00:00, 5640.17 uttr/s, accuracy=0.88, loss=0.60]\n",
            "Train: 100% 2000/2000 [00:33<00:00, 59.04 step/s, accuracy=0.97, loss=0.04, step=1078000]\n",
            "Valid: 100% 8480/8500 [00:01<00:00, 5759.20 uttr/s, accuracy=0.88, loss=0.59]\n",
            "Train: 100% 2000/2000 [00:33<00:00, 59.36 step/s, accuracy=0.97, loss=0.09, step=1080000]\n",
            "Valid: 100% 8480/8500 [00:01<00:00, 5711.01 uttr/s, accuracy=0.87, loss=0.61]\n",
            "Train:   0% 0/2000 [00:00<?, ? step/s]\n",
            "\n",
            "                                                                                        \n",
            "Train:   1% 11/2000 [00:00<00:36, 55.08 step/s, accuracy=1.00, loss=0.04, step=1080011]"
          ]
        },
        {
          "name": "stdout",
          "output_type": "stream",
          "text": [
            "Step 1080000, best model saved. (accuracy=0.8812)\n"
          ]
        },
        {
          "name": "stderr",
          "output_type": "stream",
          "text": [
            "Train: 100% 2000/2000 [00:33<00:00, 59.30 step/s, accuracy=1.00, loss=0.04, step=1082000]\n",
            "Valid: 100% 8480/8500 [00:01<00:00, 5788.85 uttr/s, accuracy=0.87, loss=0.63]\n",
            "Train: 100% 2000/2000 [00:33<00:00, 58.93 step/s, accuracy=0.91, loss=0.27, step=1084000]\n",
            "Valid: 100% 8480/8500 [00:01<00:00, 5699.02 uttr/s, accuracy=0.87, loss=0.62]\n",
            "Train: 100% 2000/2000 [00:33<00:00, 59.32 step/s, accuracy=0.94, loss=0.17, step=1086000]\n",
            "Valid: 100% 8480/8500 [00:01<00:00, 5736.96 uttr/s, accuracy=0.87, loss=0.64]\n",
            "Train: 100% 2000/2000 [00:33<00:00, 59.42 step/s, accuracy=0.97, loss=0.04, step=1088000]\n",
            "Valid: 100% 8480/8500 [00:01<00:00, 5742.03 uttr/s, accuracy=0.87, loss=0.62]\n",
            "Train: 100% 2000/2000 [00:33<00:00, 59.04 step/s, accuracy=1.00, loss=0.03, step=1090000]\n",
            "Valid: 100% 8480/8500 [00:01<00:00, 5607.75 uttr/s, accuracy=0.88, loss=0.64]\n",
            "Train:   0% 0/2000 [00:00<?, ? step/s]\n",
            "\n",
            "                                                                                        \n",
            "Train:   1% 11/2000 [00:00<00:35, 55.39 step/s, accuracy=1.00, loss=0.06, step=1090011]"
          ]
        },
        {
          "name": "stdout",
          "output_type": "stream",
          "text": [
            "Step 1090000, best model saved. (accuracy=0.8812)\n"
          ]
        },
        {
          "name": "stderr",
          "output_type": "stream",
          "text": [
            "Train: 100% 2000/2000 [00:33<00:00, 59.37 step/s, accuracy=1.00, loss=0.01, step=1092000]\n",
            "Valid: 100% 8480/8500 [00:01<00:00, 5657.51 uttr/s, accuracy=0.87, loss=0.62]\n",
            "Train: 100% 2000/2000 [00:33<00:00, 59.37 step/s, accuracy=0.97, loss=0.15, step=1094000]\n",
            "Valid: 100% 8480/8500 [00:01<00:00, 5712.76 uttr/s, accuracy=0.87, loss=0.63]\n",
            "Train: 100% 2000/2000 [00:33<00:00, 58.97 step/s, accuracy=0.97, loss=0.07, step=1.1e+6]\n",
            "Valid: 100% 8480/8500 [00:01<00:00, 5736.19 uttr/s, accuracy=0.88, loss=0.62]\n",
            "Train: 100% 2000/2000 [00:33<00:00, 59.34 step/s, accuracy=0.94, loss=0.17, step=1.1e+6]\n",
            "Valid: 100% 8480/8500 [00:01<00:00, 5838.40 uttr/s, accuracy=0.88, loss=0.60]\n",
            "Train: 100% 2000/2000 [00:33<00:00, 59.36 step/s, accuracy=0.97, loss=0.11, step=1.1e+6]\n",
            "Valid: 100% 8480/8500 [00:01<00:00, 5765.06 uttr/s, accuracy=0.88, loss=0.60]\n",
            "Train:   0% 0/2000 [00:00<?, ? step/s]\n",
            "\n",
            "                                                                                        \n",
            "Train:   1% 11/2000 [00:00<00:36, 55.21 step/s, accuracy=0.97, loss=0.05, step=1.1e+6]"
          ]
        },
        {
          "name": "stdout",
          "output_type": "stream",
          "text": [
            "Step 1100000, best model saved. (accuracy=0.8812)\n"
          ]
        },
        {
          "name": "stderr",
          "output_type": "stream",
          "text": [
            "Train: 100% 2000/2000 [00:33<00:00, 58.96 step/s, accuracy=1.00, loss=0.02, step=1.1e+6]\n",
            "Valid: 100% 8480/8500 [00:01<00:00, 5684.99 uttr/s, accuracy=0.88, loss=0.61]\n",
            "Train: 100% 2000/2000 [00:33<00:00, 59.33 step/s, accuracy=0.97, loss=0.09, step=1.1e+6]\n",
            "Valid: 100% 8480/8500 [00:01<00:00, 5646.40 uttr/s, accuracy=0.88, loss=0.61]\n",
            "Train: 100% 2000/2000 [00:33<00:00, 59.35 step/s, accuracy=0.97, loss=0.10, step=1106000]\n",
            "Valid: 100% 8480/8500 [00:01<00:00, 5778.38 uttr/s, accuracy=0.88, loss=0.62]\n",
            "Train: 100% 2000/2000 [00:33<00:00, 58.97 step/s, accuracy=1.00, loss=0.02, step=1108000]\n",
            "Valid: 100% 8480/8500 [00:01<00:00, 5716.31 uttr/s, accuracy=0.88, loss=0.58]\n",
            "Train: 100% 2000/2000 [00:33<00:00, 59.30 step/s, accuracy=0.94, loss=0.26, step=1110000]\n",
            "Valid: 100% 8480/8500 [00:01<00:00, 5776.65 uttr/s, accuracy=0.88, loss=0.60]\n",
            "Train:   0% 0/2000 [00:00<?, ? step/s]\n",
            "\n",
            "                                                                                        \n",
            "Train:   1% 11/2000 [00:00<00:36, 54.96 step/s, accuracy=1.00, loss=0.01, step=1110011]"
          ]
        },
        {
          "name": "stdout",
          "output_type": "stream",
          "text": [
            "Step 1110000, best model saved. (accuracy=0.8834)\n"
          ]
        },
        {
          "name": "stderr",
          "output_type": "stream",
          "text": [
            "Train: 100% 2000/2000 [00:33<00:00, 59.28 step/s, accuracy=0.94, loss=0.10, step=1112000]\n",
            "Valid: 100% 8480/8500 [00:01<00:00, 5583.54 uttr/s, accuracy=0.87, loss=0.65]\n",
            "Train: 100% 2000/2000 [00:33<00:00, 59.03 step/s, accuracy=0.94, loss=0.09, step=1114000]\n",
            "Valid: 100% 8480/8500 [00:01<00:00, 5715.36 uttr/s, accuracy=0.88, loss=0.59]\n",
            "Train: 100% 2000/2000 [00:33<00:00, 59.35 step/s, accuracy=1.00, loss=0.02, step=1116000]\n",
            "Valid: 100% 8480/8500 [00:01<00:00, 5773.66 uttr/s, accuracy=0.88, loss=0.60]\n",
            "Train: 100% 2000/2000 [00:33<00:00, 59.38 step/s, accuracy=0.97, loss=0.08, step=1118000]\n",
            "Valid: 100% 8480/8500 [00:01<00:00, 5721.08 uttr/s, accuracy=0.88, loss=0.61]\n",
            "Train: 100% 2000/2000 [00:33<00:00, 59.00 step/s, accuracy=0.97, loss=0.09, step=1120000]\n",
            "Valid: 100% 8480/8500 [00:01<00:00, 5386.31 uttr/s, accuracy=0.87, loss=0.61]\n",
            "Train:   0% 0/2000 [00:00<?, ? step/s]\n",
            "\n",
            "                                                                                        \n",
            "Train:   1% 11/2000 [00:00<00:36, 55.21 step/s, accuracy=1.00, loss=0.03, step=1120011]"
          ]
        },
        {
          "name": "stdout",
          "output_type": "stream",
          "text": [
            "Step 1120000, best model saved. (accuracy=0.8834)\n"
          ]
        },
        {
          "name": "stderr",
          "output_type": "stream",
          "text": [
            "Train: 100% 2000/2000 [00:33<00:00, 59.09 step/s, accuracy=0.97, loss=0.10, step=1122000]\n",
            "Valid: 100% 8480/8500 [00:01<00:00, 5739.96 uttr/s, accuracy=0.88, loss=0.59]\n",
            "Train: 100% 2000/2000 [00:33<00:00, 59.36 step/s, accuracy=0.94, loss=0.15, step=1124000]\n",
            "Valid: 100% 8480/8500 [00:01<00:00, 5686.51 uttr/s, accuracy=0.88, loss=0.57]\n",
            "Train: 100% 2000/2000 [00:33<00:00, 58.98 step/s, accuracy=1.00, loss=0.09, step=1126000]\n",
            "Valid: 100% 8480/8500 [00:01<00:00, 5810.51 uttr/s, accuracy=0.88, loss=0.61]\n",
            "Train: 100% 2000/2000 [00:33<00:00, 59.36 step/s, accuracy=0.97, loss=0.06, step=1128000]\n",
            "Valid: 100% 8480/8500 [00:01<00:00, 5717.67 uttr/s, accuracy=0.88, loss=0.57]\n",
            "Train: 100% 2000/2000 [00:33<00:00, 59.39 step/s, accuracy=1.00, loss=0.01, step=1130000]\n",
            "Valid: 100% 8480/8500 [00:01<00:00, 5733.00 uttr/s, accuracy=0.88, loss=0.59]\n",
            "Train:   0% 0/2000 [00:00<?, ? step/s]\n",
            "\n",
            "                                                                                        \n",
            "Train:   1% 11/2000 [00:00<00:36, 54.39 step/s, accuracy=0.97, loss=0.06, step=1130011]"
          ]
        },
        {
          "name": "stdout",
          "output_type": "stream",
          "text": [
            "Step 1130000, best model saved. (accuracy=0.8844)\n"
          ]
        },
        {
          "name": "stderr",
          "output_type": "stream",
          "text": [
            "Train: 100% 2000/2000 [00:33<00:00, 58.97 step/s, accuracy=0.97, loss=0.14, step=1132000]\n",
            "Valid: 100% 8480/8500 [00:01<00:00, 5632.39 uttr/s, accuracy=0.87, loss=0.62]\n",
            "Train: 100% 2000/2000 [00:33<00:00, 59.38 step/s, accuracy=1.00, loss=0.05, step=1134000]\n",
            "Valid: 100% 8480/8500 [00:01<00:00, 5735.44 uttr/s, accuracy=0.89, loss=0.56]\n",
            "Train: 100% 2000/2000 [00:33<00:00, 59.31 step/s, accuracy=0.88, loss=0.23, step=1136000]\n",
            "Valid: 100% 8480/8500 [00:01<00:00, 5774.19 uttr/s, accuracy=0.88, loss=0.60]\n",
            "Train: 100% 2000/2000 [00:33<00:00, 58.91 step/s, accuracy=1.00, loss=0.03, step=1138000]\n",
            "Valid: 100% 8480/8500 [00:01<00:00, 5666.93 uttr/s, accuracy=0.88, loss=0.59]\n",
            "Train: 100% 2000/2000 [00:33<00:00, 59.40 step/s, accuracy=0.97, loss=0.07, step=1140000]\n",
            "Valid: 100% 8480/8500 [00:01<00:00, 5818.71 uttr/s, accuracy=0.87, loss=0.62]\n",
            "Train:   0% 0/2000 [00:00<?, ? step/s]\n",
            "\n",
            "                                                                                        \n",
            "Train:   1% 11/2000 [00:00<00:35, 55.85 step/s, accuracy=0.97, loss=0.10, step=1140011]"
          ]
        },
        {
          "name": "stdout",
          "output_type": "stream",
          "text": [
            "Step 1140000, best model saved. (accuracy=0.8868)\n"
          ]
        },
        {
          "name": "stderr",
          "output_type": "stream",
          "text": [
            "Train: 100% 2000/2000 [00:33<00:00, 59.33 step/s, accuracy=0.91, loss=0.18, step=1142000]\n",
            "Valid: 100% 8480/8500 [00:01<00:00, 5826.31 uttr/s, accuracy=0.88, loss=0.59]\n",
            "Train: 100% 2000/2000 [00:33<00:00, 59.00 step/s, accuracy=1.00, loss=0.07, step=1144000]\n",
            "Valid: 100% 8480/8500 [00:01<00:00, 5718.57 uttr/s, accuracy=0.88, loss=0.59]\n",
            "Train: 100% 2000/2000 [00:33<00:00, 59.46 step/s, accuracy=1.00, loss=0.03, step=1146000]\n",
            "Valid: 100% 8480/8500 [00:01<00:00, 5700.39 uttr/s, accuracy=0.88, loss=0.59]\n",
            "Train: 100% 2000/2000 [00:33<00:00, 59.33 step/s, accuracy=0.94, loss=0.32, step=1148000]\n",
            "Valid: 100% 8480/8500 [00:01<00:00, 5698.99 uttr/s, accuracy=0.88, loss=0.60]\n",
            "Train: 100% 2000/2000 [00:33<00:00, 59.00 step/s, accuracy=0.97, loss=0.13, step=1150000]\n",
            "Valid: 100% 8480/8500 [00:01<00:00, 5782.31 uttr/s, accuracy=0.88, loss=0.59]\n",
            "Train:   0% 0/2000 [00:00<?, ? step/s]\n",
            "\n",
            "                                                                                        \n",
            "Train:   1% 11/2000 [00:00<00:35, 55.71 step/s, accuracy=0.97, loss=0.08, step=1150011]"
          ]
        },
        {
          "name": "stdout",
          "output_type": "stream",
          "text": [
            "Step 1150000, best model saved. (accuracy=0.8868)\n"
          ]
        },
        {
          "name": "stderr",
          "output_type": "stream",
          "text": [
            "Train: 100% 2000/2000 [00:33<00:00, 59.37 step/s, accuracy=0.97, loss=0.11, step=1152000]\n",
            "Valid: 100% 8480/8500 [00:01<00:00, 5741.53 uttr/s, accuracy=0.88, loss=0.60]\n",
            "Train: 100% 2000/2000 [00:33<00:00, 59.37 step/s, accuracy=1.00, loss=0.03, step=1154000]\n",
            "Valid: 100% 8480/8500 [00:01<00:00, 5778.75 uttr/s, accuracy=0.88, loss=0.57]\n",
            "Train: 100% 2000/2000 [00:33<00:00, 59.00 step/s, accuracy=0.94, loss=0.21, step=1156000]\n",
            "Valid: 100% 8480/8500 [00:01<00:00, 5726.43 uttr/s, accuracy=0.87, loss=0.62]\n",
            "Train: 100% 2000/2000 [00:33<00:00, 59.37 step/s, accuracy=0.97, loss=0.09, step=1158000]\n",
            "Valid: 100% 8480/8500 [00:01<00:00, 5626.82 uttr/s, accuracy=0.88, loss=0.58]\n",
            "Train: 100% 2000/2000 [00:33<00:00, 59.39 step/s, accuracy=0.97, loss=0.09, step=1160000]\n",
            "Valid: 100% 8480/8500 [00:01<00:00, 5775.66 uttr/s, accuracy=0.88, loss=0.59]\n",
            "Train:   0% 0/2000 [00:00<?, ? step/s]\n",
            "\n",
            "                                                                                        \n",
            "Train:   1% 11/2000 [00:00<00:35, 55.76 step/s, accuracy=1.00, loss=0.04, step=1160011]"
          ]
        },
        {
          "name": "stdout",
          "output_type": "stream",
          "text": [
            "Step 1160000, best model saved. (accuracy=0.8868)\n"
          ]
        },
        {
          "name": "stderr",
          "output_type": "stream",
          "text": [
            "Train: 100% 2000/2000 [00:33<00:00, 59.00 step/s, accuracy=0.97, loss=0.06, step=1162000]\n",
            "Valid: 100% 8480/8500 [00:01<00:00, 5712.95 uttr/s, accuracy=0.88, loss=0.60]\n",
            "Train: 100% 2000/2000 [00:33<00:00, 59.32 step/s, accuracy=0.88, loss=0.43, step=1164000]\n",
            "Valid: 100% 8480/8500 [00:01<00:00, 5640.04 uttr/s, accuracy=0.88, loss=0.61]\n",
            "Train: 100% 2000/2000 [00:33<00:00, 59.38 step/s, accuracy=1.00, loss=0.03, step=1166000]\n",
            "Valid: 100% 8480/8500 [00:01<00:00, 5662.10 uttr/s, accuracy=0.88, loss=0.60]\n",
            "Train: 100% 2000/2000 [00:33<00:00, 58.96 step/s, accuracy=0.97, loss=0.09, step=1168000]\n",
            "Valid: 100% 8480/8500 [00:01<00:00, 5768.98 uttr/s, accuracy=0.88, loss=0.58]\n",
            "Train: 100% 2000/2000 [00:33<00:00, 59.38 step/s, accuracy=1.00, loss=0.05, step=1170000]\n",
            "Valid: 100% 8480/8500 [00:01<00:00, 5763.34 uttr/s, accuracy=0.88, loss=0.60]\n",
            "Train:   0% 0/2000 [00:00<?, ? step/s]\n",
            "\n",
            "                                                                                        \n",
            "Train:   1% 11/2000 [00:00<00:36, 54.76 step/s, accuracy=0.97, loss=0.09, step=1170011]"
          ]
        },
        {
          "name": "stdout",
          "output_type": "stream",
          "text": [
            "Step 1170000, best model saved. (accuracy=0.8868)\n"
          ]
        },
        {
          "name": "stderr",
          "output_type": "stream",
          "text": [
            "Train: 100% 2000/2000 [00:33<00:00, 59.38 step/s, accuracy=1.00, loss=0.04, step=1172000]\n",
            "Valid: 100% 8480/8500 [00:01<00:00, 5747.74 uttr/s, accuracy=0.88, loss=0.59]\n",
            "Train: 100% 2000/2000 [00:33<00:00, 59.04 step/s, accuracy=1.00, loss=0.09, step=1174000]\n",
            "Valid: 100% 8480/8500 [00:01<00:00, 5360.03 uttr/s, accuracy=0.88, loss=0.58]\n",
            "Train: 100% 2000/2000 [00:33<00:00, 59.23 step/s, accuracy=1.00, loss=0.06, step=1176000]\n",
            "Valid: 100% 8480/8500 [00:01<00:00, 5717.29 uttr/s, accuracy=0.88, loss=0.59]\n",
            "Train: 100% 2000/2000 [00:33<00:00, 59.38 step/s, accuracy=1.00, loss=0.01, step=1178000]\n",
            "Valid: 100% 8480/8500 [00:01<00:00, 5753.91 uttr/s, accuracy=0.88, loss=0.59]\n",
            "Train: 100% 2000/2000 [00:33<00:00, 58.97 step/s, accuracy=0.91, loss=0.29, step=1180000]\n",
            "Valid: 100% 8480/8500 [00:01<00:00, 5712.13 uttr/s, accuracy=0.88, loss=0.60]\n",
            "Train:   0% 0/2000 [00:00<?, ? step/s]\n",
            "\n",
            "                                                                                        \n",
            "Train:   1% 11/2000 [00:00<00:36, 54.84 step/s, accuracy=0.97, loss=0.08, step=1180011]"
          ]
        },
        {
          "name": "stdout",
          "output_type": "stream",
          "text": [
            "Step 1180000, best model saved. (accuracy=0.8868)\n"
          ]
        },
        {
          "name": "stderr",
          "output_type": "stream",
          "text": [
            "Train: 100% 2000/2000 [00:33<00:00, 59.35 step/s, accuracy=0.94, loss=0.32, step=1182000]\n",
            "Valid: 100% 8480/8500 [00:01<00:00, 5790.05 uttr/s, accuracy=0.88, loss=0.62]\n",
            "Train: 100% 2000/2000 [00:33<00:00, 59.44 step/s, accuracy=0.94, loss=0.26, step=1184000]\n",
            "Valid: 100% 8480/8500 [00:01<00:00, 5788.07 uttr/s, accuracy=0.89, loss=0.56]\n",
            "Train: 100% 2000/2000 [00:33<00:00, 59.04 step/s, accuracy=1.00, loss=0.05, step=1186000]\n",
            "Valid: 100% 8480/8500 [00:01<00:00, 5665.50 uttr/s, accuracy=0.88, loss=0.58]\n",
            "Train: 100% 2000/2000 [00:33<00:00, 59.40 step/s, accuracy=1.00, loss=0.00, step=1188000]\n",
            "Valid: 100% 8480/8500 [00:01<00:00, 5751.77 uttr/s, accuracy=0.88, loss=0.59]\n",
            "Train: 100% 2000/2000 [00:33<00:00, 59.30 step/s, accuracy=1.00, loss=0.01, step=1190000]\n",
            "Valid: 100% 8480/8500 [00:01<00:00, 5766.78 uttr/s, accuracy=0.89, loss=0.54]\n",
            "Train:   0% 0/2000 [00:00<?, ? step/s]\n",
            "\n",
            "                                                                                        \n",
            "Train:   1% 11/2000 [00:00<00:35, 55.67 step/s, accuracy=0.88, loss=0.26, step=1190011]"
          ]
        },
        {
          "name": "stdout",
          "output_type": "stream",
          "text": [
            "Step 1190000, best model saved. (accuracy=0.8895)\n"
          ]
        },
        {
          "name": "stderr",
          "output_type": "stream",
          "text": [
            "Train: 100% 2000/2000 [00:33<00:00, 58.97 step/s, accuracy=0.94, loss=0.17, step=1192000]\n",
            "Valid: 100% 8480/8500 [00:01<00:00, 5708.58 uttr/s, accuracy=0.88, loss=0.58]\n",
            "Train: 100% 2000/2000 [00:33<00:00, 59.29 step/s, accuracy=1.00, loss=0.02, step=1194000]\n",
            "Valid: 100% 8480/8500 [00:01<00:00, 5819.37 uttr/s, accuracy=0.88, loss=0.58]\n",
            "Train: 100% 2000/2000 [00:33<00:00, 59.36 step/s, accuracy=0.97, loss=0.17, step=1.2e+6]\n",
            "Valid: 100% 8480/8500 [00:01<00:00, 5655.03 uttr/s, accuracy=0.88, loss=0.60]\n",
            "Train: 100% 2000/2000 [00:33<00:00, 59.00 step/s, accuracy=1.00, loss=0.02, step=1.2e+6]\n",
            "Valid: 100% 8480/8500 [00:01<00:00, 5659.94 uttr/s, accuracy=0.89, loss=0.55]\n",
            "Train: 100% 2000/2000 [00:33<00:00, 59.44 step/s, accuracy=0.97, loss=0.05, step=1.2e+6]\n",
            "Valid: 100% 8480/8500 [00:01<00:00, 5714.43 uttr/s, accuracy=0.88, loss=0.59]\n",
            "Train:   0% 0/2000 [00:00<?, ? step/s]\n",
            "\n",
            "                                                                                        \n",
            "Train:   1% 11/2000 [00:00<00:35, 55.26 step/s, accuracy=0.97, loss=0.04, step=1.2e+6]"
          ]
        },
        {
          "name": "stdout",
          "output_type": "stream",
          "text": [
            "Step 1200000, best model saved. (accuracy=0.8895)\n"
          ]
        },
        {
          "name": "stderr",
          "output_type": "stream",
          "text": [
            "Train: 100% 2000/2000 [00:33<00:00, 59.36 step/s, accuracy=1.00, loss=0.05, step=1.2e+6]\n",
            "Valid: 100% 8480/8500 [00:01<00:00, 5741.87 uttr/s, accuracy=0.88, loss=0.61]\n",
            "Train: 100% 2000/2000 [00:33<00:00, 59.36 step/s, accuracy=1.00, loss=0.01, step=1.2e+6]\n",
            "Valid: 100% 8480/8500 [00:01<00:00, 5799.68 uttr/s, accuracy=0.88, loss=0.58]\n",
            "Train: 100% 2000/2000 [00:33<00:00, 59.02 step/s, accuracy=0.94, loss=0.11, step=1206000]\n",
            "Valid: 100% 8480/8500 [00:01<00:00, 5689.17 uttr/s, accuracy=0.89, loss=0.57]\n",
            "Train: 100% 2000/2000 [00:33<00:00, 59.27 step/s, accuracy=0.94, loss=0.18, step=1208000]\n",
            "Valid: 100% 8480/8500 [00:01<00:00, 5663.06 uttr/s, accuracy=0.88, loss=0.58]\n",
            "Train: 100% 2000/2000 [00:33<00:00, 59.40 step/s, accuracy=1.00, loss=0.05, step=1210000]\n",
            "Valid: 100% 8480/8500 [00:01<00:00, 5664.06 uttr/s, accuracy=0.89, loss=0.58]\n",
            "Train:   0% 0/2000 [00:00<?, ? step/s]\n",
            "\n",
            "                                                                                        \n",
            "Train:   1% 12/2000 [00:00<00:34, 58.24 step/s, accuracy=1.00, loss=0.03, step=1210011]"
          ]
        },
        {
          "name": "stdout",
          "output_type": "stream",
          "text": [
            "Step 1210000, best model saved. (accuracy=0.8895)\n"
          ]
        },
        {
          "name": "stderr",
          "output_type": "stream",
          "text": [
            "Train: 100% 2000/2000 [00:33<00:00, 59.01 step/s, accuracy=0.97, loss=0.05, step=1212000]\n",
            "Valid: 100% 8480/8500 [00:01<00:00, 5820.07 uttr/s, accuracy=0.89, loss=0.58]\n",
            "Train: 100% 2000/2000 [00:33<00:00, 59.36 step/s, accuracy=0.97, loss=0.05, step=1214000]\n",
            "Valid: 100% 8480/8500 [00:01<00:00, 5638.06 uttr/s, accuracy=0.89, loss=0.55]\n",
            "Train: 100% 2000/2000 [00:33<00:00, 59.41 step/s, accuracy=0.97, loss=0.13, step=1216000]\n",
            "Valid: 100% 8480/8500 [00:01<00:00, 5645.33 uttr/s, accuracy=0.89, loss=0.57]\n",
            "Train: 100% 2000/2000 [00:33<00:00, 59.02 step/s, accuracy=1.00, loss=0.01, step=1218000]\n",
            "Valid: 100% 8480/8500 [00:01<00:00, 5754.70 uttr/s, accuracy=0.88, loss=0.60]\n",
            "Train: 100% 2000/2000 [00:33<00:00, 59.30 step/s, accuracy=1.00, loss=0.01, step=1220000]\n",
            "Valid: 100% 8480/8500 [00:01<00:00, 5827.67 uttr/s, accuracy=0.89, loss=0.56]\n",
            "Train:   0% 0/2000 [00:00<?, ? step/s]\n",
            "\n",
            "                                                                                        \n",
            "Train:   1% 11/2000 [00:00<00:35, 55.41 step/s, accuracy=0.97, loss=0.04, step=1220011]"
          ]
        },
        {
          "name": "stdout",
          "output_type": "stream",
          "text": [
            "Step 1220000, best model saved. (accuracy=0.8895)\n"
          ]
        },
        {
          "name": "stderr",
          "output_type": "stream",
          "text": [
            "Train: 100% 2000/2000 [00:33<00:00, 59.33 step/s, accuracy=1.00, loss=0.02, step=1222000]\n",
            "Valid: 100% 8480/8500 [00:01<00:00, 5723.03 uttr/s, accuracy=0.88, loss=0.60]\n",
            "Train: 100% 2000/2000 [00:33<00:00, 58.93 step/s, accuracy=1.00, loss=0.00, step=1224000]\n",
            "Valid: 100% 8480/8500 [00:01<00:00, 5842.52 uttr/s, accuracy=0.89, loss=0.56]\n",
            "Train: 100% 2000/2000 [00:33<00:00, 59.40 step/s, accuracy=0.97, loss=0.10, step=1226000]\n",
            "Valid: 100% 8480/8500 [00:01<00:00, 5776.10 uttr/s, accuracy=0.89, loss=0.56]\n",
            "Train: 100% 2000/2000 [00:33<00:00, 59.36 step/s, accuracy=0.91, loss=0.16, step=1228000]\n",
            "Valid: 100% 8480/8500 [00:01<00:00, 5730.82 uttr/s, accuracy=0.89, loss=0.58]\n",
            "Train: 100% 2000/2000 [00:33<00:00, 58.85 step/s, accuracy=0.97, loss=0.05, step=1230000]\n",
            "Valid: 100% 8480/8500 [00:01<00:00, 5787.79 uttr/s, accuracy=0.88, loss=0.59]\n",
            "Train:   0% 0/2000 [00:00<?, ? step/s]\n",
            "\n",
            "                                                                                        \n",
            "Train:   1% 11/2000 [00:00<00:37, 52.89 step/s, accuracy=0.97, loss=0.06, step=1230011]"
          ]
        },
        {
          "name": "stdout",
          "output_type": "stream",
          "text": [
            "Step 1230000, best model saved. (accuracy=0.8895)\n"
          ]
        },
        {
          "name": "stderr",
          "output_type": "stream",
          "text": [
            "Train: 100% 2000/2000 [00:33<00:00, 59.34 step/s, accuracy=1.00, loss=0.00, step=1232000]\n",
            "Valid: 100% 8480/8500 [00:01<00:00, 5712.92 uttr/s, accuracy=0.89, loss=0.54]\n",
            "Train: 100% 2000/2000 [00:33<00:00, 59.38 step/s, accuracy=0.91, loss=0.18, step=1234000]\n",
            "Valid: 100% 8480/8500 [00:01<00:00, 5840.44 uttr/s, accuracy=0.89, loss=0.55]\n",
            "Train: 100% 2000/2000 [00:33<00:00, 58.99 step/s, accuracy=1.00, loss=0.00, step=1236000]\n",
            "Valid: 100% 8480/8500 [00:01<00:00, 5743.54 uttr/s, accuracy=0.89, loss=0.58]\n",
            "Train: 100% 2000/2000 [00:33<00:00, 59.35 step/s, accuracy=1.00, loss=0.04, step=1238000]\n",
            "Valid: 100% 8480/8500 [00:01<00:00, 5656.03 uttr/s, accuracy=0.89, loss=0.56]\n",
            "Train: 100% 2000/2000 [00:33<00:00, 59.37 step/s, accuracy=0.94, loss=0.19, step=1240000]\n",
            "Valid: 100% 8480/8500 [00:01<00:00, 5688.30 uttr/s, accuracy=0.89, loss=0.55]\n",
            "Train:   0% 0/2000 [00:00<?, ? step/s]\n",
            "\n",
            "                                                                                        \n",
            "Train:   1% 11/2000 [00:00<00:37, 53.50 step/s, accuracy=0.97, loss=0.13, step=1240011]"
          ]
        },
        {
          "name": "stdout",
          "output_type": "stream",
          "text": [
            "Step 1240000, best model saved. (accuracy=0.8895)\n"
          ]
        },
        {
          "name": "stderr",
          "output_type": "stream",
          "text": [
            "Train: 100% 2000/2000 [00:33<00:00, 58.98 step/s, accuracy=0.97, loss=0.10, step=1242000]\n",
            "Valid: 100% 8480/8500 [00:01<00:00, 5720.76 uttr/s, accuracy=0.89, loss=0.56]\n",
            "Train: 100% 2000/2000 [00:33<00:00, 59.37 step/s, accuracy=0.97, loss=0.06, step=1244000]\n",
            "Valid: 100% 8480/8500 [00:01<00:00, 5732.70 uttr/s, accuracy=0.88, loss=0.59]\n",
            "Train: 100% 2000/2000 [00:33<00:00, 59.40 step/s, accuracy=0.94, loss=0.14, step=1246000]\n",
            "Valid: 100% 8480/8500 [00:01<00:00, 5761.79 uttr/s, accuracy=0.89, loss=0.56]\n",
            "Train: 100% 2000/2000 [00:33<00:00, 59.00 step/s, accuracy=0.97, loss=0.06, step=1248000]\n",
            "Valid: 100% 8480/8500 [00:01<00:00, 5721.23 uttr/s, accuracy=0.89, loss=0.59]\n",
            "Train: 100% 2000/2000 [00:33<00:00, 59.37 step/s, accuracy=1.00, loss=0.01, step=1250000]\n",
            "Valid: 100% 8480/8500 [00:01<00:00, 5730.61 uttr/s, accuracy=0.89, loss=0.57]\n",
            "Train:   0% 0/2000 [00:00<?, ? step/s]\n",
            "\n",
            "                                                                                        \n",
            "Train:   1% 11/2000 [00:00<00:35, 55.97 step/s, accuracy=1.00, loss=0.05, step=1250011]"
          ]
        },
        {
          "name": "stdout",
          "output_type": "stream",
          "text": [
            "Step 1250000, best model saved. (accuracy=0.8915)\n"
          ]
        },
        {
          "name": "stderr",
          "output_type": "stream",
          "text": [
            "Train: 100% 2000/2000 [00:33<00:00, 59.36 step/s, accuracy=0.97, loss=0.11, step=1252000]\n",
            "Valid: 100% 8480/8500 [00:01<00:00, 5708.76 uttr/s, accuracy=0.89, loss=0.56]\n",
            "Train: 100% 2000/2000 [00:33<00:00, 58.94 step/s, accuracy=0.97, loss=0.07, step=1254000]\n",
            "Valid: 100% 8480/8500 [00:01<00:00, 5745.96 uttr/s, accuracy=0.89, loss=0.56]\n",
            "Train: 100% 2000/2000 [00:33<00:00, 59.33 step/s, accuracy=0.97, loss=0.10, step=1256000]\n",
            "Valid: 100% 8480/8500 [00:01<00:00, 5767.48 uttr/s, accuracy=0.89, loss=0.55]\n",
            "Train: 100% 2000/2000 [00:33<00:00, 59.37 step/s, accuracy=1.00, loss=0.01, step=1258000]\n",
            "Valid: 100% 8480/8500 [00:01<00:00, 5703.48 uttr/s, accuracy=0.89, loss=0.56]\n",
            "Train: 100% 2000/2000 [00:33<00:00, 59.01 step/s, accuracy=0.97, loss=0.06, step=1260000]\n",
            "Valid: 100% 8480/8500 [00:01<00:00, 5802.66 uttr/s, accuracy=0.88, loss=0.56]\n",
            "Train:   0% 0/2000 [00:00<?, ? step/s]\n",
            "\n",
            "                                                                                        \n",
            "Train:   1% 12/2000 [00:00<00:35, 56.58 step/s, accuracy=0.97, loss=0.14, step=1260012]"
          ]
        },
        {
          "name": "stdout",
          "output_type": "stream",
          "text": [
            "Step 1260000, best model saved. (accuracy=0.8915)\n"
          ]
        },
        {
          "name": "stderr",
          "output_type": "stream",
          "text": [
            "Train: 100% 2000/2000 [00:33<00:00, 59.37 step/s, accuracy=0.97, loss=0.10, step=1262000]\n",
            "Valid: 100% 8480/8500 [00:01<00:00, 5757.84 uttr/s, accuracy=0.89, loss=0.57]\n",
            "Train: 100% 2000/2000 [00:33<00:00, 59.33 step/s, accuracy=0.97, loss=0.06, step=1264000]\n",
            "Valid: 100% 8480/8500 [00:01<00:00, 5735.69 uttr/s, accuracy=0.89, loss=0.53]\n",
            "Train: 100% 2000/2000 [00:33<00:00, 58.99 step/s, accuracy=1.00, loss=0.02, step=1266000]\n",
            "Valid: 100% 8480/8500 [00:01<00:00, 5651.73 uttr/s, accuracy=0.89, loss=0.55]\n",
            "Train: 100% 2000/2000 [00:33<00:00, 59.39 step/s, accuracy=1.00, loss=0.04, step=1268000]\n",
            "Valid: 100% 8480/8500 [00:01<00:00, 5749.30 uttr/s, accuracy=0.89, loss=0.55]\n",
            "Train: 100% 2000/2000 [00:33<00:00, 59.37 step/s, accuracy=1.00, loss=0.04, step=1270000]\n",
            "Valid: 100% 8480/8500 [00:01<00:00, 5802.49 uttr/s, accuracy=0.89, loss=0.58]\n",
            "Train:   0% 0/2000 [00:00<?, ? step/s]\n",
            "\n",
            "                                                                                        \n",
            "Train:   1% 12/2000 [00:00<00:35, 56.48 step/s, accuracy=0.97, loss=0.04, step=1270012]"
          ]
        },
        {
          "name": "stdout",
          "output_type": "stream",
          "text": [
            "Step 1270000, best model saved. (accuracy=0.8917)\n"
          ]
        },
        {
          "name": "stderr",
          "output_type": "stream",
          "text": [
            "Train: 100% 2000/2000 [00:33<00:00, 58.96 step/s, accuracy=0.97, loss=0.08, step=1272000]\n",
            "Valid: 100% 8480/8500 [00:01<00:00, 5720.96 uttr/s, accuracy=0.89, loss=0.55]\n",
            "Train: 100% 2000/2000 [00:33<00:00, 59.34 step/s, accuracy=0.97, loss=0.25, step=1274000]\n",
            "Valid: 100% 8480/8500 [00:01<00:00, 5773.08 uttr/s, accuracy=0.89, loss=0.56]\n",
            "Train: 100% 2000/2000 [00:33<00:00, 59.35 step/s, accuracy=1.00, loss=0.01, step=1276000]\n",
            "Valid: 100% 8480/8500 [00:01<00:00, 5758.16 uttr/s, accuracy=0.89, loss=0.57]\n",
            "Train: 100% 2000/2000 [00:33<00:00, 59.03 step/s, accuracy=1.00, loss=0.00, step=1278000]\n",
            "Valid: 100% 8480/8500 [00:01<00:00, 5754.88 uttr/s, accuracy=0.89, loss=0.55]\n",
            "Train: 100% 2000/2000 [00:33<00:00, 59.39 step/s, accuracy=0.94, loss=0.16, step=1280000]\n",
            "Valid: 100% 8480/8500 [00:01<00:00, 5633.83 uttr/s, accuracy=0.89, loss=0.58]\n",
            "Train:   0% 0/2000 [00:00<?, ? step/s]\n",
            "\n",
            "                                                                                        \n",
            "Train:   1% 11/2000 [00:00<00:35, 55.93 step/s, accuracy=0.97, loss=0.14, step=1280011]"
          ]
        },
        {
          "name": "stdout",
          "output_type": "stream",
          "text": [
            "Step 1280000, best model saved. (accuracy=0.8921)\n"
          ]
        },
        {
          "name": "stderr",
          "output_type": "stream",
          "text": [
            "Train: 100% 2000/2000 [00:33<00:00, 59.32 step/s, accuracy=0.97, loss=0.13, step=1282000]\n",
            "Valid: 100% 8480/8500 [00:01<00:00, 5758.13 uttr/s, accuracy=0.89, loss=0.56]\n",
            "Train: 100% 2000/2000 [00:34<00:00, 58.80 step/s, accuracy=1.00, loss=0.05, step=1284000]\n",
            "Valid: 100% 8480/8500 [00:01<00:00, 5671.76 uttr/s, accuracy=0.89, loss=0.54]\n",
            "Train: 100% 2000/2000 [00:33<00:00, 59.34 step/s, accuracy=1.00, loss=0.05, step=1286000]\n",
            "Valid: 100% 8480/8500 [00:01<00:00, 5758.13 uttr/s, accuracy=0.89, loss=0.55]\n",
            "Train: 100% 2000/2000 [00:33<00:00, 59.30 step/s, accuracy=0.97, loss=0.14, step=1288000]\n",
            "Valid: 100% 8480/8500 [00:01<00:00, 5814.74 uttr/s, accuracy=0.89, loss=0.57]\n",
            "Train: 100% 2000/2000 [00:33<00:00, 58.92 step/s, accuracy=1.00, loss=0.01, step=1290000]\n",
            "Valid: 100% 8480/8500 [00:01<00:00, 5770.65 uttr/s, accuracy=0.89, loss=0.54]\n",
            "Train:   0% 0/2000 [00:00<?, ? step/s]\n",
            "\n",
            "                                                                                        \n",
            "Train:   1% 11/2000 [00:00<00:36, 54.25 step/s, accuracy=1.00, loss=0.05, step=1290011]"
          ]
        },
        {
          "name": "stdout",
          "output_type": "stream",
          "text": [
            "Step 1290000, best model saved. (accuracy=0.8948)\n"
          ]
        },
        {
          "name": "stderr",
          "output_type": "stream",
          "text": [
            "Train: 100% 2000/2000 [00:33<00:00, 59.32 step/s, accuracy=0.97, loss=0.09, step=1292000]\n",
            "Valid: 100% 8480/8500 [00:01<00:00, 5742.98 uttr/s, accuracy=0.89, loss=0.56]\n",
            "Train: 100% 2000/2000 [00:33<00:00, 59.33 step/s, accuracy=1.00, loss=0.03, step=1294000]\n",
            "Valid: 100% 8480/8500 [00:01<00:00, 5633.67 uttr/s, accuracy=0.90, loss=0.54]\n",
            "Train: 100% 2000/2000 [00:33<00:00, 58.98 step/s, accuracy=0.94, loss=0.18, step=1.3e+6]\n",
            "Valid: 100% 8480/8500 [00:01<00:00, 5708.65 uttr/s, accuracy=0.89, loss=0.55]\n",
            "Train: 100% 2000/2000 [00:33<00:00, 59.43 step/s, accuracy=1.00, loss=0.02, step=1.3e+6]\n",
            "Valid: 100% 8480/8500 [00:01<00:00, 5656.99 uttr/s, accuracy=0.89, loss=0.56]\n",
            "Train: 100% 2000/2000 [00:33<00:00, 59.32 step/s, accuracy=0.97, loss=0.15, step=1.3e+6]\n",
            "Valid: 100% 8480/8500 [00:01<00:00, 5778.60 uttr/s, accuracy=0.90, loss=0.55]\n",
            "Train:   0% 0/2000 [00:00<?, ? step/s]\n",
            "\n",
            "                                                                                        \n",
            "Train:   1% 11/2000 [00:00<00:37, 53.59 step/s, accuracy=1.00, loss=0.01, step=1.3e+6]"
          ]
        },
        {
          "name": "stdout",
          "output_type": "stream",
          "text": [
            "Step 1300000, best model saved. (accuracy=0.8962)\n"
          ]
        },
        {
          "name": "stderr",
          "output_type": "stream",
          "text": [
            "Train: 100% 2000/2000 [00:33<00:00, 58.94 step/s, accuracy=1.00, loss=0.02, step=1.3e+6]\n",
            "Valid: 100% 8480/8500 [00:01<00:00, 5690.24 uttr/s, accuracy=0.89, loss=0.55]\n",
            "Train: 100% 2000/2000 [00:33<00:00, 59.36 step/s, accuracy=1.00, loss=0.02, step=1.3e+6]\n",
            "Valid: 100% 8480/8500 [00:01<00:00, 5791.85 uttr/s, accuracy=0.89, loss=0.56]\n",
            "Train: 100% 2000/2000 [00:33<00:00, 59.31 step/s, accuracy=1.00, loss=0.05, step=1306000]\n",
            "Valid: 100% 8480/8500 [00:01<00:00, 5651.41 uttr/s, accuracy=0.89, loss=0.55]\n",
            "Train: 100% 2000/2000 [00:33<00:00, 59.09 step/s, accuracy=0.94, loss=0.10, step=1308000]\n",
            "Valid: 100% 8480/8500 [00:01<00:00, 5748.87 uttr/s, accuracy=0.90, loss=0.54]\n",
            "Train: 100% 2000/2000 [00:33<00:00, 59.23 step/s, accuracy=0.97, loss=0.11, step=1310000]\n",
            "Valid: 100% 8480/8500 [00:01<00:00, 5735.94 uttr/s, accuracy=0.89, loss=0.55]\n",
            "Train:   0% 0/2000 [00:00<?, ? step/s]\n",
            "\n",
            "                                                                                        \n",
            "Train:   1% 12/2000 [00:00<00:33, 58.50 step/s, accuracy=0.97, loss=0.04, step=1310012]"
          ]
        },
        {
          "name": "stdout",
          "output_type": "stream",
          "text": [
            "Step 1310000, best model saved. (accuracy=0.8962)\n"
          ]
        },
        {
          "name": "stderr",
          "output_type": "stream",
          "text": [
            "Train: 100% 2000/2000 [00:33<00:00, 59.35 step/s, accuracy=0.97, loss=0.10, step=1312000]\n",
            "Valid: 100% 8480/8500 [00:01<00:00, 5741.80 uttr/s, accuracy=0.89, loss=0.56]\n",
            "Train: 100% 2000/2000 [00:33<00:00, 58.95 step/s, accuracy=1.00, loss=0.02, step=1314000]\n",
            "Valid: 100% 8480/8500 [00:01<00:00, 5759.47 uttr/s, accuracy=0.90, loss=0.55]\n",
            "Train: 100% 2000/2000 [00:33<00:00, 59.39 step/s, accuracy=1.00, loss=0.02, step=1316000]\n",
            "Valid: 100% 8480/8500 [00:01<00:00, 5731.21 uttr/s, accuracy=0.90, loss=0.54]\n",
            "Train: 100% 2000/2000 [00:33<00:00, 59.34 step/s, accuracy=1.00, loss=0.02, step=1318000]\n",
            "Valid: 100% 8480/8500 [00:01<00:00, 5824.74 uttr/s, accuracy=0.90, loss=0.56]\n",
            "Train: 100% 2000/2000 [00:33<00:00, 59.01 step/s, accuracy=0.94, loss=0.12, step=1320000]\n",
            "Valid: 100% 8480/8500 [00:01<00:00, 5739.88 uttr/s, accuracy=0.89, loss=0.55]\n",
            "Train:   0% 0/2000 [00:00<?, ? step/s]\n",
            "\n",
            "                                                                                        \n",
            "Train:   1% 11/2000 [00:00<00:35, 55.78 step/s, accuracy=0.97, loss=0.08, step=1320011]"
          ]
        },
        {
          "name": "stdout",
          "output_type": "stream",
          "text": [
            "Step 1320000, best model saved. (accuracy=0.8973)\n"
          ]
        },
        {
          "name": "stderr",
          "output_type": "stream",
          "text": [
            "Train: 100% 2000/2000 [00:33<00:00, 59.33 step/s, accuracy=0.94, loss=0.17, step=1322000]\n",
            "Valid: 100% 8480/8500 [00:01<00:00, 5720.57 uttr/s, accuracy=0.89, loss=0.57]\n",
            "Train: 100% 2000/2000 [00:33<00:00, 59.37 step/s, accuracy=0.97, loss=0.04, step=1324000]\n",
            "Valid: 100% 8480/8500 [00:01<00:00, 5809.01 uttr/s, accuracy=0.90, loss=0.56]\n",
            "Train: 100% 2000/2000 [00:33<00:00, 58.89 step/s, accuracy=0.91, loss=0.24, step=1326000]\n",
            "Valid: 100% 8480/8500 [00:01<00:00, 5795.09 uttr/s, accuracy=0.89, loss=0.58]\n",
            "Train: 100% 2000/2000 [00:33<00:00, 59.34 step/s, accuracy=1.00, loss=0.01, step=1328000]\n",
            "Valid: 100% 8480/8500 [00:01<00:00, 5805.62 uttr/s, accuracy=0.89, loss=0.54]\n",
            "Train: 100% 2000/2000 [00:33<00:00, 59.35 step/s, accuracy=1.00, loss=0.02, step=1330000]\n",
            "Valid: 100% 8480/8500 [00:01<00:00, 5793.65 uttr/s, accuracy=0.89, loss=0.55]\n",
            "Train:   0% 0/2000 [00:00<?, ? step/s]\n",
            "\n",
            "                                                                                        \n",
            "Train:   1% 11/2000 [00:00<00:35, 55.98 step/s, accuracy=0.97, loss=0.03, step=1330011]"
          ]
        },
        {
          "name": "stdout",
          "output_type": "stream",
          "text": [
            "Step 1330000, best model saved. (accuracy=0.8973)\n"
          ]
        },
        {
          "name": "stderr",
          "output_type": "stream",
          "text": [
            "Train: 100% 2000/2000 [00:33<00:00, 58.95 step/s, accuracy=0.97, loss=0.05, step=1332000]\n",
            "Valid: 100% 8480/8500 [00:01<00:00, 5791.28 uttr/s, accuracy=0.89, loss=0.55]\n",
            "Train: 100% 2000/2000 [00:33<00:00, 59.36 step/s, accuracy=1.00, loss=0.01, step=1334000]\n",
            "Valid: 100% 8480/8500 [00:01<00:00, 5722.78 uttr/s, accuracy=0.89, loss=0.55]\n",
            "Train: 100% 2000/2000 [00:33<00:00, 59.35 step/s, accuracy=0.97, loss=0.08, step=1336000]\n",
            "Valid: 100% 8480/8500 [00:01<00:00, 5349.41 uttr/s, accuracy=0.90, loss=0.53]\n",
            "Train: 100% 2000/2000 [00:33<00:00, 58.87 step/s, accuracy=0.97, loss=0.08, step=1338000]\n",
            "Valid: 100% 8480/8500 [00:01<00:00, 5649.57 uttr/s, accuracy=0.90, loss=0.54]\n",
            "Train: 100% 2000/2000 [00:33<00:00, 59.33 step/s, accuracy=0.97, loss=0.10, step=1340000]\n",
            "Valid: 100% 8480/8500 [00:01<00:00, 5809.12 uttr/s, accuracy=0.90, loss=0.53]\n",
            "Train:   0% 0/2000 [00:00<?, ? step/s]\n",
            "\n",
            "                                                                                        \n",
            "Train:   1% 12/2000 [00:00<00:35, 55.64 step/s, accuracy=1.00, loss=0.02, step=1340012]"
          ]
        },
        {
          "name": "stdout",
          "output_type": "stream",
          "text": [
            "Step 1340000, best model saved. (accuracy=0.9004)\n"
          ]
        },
        {
          "name": "stderr",
          "output_type": "stream",
          "text": [
            "Train: 100% 2000/2000 [00:33<00:00, 59.36 step/s, accuracy=1.00, loss=0.05, step=1342000]\n",
            "Valid: 100% 8480/8500 [00:01<00:00, 5735.93 uttr/s, accuracy=0.89, loss=0.57]\n",
            "Train: 100% 2000/2000 [00:33<00:00, 59.01 step/s, accuracy=0.97, loss=0.08, step=1344000]\n",
            "Valid: 100% 8480/8500 [00:01<00:00, 5713.51 uttr/s, accuracy=0.89, loss=0.56]\n",
            "Train: 100% 2000/2000 [00:33<00:00, 59.38 step/s, accuracy=1.00, loss=0.05, step=1346000]\n",
            "Valid: 100% 8480/8500 [00:01<00:00, 5719.56 uttr/s, accuracy=0.89, loss=0.55]\n",
            "Train: 100% 2000/2000 [00:33<00:00, 59.43 step/s, accuracy=1.00, loss=0.01, step=1348000]\n",
            "Valid: 100% 8480/8500 [00:01<00:00, 5818.05 uttr/s, accuracy=0.90, loss=0.53]\n",
            "Train: 100% 2000/2000 [00:33<00:00, 58.98 step/s, accuracy=1.00, loss=0.04, step=1350000]\n",
            "Valid: 100% 8480/8500 [00:01<00:00, 5708.30 uttr/s, accuracy=0.89, loss=0.56]\n",
            "Train:   0% 0/2000 [00:00<?, ? step/s]\n",
            "\n",
            "                                                                                        \n",
            "Train:   1% 11/2000 [00:00<00:36, 54.94 step/s, accuracy=1.00, loss=0.00, step=1350011]"
          ]
        },
        {
          "name": "stdout",
          "output_type": "stream",
          "text": [
            "Step 1350000, best model saved. (accuracy=0.9004)\n"
          ]
        },
        {
          "name": "stderr",
          "output_type": "stream",
          "text": [
            "Train: 100% 2000/2000 [00:33<00:00, 59.41 step/s, accuracy=1.00, loss=0.04, step=1352000]\n",
            "Valid: 100% 8480/8500 [00:01<00:00, 5772.26 uttr/s, accuracy=0.90, loss=0.55]\n",
            "Train: 100% 2000/2000 [00:33<00:00, 59.35 step/s, accuracy=0.97, loss=0.10, step=1354000]\n",
            "Valid: 100% 8480/8500 [00:01<00:00, 5675.79 uttr/s, accuracy=0.89, loss=0.56]\n",
            "Train: 100% 2000/2000 [00:33<00:00, 59.31 step/s, accuracy=0.97, loss=0.06, step=1356000]\n",
            "Valid: 100% 8480/8500 [00:01<00:00, 5799.96 uttr/s, accuracy=0.89, loss=0.58]\n",
            "Train: 100% 2000/2000 [00:33<00:00, 58.96 step/s, accuracy=0.97, loss=0.08, step=1358000]\n",
            "Valid: 100% 8480/8500 [00:01<00:00, 5769.60 uttr/s, accuracy=0.90, loss=0.55]\n",
            "Train: 100% 2000/2000 [00:33<00:00, 59.35 step/s, accuracy=1.00, loss=0.00, step=1360000]\n",
            "Valid: 100% 8480/8500 [00:01<00:00, 5766.90 uttr/s, accuracy=0.90, loss=0.54]\n",
            "Train:   0% 0/2000 [00:00<?, ? step/s]\n",
            "\n",
            "                                                                                        \n",
            "Train:   1% 11/2000 [00:00<00:36, 55.22 step/s, accuracy=0.97, loss=0.05, step=1360011]"
          ]
        },
        {
          "name": "stdout",
          "output_type": "stream",
          "text": [
            "Step 1360000, best model saved. (accuracy=0.9004)\n"
          ]
        },
        {
          "name": "stderr",
          "output_type": "stream",
          "text": [
            "Train: 100% 2000/2000 [00:33<00:00, 59.31 step/s, accuracy=1.00, loss=0.01, step=1362000]\n",
            "Valid: 100% 8480/8500 [00:01<00:00, 5767.86 uttr/s, accuracy=0.90, loss=0.55]\n",
            "Train: 100% 2000/2000 [00:33<00:00, 59.02 step/s, accuracy=0.97, loss=0.05, step=1364000]\n",
            "Valid: 100% 8480/8500 [00:01<00:00, 5639.66 uttr/s, accuracy=0.89, loss=0.56]\n",
            "Train: 100% 2000/2000 [00:33<00:00, 59.38 step/s, accuracy=1.00, loss=0.01, step=1366000]\n",
            "Valid: 100% 8480/8500 [00:01<00:00, 5709.32 uttr/s, accuracy=0.89, loss=0.55]\n",
            "Train: 100% 2000/2000 [00:33<00:00, 59.35 step/s, accuracy=0.94, loss=0.09, step=1368000]\n",
            "Valid: 100% 8480/8500 [00:01<00:00, 5681.90 uttr/s, accuracy=0.90, loss=0.53]\n",
            "Train: 100% 2000/2000 [00:33<00:00, 58.98 step/s, accuracy=1.00, loss=0.05, step=1370000]\n",
            "Valid: 100% 8480/8500 [00:01<00:00, 5729.15 uttr/s, accuracy=0.90, loss=0.55]\n",
            "Train:   0% 0/2000 [00:00<?, ? step/s]\n",
            "\n",
            "                                                                                        \n",
            "Train:   1% 11/2000 [00:00<00:35, 55.74 step/s, accuracy=1.00, loss=0.03, step=1370011]"
          ]
        },
        {
          "name": "stdout",
          "output_type": "stream",
          "text": [
            "Step 1370000, best model saved. (accuracy=0.9004)\n"
          ]
        },
        {
          "name": "stderr",
          "output_type": "stream",
          "text": [
            "Train: 100% 2000/2000 [00:33<00:00, 59.31 step/s, accuracy=1.00, loss=0.01, step=1372000]\n",
            "Valid: 100% 8480/8500 [00:01<00:00, 5797.74 uttr/s, accuracy=0.89, loss=0.55]\n",
            "Train: 100% 2000/2000 [00:33<00:00, 59.37 step/s, accuracy=0.97, loss=0.06, step=1374000]\n",
            "Valid: 100% 8480/8500 [00:01<00:00, 5744.66 uttr/s, accuracy=0.90, loss=0.56]\n",
            "Train: 100% 2000/2000 [00:33<00:00, 58.98 step/s, accuracy=1.00, loss=0.03, step=1376000]\n",
            "Valid: 100% 8480/8500 [00:01<00:00, 5791.43 uttr/s, accuracy=0.89, loss=0.55]\n",
            "Train: 100% 2000/2000 [00:33<00:00, 59.35 step/s, accuracy=1.00, loss=0.01, step=1378000]\n",
            "Valid: 100% 8480/8500 [00:01<00:00, 5750.00 uttr/s, accuracy=0.90, loss=0.54]\n",
            "Train: 100% 2000/2000 [00:33<00:00, 59.37 step/s, accuracy=0.97, loss=0.08, step=1380000]\n",
            "Valid: 100% 8480/8500 [00:01<00:00, 5721.00 uttr/s, accuracy=0.90, loss=0.53]\n",
            "Train:   0% 0/2000 [00:00<?, ? step/s]\n",
            "\n",
            "                                                                                        \n",
            "Train:   1% 11/2000 [00:00<00:36, 55.07 step/s, accuracy=1.00, loss=0.02, step=1380011]"
          ]
        },
        {
          "name": "stdout",
          "output_type": "stream",
          "text": [
            "Step 1380000, best model saved. (accuracy=0.9004)\n"
          ]
        },
        {
          "name": "stderr",
          "output_type": "stream",
          "text": [
            "Train: 100% 2000/2000 [00:33<00:00, 58.95 step/s, accuracy=1.00, loss=0.01, step=1382000]\n",
            "Valid: 100% 8480/8500 [00:01<00:00, 5649.16 uttr/s, accuracy=0.90, loss=0.51]\n",
            "Train: 100% 2000/2000 [00:33<00:00, 59.38 step/s, accuracy=1.00, loss=0.01, step=1384000]\n",
            "Valid: 100% 8480/8500 [00:01<00:00, 5780.93 uttr/s, accuracy=0.90, loss=0.54]\n",
            "Train: 100% 2000/2000 [00:33<00:00, 59.38 step/s, accuracy=1.00, loss=0.01, step=1386000]\n",
            "Valid: 100% 8480/8500 [00:01<00:00, 5771.70 uttr/s, accuracy=0.90, loss=0.55]\n",
            "Train: 100% 2000/2000 [00:33<00:00, 59.05 step/s, accuracy=1.00, loss=0.04, step=1388000]\n",
            "Valid: 100% 8480/8500 [00:01<00:00, 5767.65 uttr/s, accuracy=0.90, loss=0.53]\n",
            "Train: 100% 2000/2000 [00:33<00:00, 59.35 step/s, accuracy=1.00, loss=0.01, step=1390000]\n",
            "Valid: 100% 8480/8500 [00:01<00:00, 5395.43 uttr/s, accuracy=0.89, loss=0.55]\n",
            "Train:   0% 0/2000 [00:00<?, ? step/s]\n",
            "\n",
            "                                                                                        \n",
            "Train:   1% 12/2000 [00:00<00:35, 55.69 step/s, accuracy=1.00, loss=0.02, step=1390012]"
          ]
        },
        {
          "name": "stdout",
          "output_type": "stream",
          "text": [
            "Step 1390000, best model saved. (accuracy=0.9037)\n"
          ]
        },
        {
          "name": "stderr",
          "output_type": "stream",
          "text": [
            "Train: 100% 2000/2000 [00:33<00:00, 59.24 step/s, accuracy=1.00, loss=0.01, step=1392000]\n",
            "Valid: 100% 8480/8500 [00:01<00:00, 5693.17 uttr/s, accuracy=0.90, loss=0.54]\n",
            "Train: 100% 2000/2000 [00:33<00:00, 58.92 step/s, accuracy=1.00, loss=0.01, step=1394000]\n",
            "Valid: 100% 8480/8500 [00:01<00:00, 5786.91 uttr/s, accuracy=0.90, loss=0.52]\n",
            "Train: 100% 2000/2000 [00:33<00:00, 59.35 step/s, accuracy=0.97, loss=0.08, step=1.4e+6]\n",
            "Valid: 100% 8480/8500 [00:01<00:00, 5684.88 uttr/s, accuracy=0.90, loss=0.54]\n",
            "Train: 100% 2000/2000 [00:33<00:00, 59.38 step/s, accuracy=0.97, loss=0.07, step=1.4e+6]\n",
            "Valid: 100% 8480/8500 [00:01<00:00, 5817.99 uttr/s, accuracy=0.90, loss=0.54]\n",
            "Train: 100% 2000/2000 [00:33<00:00, 58.99 step/s, accuracy=0.97, loss=0.14, step=1.4e+6]\n",
            "Valid: 100% 8480/8500 [00:01<00:00, 5809.52 uttr/s, accuracy=0.89, loss=0.56]\n",
            "Train:   0% 0/2000 [00:00<?, ? step/s]\n",
            "\n",
            "                                                                                        \n",
            "Train:   1% 11/2000 [00:00<00:36, 54.22 step/s, accuracy=1.00, loss=0.03, step=1.4e+6]"
          ]
        },
        {
          "name": "stdout",
          "output_type": "stream",
          "text": [
            "Step 1400000, best model saved. (accuracy=0.9041)\n"
          ]
        },
        {
          "name": "stderr",
          "output_type": "stream",
          "text": [
            "Train: 100% 2000/2000 [00:33<00:00, 59.35 step/s, accuracy=1.00, loss=0.03, step=1.4e+6]\n",
            "Valid: 100% 8480/8500 [00:01<00:00, 5815.21 uttr/s, accuracy=0.89, loss=0.54]\n",
            "Train: 100% 2000/2000 [00:33<00:00, 59.34 step/s, accuracy=1.00, loss=0.01, step=1.4e+6]\n",
            "Valid: 100% 8480/8500 [00:01<00:00, 5726.64 uttr/s, accuracy=0.90, loss=0.52]\n",
            "Train: 100% 2000/2000 [00:33<00:00, 58.97 step/s, accuracy=0.97, loss=0.04, step=1406000]\n",
            "Valid: 100% 8480/8500 [00:01<00:00, 5678.34 uttr/s, accuracy=0.90, loss=0.52]\n",
            "Train: 100% 2000/2000 [00:33<00:00, 59.45 step/s, accuracy=1.00, loss=0.01, step=1408000]\n",
            "Valid: 100% 8480/8500 [00:01<00:00, 5727.01 uttr/s, accuracy=0.90, loss=0.54]\n",
            "Train: 100% 2000/2000 [00:33<00:00, 59.34 step/s, accuracy=1.00, loss=0.03, step=1410000]\n",
            "Valid: 100% 8480/8500 [00:01<00:00, 5771.70 uttr/s, accuracy=0.90, loss=0.54]\n",
            "Train:   0% 0/2000 [00:00<?, ? step/s]\n",
            "\n",
            "                                                                                        \n",
            "Train:   1% 11/2000 [00:00<00:35, 55.78 step/s, accuracy=1.00, loss=0.03, step=1410011]"
          ]
        },
        {
          "name": "stdout",
          "output_type": "stream",
          "text": [
            "Step 1410000, best model saved. (accuracy=0.9041)\n"
          ]
        },
        {
          "name": "stderr",
          "output_type": "stream",
          "text": [
            "Train: 100% 2000/2000 [00:33<00:00, 58.94 step/s, accuracy=1.00, loss=0.01, step=1412000]\n",
            "Valid: 100% 8480/8500 [00:01<00:00, 5786.05 uttr/s, accuracy=0.90, loss=0.53]\n",
            "Train: 100% 2000/2000 [00:33<00:00, 59.37 step/s, accuracy=0.97, loss=0.04, step=1414000]\n",
            "Valid: 100% 8480/8500 [00:01<00:00, 5716.67 uttr/s, accuracy=0.90, loss=0.54]\n",
            "Train: 100% 2000/2000 [00:33<00:00, 59.37 step/s, accuracy=0.94, loss=0.10, step=1416000]\n",
            "Valid: 100% 8480/8500 [00:01<00:00, 5726.37 uttr/s, accuracy=0.90, loss=0.53]\n",
            "Train: 100% 2000/2000 [00:33<00:00, 59.04 step/s, accuracy=1.00, loss=0.01, step=1418000]\n",
            "Valid: 100% 8480/8500 [00:01<00:00, 5747.93 uttr/s, accuracy=0.90, loss=0.52]\n",
            "Train: 100% 2000/2000 [00:33<00:00, 59.42 step/s, accuracy=1.00, loss=0.01, step=1420000]\n",
            "Valid: 100% 8480/8500 [00:01<00:00, 5685.35 uttr/s, accuracy=0.90, loss=0.53]\n",
            "Train:   0% 0/2000 [00:00<?, ? step/s]\n",
            "\n",
            "                                                                                        \n",
            "Train:   1% 12/2000 [00:00<00:34, 58.42 step/s, accuracy=0.97, loss=0.05, step=1420012]"
          ]
        },
        {
          "name": "stdout",
          "output_type": "stream",
          "text": [
            "Step 1420000, best model saved. (accuracy=0.9042)\n"
          ]
        },
        {
          "name": "stderr",
          "output_type": "stream",
          "text": [
            "Train: 100% 2000/2000 [00:33<00:00, 59.30 step/s, accuracy=0.97, loss=0.08, step=1422000]\n",
            "Valid: 100% 8480/8500 [00:01<00:00, 5673.40 uttr/s, accuracy=0.90, loss=0.52]\n",
            "Train: 100% 2000/2000 [00:33<00:00, 58.94 step/s, accuracy=1.00, loss=0.01, step=1424000]\n",
            "Valid: 100% 8480/8500 [00:01<00:00, 5796.29 uttr/s, accuracy=0.90, loss=0.53]\n",
            "Train: 100% 2000/2000 [00:33<00:00, 59.27 step/s, accuracy=1.00, loss=0.02, step=1426000]\n",
            "Valid: 100% 8480/8500 [00:01<00:00, 5792.43 uttr/s, accuracy=0.90, loss=0.54]\n",
            "Train: 100% 2000/2000 [00:33<00:00, 59.34 step/s, accuracy=1.00, loss=0.02, step=1428000]\n",
            "Valid: 100% 8480/8500 [00:01<00:00, 5763.41 uttr/s, accuracy=0.90, loss=0.52]\n",
            "Train: 100% 2000/2000 [00:33<00:00, 58.95 step/s, accuracy=1.00, loss=0.02, step=1430000]\n",
            "Valid: 100% 8480/8500 [00:01<00:00, 5674.44 uttr/s, accuracy=0.90, loss=0.52]\n",
            "Train:   0% 0/2000 [00:00<?, ? step/s]\n",
            "\n",
            "                                                                                        \n",
            "Train:   1% 12/2000 [00:00<00:35, 56.21 step/s, accuracy=1.00, loss=0.01, step=1430012]"
          ]
        },
        {
          "name": "stdout",
          "output_type": "stream",
          "text": [
            "Step 1430000, best model saved. (accuracy=0.9042)\n"
          ]
        },
        {
          "name": "stderr",
          "output_type": "stream",
          "text": [
            "Train: 100% 2000/2000 [00:33<00:00, 59.41 step/s, accuracy=0.97, loss=0.06, step=1432000]\n",
            "Valid: 100% 8480/8500 [00:01<00:00, 5707.52 uttr/s, accuracy=0.90, loss=0.54]\n",
            "Train: 100% 2000/2000 [00:33<00:00, 59.39 step/s, accuracy=1.00, loss=0.00, step=1434000]\n",
            "Valid: 100% 8480/8500 [00:01<00:00, 5730.39 uttr/s, accuracy=0.90, loss=0.54]\n",
            "Train: 100% 2000/2000 [00:33<00:00, 58.93 step/s, accuracy=0.97, loss=0.07, step=1436000]\n",
            "Valid: 100% 8480/8500 [00:01<00:00, 5712.90 uttr/s, accuracy=0.90, loss=0.52]\n",
            "Train: 100% 2000/2000 [00:33<00:00, 59.38 step/s, accuracy=1.00, loss=0.05, step=1438000]\n",
            "Valid: 100% 8480/8500 [00:01<00:00, 5754.85 uttr/s, accuracy=0.90, loss=0.53]\n",
            "Train: 100% 2000/2000 [00:33<00:00, 59.36 step/s, accuracy=1.00, loss=0.02, step=1440000]\n",
            "Valid: 100% 8480/8500 [00:01<00:00, 5732.87 uttr/s, accuracy=0.90, loss=0.52]\n",
            "Train:   0% 0/2000 [00:00<?, ? step/s]\n",
            "\n",
            "                                                                                        \n",
            "Train:   1% 12/2000 [00:00<00:35, 56.26 step/s, accuracy=0.97, loss=0.05, step=1440012]"
          ]
        },
        {
          "name": "stdout",
          "output_type": "stream",
          "text": [
            "Step 1440000, best model saved. (accuracy=0.9042)\n"
          ]
        },
        {
          "name": "stderr",
          "output_type": "stream",
          "text": [
            "Train: 100% 2000/2000 [00:33<00:00, 58.99 step/s, accuracy=1.00, loss=0.01, step=1442000]\n",
            "Valid: 100% 8480/8500 [00:01<00:00, 5684.76 uttr/s, accuracy=0.90, loss=0.52]\n",
            "Train: 100% 2000/2000 [00:33<00:00, 59.33 step/s, accuracy=1.00, loss=0.02, step=1444000]\n",
            "Valid: 100% 8480/8500 [00:01<00:00, 5421.14 uttr/s, accuracy=0.90, loss=0.54]\n",
            "Train: 100% 2000/2000 [00:33<00:00, 59.25 step/s, accuracy=1.00, loss=0.01, step=1446000]\n",
            "Valid: 100% 8480/8500 [00:01<00:00, 5757.89 uttr/s, accuracy=0.90, loss=0.51]\n",
            "Train: 100% 2000/2000 [00:33<00:00, 58.98 step/s, accuracy=1.00, loss=0.01, step=1448000]\n",
            "Valid: 100% 8480/8500 [00:01<00:00, 5610.44 uttr/s, accuracy=0.90, loss=0.52]\n",
            "Train: 100% 2000/2000 [00:33<00:00, 59.40 step/s, accuracy=1.00, loss=0.02, step=1450000]\n",
            "Valid: 100% 8480/8500 [00:01<00:00, 5748.85 uttr/s, accuracy=0.90, loss=0.54]\n",
            "Train:   0% 0/2000 [00:00<?, ? step/s]\n",
            "\n",
            "                                                                                        \n",
            "Train:   1% 12/2000 [00:00<00:35, 55.97 step/s, accuracy=0.97, loss=0.10, step=1450012]"
          ]
        },
        {
          "name": "stdout",
          "output_type": "stream",
          "text": [
            "Step 1450000, best model saved. (accuracy=0.9042)\n"
          ]
        },
        {
          "name": "stderr",
          "output_type": "stream",
          "text": [
            "Train: 100% 2000/2000 [00:33<00:00, 59.33 step/s, accuracy=1.00, loss=0.04, step=1452000]\n",
            "Valid: 100% 8480/8500 [00:01<00:00, 5807.65 uttr/s, accuracy=0.91, loss=0.51]\n",
            "Train: 100% 2000/2000 [00:33<00:00, 58.98 step/s, accuracy=1.00, loss=0.01, step=1454000]\n",
            "Valid: 100% 8480/8500 [00:01<00:00, 5744.98 uttr/s, accuracy=0.90, loss=0.54]\n",
            "Train: 100% 2000/2000 [00:33<00:00, 59.36 step/s, accuracy=1.00, loss=0.01, step=1456000]\n",
            "Valid: 100% 8480/8500 [00:01<00:00, 5739.51 uttr/s, accuracy=0.90, loss=0.52]\n",
            "Train: 100% 2000/2000 [00:33<00:00, 59.45 step/s, accuracy=1.00, loss=0.02, step=1458000]\n",
            "Valid: 100% 8480/8500 [00:01<00:00, 5698.83 uttr/s, accuracy=0.90, loss=0.53]\n",
            "Train: 100% 2000/2000 [00:33<00:00, 59.02 step/s, accuracy=1.00, loss=0.01, step=1460000]\n",
            "Valid: 100% 8480/8500 [00:01<00:00, 5706.79 uttr/s, accuracy=0.90, loss=0.53]\n",
            "Train:   0% 0/2000 [00:00<?, ? step/s]\n",
            "\n",
            "                                                                                        \n",
            "Train:   1% 11/2000 [00:00<00:36, 54.18 step/s, accuracy=1.00, loss=0.01, step=1460011]"
          ]
        },
        {
          "name": "stdout",
          "output_type": "stream",
          "text": [
            "Step 1460000, best model saved. (accuracy=0.9051)\n"
          ]
        },
        {
          "name": "stderr",
          "output_type": "stream",
          "text": [
            "Train: 100% 2000/2000 [00:33<00:00, 59.36 step/s, accuracy=1.00, loss=0.03, step=1462000]\n",
            "Valid: 100% 8480/8500 [00:01<00:00, 5725.77 uttr/s, accuracy=0.90, loss=0.52]\n",
            "Train: 100% 2000/2000 [00:33<00:00, 59.40 step/s, accuracy=0.97, loss=0.06, step=1464000]\n",
            "Valid: 100% 8480/8500 [00:01<00:00, 5774.63 uttr/s, accuracy=0.90, loss=0.55]\n",
            "Train: 100% 2000/2000 [00:33<00:00, 59.03 step/s, accuracy=1.00, loss=0.00, step=1466000]\n",
            "Valid: 100% 8480/8500 [00:01<00:00, 5725.01 uttr/s, accuracy=0.90, loss=0.51]\n",
            "Train: 100% 2000/2000 [00:33<00:00, 59.37 step/s, accuracy=1.00, loss=0.03, step=1468000]\n",
            "Valid: 100% 8480/8500 [00:01<00:00, 5736.09 uttr/s, accuracy=0.90, loss=0.52]\n",
            "Train: 100% 2000/2000 [00:33<00:00, 59.35 step/s, accuracy=0.97, loss=0.06, step=1470000]\n",
            "Valid: 100% 8480/8500 [00:01<00:00, 5728.94 uttr/s, accuracy=0.90, loss=0.51]\n",
            "Train:   0% 0/2000 [00:00<?, ? step/s]\n",
            "\n",
            "                                                                                        \n",
            "Train:   1% 12/2000 [00:00<00:34, 58.34 step/s, accuracy=0.97, loss=0.05, step=1470012]"
          ]
        },
        {
          "name": "stdout",
          "output_type": "stream",
          "text": [
            "Step 1470000, best model saved. (accuracy=0.9051)\n"
          ]
        },
        {
          "name": "stderr",
          "output_type": "stream",
          "text": [
            "Train: 100% 2000/2000 [00:33<00:00, 58.95 step/s, accuracy=1.00, loss=0.03, step=1472000]\n",
            "Valid: 100% 8480/8500 [00:01<00:00, 5706.89 uttr/s, accuracy=0.90, loss=0.52]\n",
            "Train: 100% 2000/2000 [00:33<00:00, 59.32 step/s, accuracy=1.00, loss=0.03, step=1474000]\n",
            "Valid: 100% 8480/8500 [00:01<00:00, 5749.54 uttr/s, accuracy=0.90, loss=0.54]\n",
            "Train: 100% 2000/2000 [00:33<00:00, 59.37 step/s, accuracy=1.00, loss=0.01, step=1476000]\n",
            "Valid: 100% 8480/8500 [00:01<00:00, 5765.53 uttr/s, accuracy=0.90, loss=0.55]\n",
            "Train: 100% 2000/2000 [00:33<00:00, 58.97 step/s, accuracy=1.00, loss=0.05, step=1478000]\n",
            "Valid: 100% 8480/8500 [00:01<00:00, 5730.65 uttr/s, accuracy=0.90, loss=0.51]\n",
            "Train: 100% 2000/2000 [00:33<00:00, 59.38 step/s, accuracy=1.00, loss=0.02, step=1480000]\n",
            "Valid: 100% 8480/8500 [00:01<00:00, 5844.35 uttr/s, accuracy=0.91, loss=0.51]\n",
            "Train:   0% 0/2000 [00:00<?, ? step/s]\n",
            "\n",
            "                                                                                        \n",
            "Train:   1% 12/2000 [00:00<00:34, 58.08 step/s, accuracy=1.00, loss=0.00, step=1480011]"
          ]
        },
        {
          "name": "stdout",
          "output_type": "stream",
          "text": [
            "Step 1480000, best model saved. (accuracy=0.9090)\n"
          ]
        },
        {
          "name": "stderr",
          "output_type": "stream",
          "text": [
            "Train: 100% 2000/2000 [00:33<00:00, 59.37 step/s, accuracy=1.00, loss=0.01, step=1482000]\n",
            "Valid: 100% 8480/8500 [00:01<00:00, 5705.57 uttr/s, accuracy=0.90, loss=0.53]\n",
            "Train: 100% 2000/2000 [00:33<00:00, 59.03 step/s, accuracy=1.00, loss=0.02, step=1484000]\n",
            "Valid: 100% 8480/8500 [00:01<00:00, 5781.44 uttr/s, accuracy=0.90, loss=0.54]\n",
            "Train: 100% 2000/2000 [00:33<00:00, 59.40 step/s, accuracy=1.00, loss=0.02, step=1486000]\n",
            "Valid: 100% 8480/8500 [00:01<00:00, 5795.84 uttr/s, accuracy=0.90, loss=0.51]\n",
            "Train: 100% 2000/2000 [00:33<00:00, 59.32 step/s, accuracy=1.00, loss=0.02, step=1488000]\n",
            "Valid: 100% 8480/8500 [00:01<00:00, 5686.91 uttr/s, accuracy=0.90, loss=0.52]\n",
            "Train: 100% 2000/2000 [00:33<00:00, 59.01 step/s, accuracy=1.00, loss=0.01, step=1490000]\n",
            "Valid: 100% 8480/8500 [00:01<00:00, 5796.46 uttr/s, accuracy=0.90, loss=0.54]\n",
            "Train:   0% 0/2000 [00:00<?, ? step/s]\n",
            "\n",
            "                                                                                        \n",
            "Train:   1% 12/2000 [00:00<00:34, 58.30 step/s, accuracy=1.00, loss=0.00, step=1490011]"
          ]
        },
        {
          "name": "stdout",
          "output_type": "stream",
          "text": [
            "Step 1490000, best model saved. (accuracy=0.9090)\n"
          ]
        },
        {
          "name": "stderr",
          "output_type": "stream",
          "text": [
            "Train: 100% 2000/2000 [00:33<00:00, 59.37 step/s, accuracy=1.00, loss=0.03, step=1492000]\n",
            "Valid: 100% 8480/8500 [00:01<00:00, 5765.62 uttr/s, accuracy=0.90, loss=0.54]\n",
            "Train: 100% 2000/2000 [00:33<00:00, 59.32 step/s, accuracy=1.00, loss=0.02, step=1494000]\n",
            "Valid: 100% 8480/8500 [00:01<00:00, 5784.70 uttr/s, accuracy=0.91, loss=0.53]\n",
            "Train: 100% 2000/2000 [00:33<00:00, 59.02 step/s, accuracy=1.00, loss=0.03, step=1.5e+6]\n",
            "Valid: 100% 8480/8500 [00:01<00:00, 5728.84 uttr/s, accuracy=0.91, loss=0.50]\n",
            "Train: 100% 2000/2000 [00:33<00:00, 59.24 step/s, accuracy=1.00, loss=0.01, step=1.5e+6]\n",
            "Valid: 100% 8480/8500 [00:01<00:00, 5803.99 uttr/s, accuracy=0.90, loss=0.54]\n",
            "Train: 100% 2000/2000 [00:33<00:00, 59.40 step/s, accuracy=0.97, loss=0.09, step=1.5e+6]\n",
            "Valid: 100% 8480/8500 [00:01<00:00, 5715.52 uttr/s, accuracy=0.90, loss=0.52]\n",
            "Train:   0% 0/2000 [00:00<?, ? step/s]\n",
            "\n",
            "                                                                                        \n",
            "Train:   0% 10/2000 [00:00<00:43, 45.24 step/s, accuracy=0.97, loss=0.03, step=1.5e+6]"
          ]
        },
        {
          "name": "stdout",
          "output_type": "stream",
          "text": [
            "Step 1500000, best model saved. (accuracy=0.9090)\n"
          ]
        },
        {
          "name": "stderr",
          "output_type": "stream",
          "text": [
            "Train: 100% 2000/2000 [00:33<00:00, 58.99 step/s, accuracy=1.00, loss=0.01, step=1.5e+6]\n",
            "Valid: 100% 8480/8500 [00:01<00:00, 5688.67 uttr/s, accuracy=0.91, loss=0.52]\n",
            "Train: 100% 2000/2000 [00:33<00:00, 59.38 step/s, accuracy=1.00, loss=0.00, step=1.5e+6]\n",
            "Valid: 100% 8480/8500 [00:01<00:00, 5698.73 uttr/s, accuracy=0.91, loss=0.52]\n",
            "Train: 100% 2000/2000 [00:33<00:00, 59.38 step/s, accuracy=1.00, loss=0.00, step=1506000]\n",
            "Valid: 100% 8480/8500 [00:01<00:00, 5757.55 uttr/s, accuracy=0.90, loss=0.52]\n",
            "Train: 100% 2000/2000 [00:33<00:00, 59.37 step/s, accuracy=1.00, loss=0.01, step=1508000]\n",
            "Valid: 100% 8480/8500 [00:01<00:00, 5717.63 uttr/s, accuracy=0.90, loss=0.50]\n",
            "Train: 100% 2000/2000 [00:33<00:00, 58.99 step/s, accuracy=1.00, loss=0.02, step=1510000]\n",
            "Valid: 100% 8480/8500 [00:01<00:00, 5693.12 uttr/s, accuracy=0.91, loss=0.52]\n",
            "Train:   0% 0/2000 [00:00<?, ? step/s]\n",
            "\n",
            "                                                                                        \n",
            "Train:   1% 12/2000 [00:00<00:34, 58.09 step/s, accuracy=1.00, loss=0.00, step=1510011]"
          ]
        },
        {
          "name": "stdout",
          "output_type": "stream",
          "text": [
            "Step 1510000, best model saved. (accuracy=0.9090)\n"
          ]
        },
        {
          "name": "stderr",
          "output_type": "stream",
          "text": [
            "Train: 100% 2000/2000 [00:33<00:00, 59.36 step/s, accuracy=1.00, loss=0.02, step=1512000]\n",
            "Valid: 100% 8480/8500 [00:01<00:00, 5754.29 uttr/s, accuracy=0.90, loss=0.52]\n",
            "Train: 100% 2000/2000 [00:33<00:00, 59.44 step/s, accuracy=1.00, loss=0.00, step=1514000]\n",
            "Valid: 100% 8480/8500 [00:01<00:00, 5689.76 uttr/s, accuracy=0.90, loss=0.53]\n",
            "Train: 100% 2000/2000 [00:33<00:00, 59.01 step/s, accuracy=1.00, loss=0.01, step=1516000]\n",
            "Valid: 100% 8480/8500 [00:01<00:00, 5719.97 uttr/s, accuracy=0.91, loss=0.52]\n",
            "Train: 100% 2000/2000 [00:33<00:00, 59.41 step/s, accuracy=1.00, loss=0.02, step=1518000]\n",
            "Valid: 100% 8480/8500 [00:01<00:00, 5715.38 uttr/s, accuracy=0.91, loss=0.51]\n",
            "Train: 100% 2000/2000 [00:33<00:00, 59.38 step/s, accuracy=1.00, loss=0.02, step=1520000]\n",
            "Valid: 100% 8480/8500 [00:01<00:00, 5731.35 uttr/s, accuracy=0.91, loss=0.51]\n",
            "Train:   0% 0/2000 [00:00<?, ? step/s]\n",
            "\n",
            "                                                                                        \n",
            "Train:   1% 11/2000 [00:00<00:35, 55.94 step/s, accuracy=1.00, loss=0.00, step=1520011]"
          ]
        },
        {
          "name": "stdout",
          "output_type": "stream",
          "text": [
            "Step 1520000, best model saved. (accuracy=0.9090)\n"
          ]
        },
        {
          "name": "stderr",
          "output_type": "stream",
          "text": [
            "Train: 100% 2000/2000 [00:33<00:00, 58.90 step/s, accuracy=1.00, loss=0.01, step=1522000]\n",
            "Valid: 100% 8480/8500 [00:01<00:00, 5749.45 uttr/s, accuracy=0.91, loss=0.51]\n",
            "Train: 100% 2000/2000 [00:33<00:00, 59.33 step/s, accuracy=1.00, loss=0.03, step=1524000]\n",
            "Valid: 100% 8480/8500 [00:01<00:00, 5799.99 uttr/s, accuracy=0.90, loss=0.52]\n",
            "Train: 100% 2000/2000 [00:33<00:00, 59.35 step/s, accuracy=1.00, loss=0.03, step=1526000]\n",
            "Valid: 100% 8480/8500 [00:01<00:00, 5766.68 uttr/s, accuracy=0.91, loss=0.51]\n",
            "Train: 100% 2000/2000 [00:33<00:00, 58.97 step/s, accuracy=1.00, loss=0.01, step=1528000]\n",
            "Valid: 100% 8480/8500 [00:01<00:00, 5655.30 uttr/s, accuracy=0.90, loss=0.53]\n",
            "Train: 100% 2000/2000 [00:33<00:00, 59.42 step/s, accuracy=1.00, loss=0.00, step=1530000]\n",
            "Valid: 100% 8480/8500 [00:01<00:00, 5754.56 uttr/s, accuracy=0.91, loss=0.51]\n",
            "Train:   0% 0/2000 [00:00<?, ? step/s]\n",
            "\n",
            "                                                                                        \n",
            "Train:   1% 11/2000 [00:00<00:35, 55.38 step/s, accuracy=0.97, loss=0.03, step=1530011]"
          ]
        },
        {
          "name": "stdout",
          "output_type": "stream",
          "text": [
            "Step 1530000, best model saved. (accuracy=0.9094)\n"
          ]
        },
        {
          "name": "stderr",
          "output_type": "stream",
          "text": [
            "Train: 100% 2000/2000 [00:33<00:00, 59.33 step/s, accuracy=1.00, loss=0.00, step=1532000]\n",
            "Valid: 100% 8480/8500 [00:01<00:00, 5716.76 uttr/s, accuracy=0.91, loss=0.51]\n",
            "Train: 100% 2000/2000 [00:33<00:00, 58.91 step/s, accuracy=1.00, loss=0.03, step=1534000]\n",
            "Valid: 100% 8480/8500 [00:01<00:00, 5806.59 uttr/s, accuracy=0.91, loss=0.52]\n",
            "Train: 100% 2000/2000 [00:33<00:00, 59.34 step/s, accuracy=1.00, loss=0.01, step=1536000]\n",
            "Valid: 100% 8480/8500 [00:01<00:00, 5761.41 uttr/s, accuracy=0.91, loss=0.51]\n",
            "Train: 100% 2000/2000 [00:33<00:00, 59.38 step/s, accuracy=1.00, loss=0.02, step=1538000]\n",
            "Valid: 100% 8480/8500 [00:01<00:00, 5782.54 uttr/s, accuracy=0.91, loss=0.50]\n",
            "Train: 100% 2000/2000 [00:33<00:00, 58.88 step/s, accuracy=1.00, loss=0.00, step=1540000]\n",
            "Valid: 100% 8480/8500 [00:01<00:00, 5736.44 uttr/s, accuracy=0.91, loss=0.52]\n",
            "Train:   0% 0/2000 [00:00<?, ? step/s]\n",
            "\n",
            "                                                                                        \n",
            "Train:   1% 12/2000 [00:00<00:34, 57.01 step/s, accuracy=1.00, loss=0.04, step=1540012]"
          ]
        },
        {
          "name": "stdout",
          "output_type": "stream",
          "text": [
            "Step 1540000, best model saved. (accuracy=0.9110)\n"
          ]
        },
        {
          "name": "stderr",
          "output_type": "stream",
          "text": [
            "Train: 100% 2000/2000 [00:33<00:00, 59.39 step/s, accuracy=1.00, loss=0.02, step=1542000]\n",
            "Valid: 100% 8480/8500 [00:01<00:00, 5729.12 uttr/s, accuracy=0.91, loss=0.51]\n",
            "Train: 100% 2000/2000 [00:33<00:00, 59.40 step/s, accuracy=1.00, loss=0.01, step=1544000]\n",
            "Valid: 100% 8480/8500 [00:01<00:00, 5643.28 uttr/s, accuracy=0.91, loss=0.51]\n",
            "Train: 100% 2000/2000 [00:33<00:00, 58.94 step/s, accuracy=1.00, loss=0.00, step=1546000]\n",
            "Valid: 100% 8480/8500 [00:01<00:00, 5750.22 uttr/s, accuracy=0.91, loss=0.52]\n",
            "Train: 100% 2000/2000 [00:33<00:00, 59.34 step/s, accuracy=1.00, loss=0.02, step=1548000]\n",
            "Valid: 100% 8480/8500 [00:01<00:00, 5766.50 uttr/s, accuracy=0.90, loss=0.51]\n",
            "Train: 100% 2000/2000 [00:33<00:00, 59.29 step/s, accuracy=1.00, loss=0.02, step=1550000]\n",
            "Valid: 100% 8480/8500 [00:01<00:00, 5427.85 uttr/s, accuracy=0.90, loss=0.52]\n",
            "Train:   0% 0/2000 [00:00<?, ? step/s]\n",
            "\n",
            "                                                                                        \n",
            "Train:   1% 12/2000 [00:00<00:35, 56.72 step/s, accuracy=1.00, loss=0.00, step=1550012]"
          ]
        },
        {
          "name": "stdout",
          "output_type": "stream",
          "text": [
            "Step 1550000, best model saved. (accuracy=0.9110)\n"
          ]
        },
        {
          "name": "stderr",
          "output_type": "stream",
          "text": [
            "Train: 100% 2000/2000 [00:34<00:00, 58.81 step/s, accuracy=1.00, loss=0.01, step=1552000]\n",
            "Valid: 100% 8480/8500 [00:01<00:00, 5766.70 uttr/s, accuracy=0.91, loss=0.54]\n",
            "Train: 100% 2000/2000 [00:33<00:00, 59.38 step/s, accuracy=0.97, loss=0.03, step=1554000]\n",
            "Valid: 100% 8480/8500 [00:01<00:00, 5736.03 uttr/s, accuracy=0.91, loss=0.50]\n",
            "Train: 100% 2000/2000 [00:33<00:00, 59.36 step/s, accuracy=1.00, loss=0.02, step=1556000]\n",
            "Valid: 100% 8480/8500 [00:01<00:00, 5764.80 uttr/s, accuracy=0.91, loss=0.51]\n",
            "Train: 100% 2000/2000 [00:33<00:00, 59.01 step/s, accuracy=1.00, loss=0.01, step=1558000]\n",
            "Valid: 100% 8480/8500 [00:01<00:00, 5751.03 uttr/s, accuracy=0.91, loss=0.51]\n",
            "Train: 100% 2000/2000 [00:33<00:00, 59.33 step/s, accuracy=1.00, loss=0.01, step=1560000]\n",
            "Valid: 100% 8480/8500 [00:01<00:00, 5746.25 uttr/s, accuracy=0.91, loss=0.52]\n",
            "Train:   0% 0/2000 [00:00<?, ? step/s]\n",
            "\n",
            "                                                                                        \n",
            "Train:   1% 12/2000 [00:00<00:35, 56.26 step/s, accuracy=1.00, loss=0.04, step=1560012]"
          ]
        },
        {
          "name": "stdout",
          "output_type": "stream",
          "text": [
            "Step 1560000, best model saved. (accuracy=0.9110)\n"
          ]
        },
        {
          "name": "stderr",
          "output_type": "stream",
          "text": [
            "Train: 100% 2000/2000 [00:33<00:00, 59.36 step/s, accuracy=1.00, loss=0.00, step=1562000]\n",
            "Valid: 100% 8480/8500 [00:01<00:00, 5787.50 uttr/s, accuracy=0.91, loss=0.52]\n",
            "Train: 100% 2000/2000 [00:33<00:00, 58.96 step/s, accuracy=1.00, loss=0.01, step=1564000]\n",
            "Valid: 100% 8480/8500 [00:01<00:00, 5736.79 uttr/s, accuracy=0.91, loss=0.50]\n",
            "Train: 100% 2000/2000 [00:33<00:00, 59.42 step/s, accuracy=1.00, loss=0.01, step=1566000]\n",
            "Valid: 100% 8480/8500 [00:01<00:00, 5762.18 uttr/s, accuracy=0.91, loss=0.51]\n",
            "Train: 100% 2000/2000 [00:33<00:00, 59.35 step/s, accuracy=1.00, loss=0.01, step=1568000]\n",
            "Valid: 100% 8480/8500 [00:01<00:00, 5678.24 uttr/s, accuracy=0.91, loss=0.50]\n",
            "Train: 100% 2000/2000 [00:33<00:00, 58.94 step/s, accuracy=1.00, loss=0.03, step=1570000]\n",
            "Valid: 100% 8480/8500 [00:01<00:00, 5770.73 uttr/s, accuracy=0.91, loss=0.52]\n",
            "Train:   0% 0/2000 [00:00<?, ? step/s]\n",
            "\n",
            "                                                                                        \n",
            "Train:   1% 12/2000 [00:00<00:34, 57.88 step/s, accuracy=0.94, loss=0.08, step=1570011]"
          ]
        },
        {
          "name": "stdout",
          "output_type": "stream",
          "text": [
            "Step 1570000, best model saved. (accuracy=0.9110)\n"
          ]
        },
        {
          "name": "stderr",
          "output_type": "stream",
          "text": [
            "Train: 100% 2000/2000 [00:33<00:00, 59.29 step/s, accuracy=1.00, loss=0.02, step=1572000]\n",
            "Valid: 100% 8480/8500 [00:01<00:00, 5775.55 uttr/s, accuracy=0.91, loss=0.50]\n",
            "Train: 100% 2000/2000 [00:33<00:00, 59.28 step/s, accuracy=1.00, loss=0.01, step=1574000]\n",
            "Valid: 100% 8480/8500 [00:01<00:00, 5781.89 uttr/s, accuracy=0.91, loss=0.51]\n",
            "Train: 100% 2000/2000 [00:33<00:00, 58.97 step/s, accuracy=1.00, loss=0.00, step=1576000]\n",
            "Valid: 100% 8480/8500 [00:01<00:00, 5708.76 uttr/s, accuracy=0.91, loss=0.52]\n",
            "Train: 100% 2000/2000 [00:33<00:00, 59.35 step/s, accuracy=1.00, loss=0.00, step=1578000]\n",
            "Valid: 100% 8480/8500 [00:01<00:00, 5828.57 uttr/s, accuracy=0.90, loss=0.54]\n",
            "Train: 100% 2000/2000 [00:33<00:00, 59.38 step/s, accuracy=1.00, loss=0.01, step=1580000]\n",
            "Valid: 100% 8480/8500 [00:01<00:00, 5743.84 uttr/s, accuracy=0.91, loss=0.49]\n",
            "Train:   0% 0/2000 [00:00<?, ? step/s]\n",
            "\n",
            "                                                                                        \n",
            "Train:   1% 11/2000 [00:00<00:36, 54.66 step/s, accuracy=1.00, loss=0.00, step=1580011]"
          ]
        },
        {
          "name": "stdout",
          "output_type": "stream",
          "text": [
            "Step 1580000, best model saved. (accuracy=0.9116)\n"
          ]
        },
        {
          "name": "stderr",
          "output_type": "stream",
          "text": [
            "Train: 100% 2000/2000 [00:33<00:00, 58.95 step/s, accuracy=0.97, loss=0.03, step=1582000]\n",
            "Valid: 100% 8480/8500 [00:01<00:00, 5690.39 uttr/s, accuracy=0.91, loss=0.51]\n",
            "Train: 100% 2000/2000 [00:33<00:00, 59.39 step/s, accuracy=1.00, loss=0.00, step=1584000]\n",
            "Valid: 100% 8480/8500 [00:01<00:00, 5672.29 uttr/s, accuracy=0.92, loss=0.48]\n",
            "Train: 100% 2000/2000 [00:33<00:00, 59.34 step/s, accuracy=1.00, loss=0.00, step=1586000]\n",
            "Valid: 100% 8480/8500 [00:01<00:00, 5748.46 uttr/s, accuracy=0.91, loss=0.50]\n",
            "Train: 100% 2000/2000 [00:33<00:00, 58.98 step/s, accuracy=1.00, loss=0.01, step=1588000]\n",
            "Valid: 100% 8480/8500 [00:01<00:00, 5743.24 uttr/s, accuracy=0.91, loss=0.51]\n",
            "Train: 100% 2000/2000 [00:33<00:00, 59.36 step/s, accuracy=0.97, loss=0.04, step=1590000]\n",
            "Valid: 100% 8480/8500 [00:01<00:00, 5727.90 uttr/s, accuracy=0.91, loss=0.51]\n",
            "Train:   0% 0/2000 [00:00<?, ? step/s]\n",
            "\n",
            "                                                                                        \n",
            "Train:   1% 11/2000 [00:00<00:36, 54.61 step/s, accuracy=1.00, loss=0.01, step=1590011]"
          ]
        },
        {
          "name": "stdout",
          "output_type": "stream",
          "text": [
            "Step 1590000, best model saved. (accuracy=0.9151)\n"
          ]
        },
        {
          "name": "stderr",
          "output_type": "stream",
          "text": [
            "Train: 100% 2000/2000 [00:33<00:00, 59.34 step/s, accuracy=1.00, loss=0.00, step=1592000]\n",
            "Valid: 100% 8480/8500 [00:01<00:00, 5794.83 uttr/s, accuracy=0.91, loss=0.51]\n",
            "Train: 100% 2000/2000 [00:33<00:00, 59.00 step/s, accuracy=1.00, loss=0.00, step=1594000]\n",
            "Valid: 100% 8480/8500 [00:01<00:00, 5768.59 uttr/s, accuracy=0.91, loss=0.51]\n",
            "Train: 100% 2000/2000 [00:33<00:00, 59.36 step/s, accuracy=1.00, loss=0.00, step=1.6e+6]\n",
            "Valid: 100% 8480/8500 [00:01<00:00, 5740.08 uttr/s, accuracy=0.91, loss=0.53]\n",
            "Train: 100% 2000/2000 [00:33<00:00, 59.40 step/s, accuracy=1.00, loss=0.01, step=1.6e+6]\n",
            "Valid: 100% 8480/8500 [00:01<00:00, 5772.58 uttr/s, accuracy=0.90, loss=0.52]\n",
            "Train: 100% 2000/2000 [00:33<00:00, 58.95 step/s, accuracy=1.00, loss=0.00, step=1.6e+6]\n",
            "Valid: 100% 8480/8500 [00:01<00:00, 5752.89 uttr/s, accuracy=0.90, loss=0.52]\n",
            "Train:   0% 0/2000 [00:00<?, ? step/s]\n",
            "\n",
            "                                                                                        \n",
            "Train:   1% 11/2000 [00:00<00:38, 52.21 step/s, accuracy=1.00, loss=0.01, step=1.6e+6]"
          ]
        },
        {
          "name": "stdout",
          "output_type": "stream",
          "text": [
            "Step 1600000, best model saved. (accuracy=0.9151)\n"
          ]
        },
        {
          "name": "stderr",
          "output_type": "stream",
          "text": [
            "Train: 100% 2000/2000 [00:33<00:00, 59.30 step/s, accuracy=1.00, loss=0.00, step=1.6e+6]\n",
            "Valid: 100% 8480/8500 [00:01<00:00, 5673.71 uttr/s, accuracy=0.91, loss=0.49]\n",
            "Train: 100% 2000/2000 [00:33<00:00, 59.22 step/s, accuracy=1.00, loss=0.01, step=1.6e+6]\n",
            "Valid: 100% 8480/8500 [00:01<00:00, 5822.75 uttr/s, accuracy=0.91, loss=0.50]\n",
            "Train: 100% 2000/2000 [00:33<00:00, 58.89 step/s, accuracy=1.00, loss=0.02, step=1606000]\n",
            "Valid: 100% 8480/8500 [00:01<00:00, 5742.74 uttr/s, accuracy=0.91, loss=0.50]\n",
            "Train: 100% 2000/2000 [00:33<00:00, 59.36 step/s, accuracy=1.00, loss=0.00, step=1608000]\n",
            "Valid: 100% 8480/8500 [00:01<00:00, 5685.33 uttr/s, accuracy=0.91, loss=0.47]\n",
            "Train: 100% 2000/2000 [00:33<00:00, 59.38 step/s, accuracy=1.00, loss=0.01, step=1610000]\n",
            "Valid: 100% 8480/8500 [00:01<00:00, 5752.04 uttr/s, accuracy=0.91, loss=0.52]\n",
            "Train:   0% 0/2000 [00:00<?, ? step/s]\n",
            "\n",
            "                                                                                        \n",
            "Train:   1% 11/2000 [00:00<00:36, 55.25 step/s, accuracy=0.97, loss=0.04, step=1610011]"
          ]
        },
        {
          "name": "stdout",
          "output_type": "stream",
          "text": [
            "Step 1610000, best model saved. (accuracy=0.9151)\n"
          ]
        },
        {
          "name": "stderr",
          "output_type": "stream",
          "text": [
            "Train: 100% 2000/2000 [00:33<00:00, 58.99 step/s, accuracy=1.00, loss=0.01, step=1612000]\n",
            "Valid: 100% 8480/8500 [00:01<00:00, 5714.63 uttr/s, accuracy=0.91, loss=0.53]\n",
            "Train: 100% 2000/2000 [00:33<00:00, 59.37 step/s, accuracy=0.97, loss=0.04, step=1614000]\n",
            "Valid: 100% 8480/8500 [00:01<00:00, 5755.69 uttr/s, accuracy=0.91, loss=0.50]\n",
            "Train: 100% 2000/2000 [00:33<00:00, 59.30 step/s, accuracy=1.00, loss=0.01, step=1616000]\n",
            "Valid: 100% 8480/8500 [00:01<00:00, 5786.13 uttr/s, accuracy=0.91, loss=0.49]\n",
            "Train: 100% 2000/2000 [00:33<00:00, 58.97 step/s, accuracy=1.00, loss=0.01, step=1618000]\n",
            "Valid: 100% 8480/8500 [00:01<00:00, 5725.28 uttr/s, accuracy=0.91, loss=0.50]\n",
            "Train: 100% 2000/2000 [00:33<00:00, 59.34 step/s, accuracy=1.00, loss=0.02, step=1620000]\n",
            "Valid: 100% 8480/8500 [00:01<00:00, 5809.76 uttr/s, accuracy=0.91, loss=0.50]\n",
            "Train:   0% 0/2000 [00:00<?, ? step/s]\n",
            "\n",
            "                                                                                        \n",
            "Train:   1% 12/2000 [00:00<00:35, 56.37 step/s, accuracy=1.00, loss=0.03, step=1620012]"
          ]
        },
        {
          "name": "stdout",
          "output_type": "stream",
          "text": [
            "Step 1620000, best model saved. (accuracy=0.9151)\n"
          ]
        },
        {
          "name": "stderr",
          "output_type": "stream",
          "text": [
            "Train: 100% 2000/2000 [00:33<00:00, 59.36 step/s, accuracy=1.00, loss=0.02, step=1622000]\n",
            "Valid: 100% 8480/8500 [00:01<00:00, 5696.18 uttr/s, accuracy=0.91, loss=0.50]\n",
            "Train: 100% 2000/2000 [00:33<00:00, 58.96 step/s, accuracy=1.00, loss=0.00, step=1624000]\n",
            "Valid: 100% 8480/8500 [00:01<00:00, 5647.15 uttr/s, accuracy=0.91, loss=0.50]\n",
            "Train: 100% 2000/2000 [00:33<00:00, 59.35 step/s, accuracy=1.00, loss=0.00, step=1626000]\n",
            "Valid: 100% 8480/8500 [00:01<00:00, 5812.04 uttr/s, accuracy=0.91, loss=0.50]\n",
            "Train: 100% 2000/2000 [00:33<00:00, 59.32 step/s, accuracy=1.00, loss=0.00, step=1628000]\n",
            "Valid: 100% 8480/8500 [00:01<00:00, 5711.07 uttr/s, accuracy=0.91, loss=0.50]\n",
            "Train: 100% 2000/2000 [00:33<00:00, 59.01 step/s, accuracy=1.00, loss=0.00, step=1630000]\n",
            "Valid: 100% 8480/8500 [00:01<00:00, 5766.24 uttr/s, accuracy=0.91, loss=0.48]\n",
            "Train:   0% 0/2000 [00:00<?, ? step/s]\n",
            "\n",
            "                                                                                        \n",
            "Train:   1% 12/2000 [00:00<00:34, 57.83 step/s, accuracy=1.00, loss=0.00, step=1630011]"
          ]
        },
        {
          "name": "stdout",
          "output_type": "stream",
          "text": [
            "Step 1630000, best model saved. (accuracy=0.9151)\n"
          ]
        },
        {
          "name": "stderr",
          "output_type": "stream",
          "text": [
            "Train: 100% 2000/2000 [00:33<00:00, 59.33 step/s, accuracy=0.97, loss=0.06, step=1632000]\n",
            "Valid: 100% 8480/8500 [00:01<00:00, 5813.78 uttr/s, accuracy=0.91, loss=0.50]\n",
            "Train: 100% 2000/2000 [00:33<00:00, 59.40 step/s, accuracy=1.00, loss=0.00, step=1634000]\n",
            "Valid: 100% 8480/8500 [00:01<00:00, 5723.85 uttr/s, accuracy=0.91, loss=0.51]\n",
            "Train: 100% 2000/2000 [00:33<00:00, 59.03 step/s, accuracy=1.00, loss=0.00, step=1636000]\n",
            "Valid: 100% 8480/8500 [00:01<00:00, 5706.86 uttr/s, accuracy=0.91, loss=0.47]\n",
            "Train: 100% 2000/2000 [00:33<00:00, 59.31 step/s, accuracy=1.00, loss=0.00, step=1638000]\n",
            "Valid: 100% 8480/8500 [00:01<00:00, 5739.04 uttr/s, accuracy=0.91, loss=0.49]\n",
            "Train: 100% 2000/2000 [00:33<00:00, 59.34 step/s, accuracy=1.00, loss=0.01, step=1640000]\n",
            "Valid: 100% 8480/8500 [00:01<00:00, 5636.06 uttr/s, accuracy=0.91, loss=0.51]\n",
            "Train:   0% 0/2000 [00:00<?, ? step/s]\n",
            "\n",
            "                                                                                        \n",
            "Train:   1% 11/2000 [00:00<00:35, 55.33 step/s, accuracy=1.00, loss=0.01, step=1640011]"
          ]
        },
        {
          "name": "stdout",
          "output_type": "stream",
          "text": [
            "Step 1640000, best model saved. (accuracy=0.9151)\n"
          ]
        },
        {
          "name": "stderr",
          "output_type": "stream",
          "text": [
            "Train: 100% 2000/2000 [00:33<00:00, 59.00 step/s, accuracy=0.97, loss=0.05, step=1642000]\n",
            "Valid: 100% 8480/8500 [00:01<00:00, 5664.33 uttr/s, accuracy=0.92, loss=0.49]\n",
            "Train: 100% 2000/2000 [00:33<00:00, 59.37 step/s, accuracy=1.00, loss=0.01, step=1644000]\n",
            "Valid: 100% 8480/8500 [00:01<00:00, 5718.53 uttr/s, accuracy=0.91, loss=0.49]\n",
            "Train: 100% 2000/2000 [00:33<00:00, 59.40 step/s, accuracy=1.00, loss=0.00, step=1646000]\n",
            "Valid: 100% 8480/8500 [00:01<00:00, 5771.66 uttr/s, accuracy=0.91, loss=0.49]\n",
            "Train: 100% 2000/2000 [00:33<00:00, 59.01 step/s, accuracy=1.00, loss=0.01, step=1648000]\n",
            "Valid: 100% 8480/8500 [00:01<00:00, 5787.73 uttr/s, accuracy=0.91, loss=0.51]\n",
            "Train: 100% 2000/2000 [00:33<00:00, 59.34 step/s, accuracy=1.00, loss=0.01, step=1650000]\n",
            "Valid: 100% 8480/8500 [00:01<00:00, 5765.20 uttr/s, accuracy=0.91, loss=0.51]\n",
            "Train:   0% 0/2000 [00:00<?, ? step/s]\n",
            "\n",
            "                                                                                        \n",
            "Train:   1% 11/2000 [00:00<00:35, 55.69 step/s, accuracy=1.00, loss=0.00, step=1650011]"
          ]
        },
        {
          "name": "stdout",
          "output_type": "stream",
          "text": [
            "Step 1650000, best model saved. (accuracy=0.9154)\n"
          ]
        },
        {
          "name": "stderr",
          "output_type": "stream",
          "text": [
            "Train: 100% 2000/2000 [00:33<00:00, 59.35 step/s, accuracy=1.00, loss=0.01, step=1652000]\n",
            "Valid: 100% 8480/8500 [00:01<00:00, 5742.68 uttr/s, accuracy=0.91, loss=0.50]\n",
            "Train: 100% 2000/2000 [00:33<00:00, 58.95 step/s, accuracy=1.00, loss=0.00, step=1654000]\n",
            "Valid: 100% 8480/8500 [00:01<00:00, 5667.79 uttr/s, accuracy=0.91, loss=0.49]\n",
            "Train: 100% 2000/2000 [00:33<00:00, 59.28 step/s, accuracy=1.00, loss=0.01, step=1656000]\n",
            "Valid: 100% 8480/8500 [00:01<00:00, 5409.32 uttr/s, accuracy=0.91, loss=0.50]\n",
            "Train: 100% 2000/2000 [00:33<00:00, 59.20 step/s, accuracy=1.00, loss=0.00, step=1658000]\n",
            "Valid: 100% 8480/8500 [00:01<00:00, 5813.06 uttr/s, accuracy=0.91, loss=0.49]\n",
            "Train: 100% 2000/2000 [00:33<00:00, 59.35 step/s, accuracy=0.97, loss=0.03, step=1660000]\n",
            "Valid: 100% 8480/8500 [00:01<00:00, 5795.90 uttr/s, accuracy=0.91, loss=0.49]\n",
            "Train:   0% 0/2000 [00:00<?, ? step/s]\n",
            "\n",
            "                                                                                        \n",
            "Train:   1% 12/2000 [00:00<00:34, 57.02 step/s, accuracy=1.00, loss=0.01, step=1660012]"
          ]
        },
        {
          "name": "stdout",
          "output_type": "stream",
          "text": [
            "Step 1660000, best model saved. (accuracy=0.9154)\n"
          ]
        },
        {
          "name": "stderr",
          "output_type": "stream",
          "text": [
            "Train: 100% 2000/2000 [00:33<00:00, 58.94 step/s, accuracy=1.00, loss=0.01, step=1662000]\n",
            "Valid: 100% 8480/8500 [00:01<00:00, 5715.27 uttr/s, accuracy=0.90, loss=0.50]\n",
            "Train: 100% 2000/2000 [00:33<00:00, 59.40 step/s, accuracy=1.00, loss=0.02, step=1664000]\n",
            "Valid: 100% 8480/8500 [00:01<00:00, 5710.93 uttr/s, accuracy=0.91, loss=0.52]\n",
            "Train: 100% 2000/2000 [00:33<00:00, 59.41 step/s, accuracy=1.00, loss=0.00, step=1666000]\n",
            "Valid: 100% 8480/8500 [00:01<00:00, 5712.16 uttr/s, accuracy=0.91, loss=0.48]\n",
            "Train: 100% 2000/2000 [00:33<00:00, 59.03 step/s, accuracy=0.97, loss=0.03, step=1668000]\n",
            "Valid: 100% 8480/8500 [00:01<00:00, 5670.20 uttr/s, accuracy=0.91, loss=0.50]\n",
            "Train: 100% 2000/2000 [00:33<00:00, 59.40 step/s, accuracy=1.00, loss=0.02, step=1670000]\n",
            "Valid: 100% 8480/8500 [00:01<00:00, 5785.50 uttr/s, accuracy=0.91, loss=0.48]\n",
            "Train:   0% 0/2000 [00:00<?, ? step/s]\n",
            "\n",
            "                                                                                        \n",
            "Train:   1% 11/2000 [00:00<00:35, 55.93 step/s, accuracy=1.00, loss=0.01, step=1670011]"
          ]
        },
        {
          "name": "stdout",
          "output_type": "stream",
          "text": [
            "Step 1670000, best model saved. (accuracy=0.9154)\n"
          ]
        },
        {
          "name": "stderr",
          "output_type": "stream",
          "text": [
            "Train: 100% 2000/2000 [00:33<00:00, 59.37 step/s, accuracy=1.00, loss=0.00, step=1672000]\n",
            "Valid: 100% 8480/8500 [00:01<00:00, 5783.19 uttr/s, accuracy=0.91, loss=0.50]\n",
            "Train: 100% 2000/2000 [00:33<00:00, 59.02 step/s, accuracy=1.00, loss=0.02, step=1674000]\n",
            "Valid: 100% 8480/8500 [00:01<00:00, 5753.15 uttr/s, accuracy=0.91, loss=0.50]\n",
            "Train: 100% 2000/2000 [00:33<00:00, 59.36 step/s, accuracy=1.00, loss=0.00, step=1676000]\n",
            "Valid: 100% 8480/8500 [00:01<00:00, 5736.63 uttr/s, accuracy=0.91, loss=0.49]\n",
            "Train: 100% 2000/2000 [00:33<00:00, 59.39 step/s, accuracy=1.00, loss=0.00, step=1678000]\n",
            "Valid: 100% 8480/8500 [00:01<00:00, 5742.30 uttr/s, accuracy=0.91, loss=0.49]\n",
            "Train: 100% 2000/2000 [00:33<00:00, 58.98 step/s, accuracy=1.00, loss=0.00, step=1680000]\n",
            "Valid: 100% 8480/8500 [00:01<00:00, 5731.51 uttr/s, accuracy=0.91, loss=0.49]\n",
            "Train:   0% 0/2000 [00:00<?, ? step/s]\n",
            "\n",
            "                                                                                        \n",
            "Train:   1% 12/2000 [00:00<00:33, 58.51 step/s, accuracy=1.00, loss=0.00, step=1680012]"
          ]
        },
        {
          "name": "stdout",
          "output_type": "stream",
          "text": [
            "Step 1680000, best model saved. (accuracy=0.9154)\n"
          ]
        },
        {
          "name": "stderr",
          "output_type": "stream",
          "text": [
            "Train: 100% 2000/2000 [00:33<00:00, 59.34 step/s, accuracy=1.00, loss=0.00, step=1682000]\n",
            "Valid: 100% 8480/8500 [00:01<00:00, 5780.44 uttr/s, accuracy=0.91, loss=0.48]\n",
            "Train: 100% 2000/2000 [00:33<00:00, 59.35 step/s, accuracy=1.00, loss=0.00, step=1684000]\n",
            "Valid: 100% 8480/8500 [00:01<00:00, 5803.35 uttr/s, accuracy=0.91, loss=0.49]\n",
            "Train: 100% 2000/2000 [00:33<00:00, 58.96 step/s, accuracy=1.00, loss=0.00, step=1686000]\n",
            "Valid: 100% 8480/8500 [00:01<00:00, 5809.36 uttr/s, accuracy=0.91, loss=0.49]\n",
            "Train: 100% 2000/2000 [00:33<00:00, 59.44 step/s, accuracy=1.00, loss=0.00, step=1688000]\n",
            "Valid: 100% 8480/8500 [00:01<00:00, 5690.90 uttr/s, accuracy=0.91, loss=0.51]\n",
            "Train: 100% 2000/2000 [00:33<00:00, 59.39 step/s, accuracy=0.97, loss=0.04, step=1690000]\n",
            "Valid: 100% 8480/8500 [00:01<00:00, 5741.10 uttr/s, accuracy=0.91, loss=0.49]\n",
            "Train:   0% 0/2000 [00:00<?, ? step/s]\n",
            "\n",
            "                                                                                        \n",
            "Train:   1% 11/2000 [00:00<00:37, 53.42 step/s, accuracy=1.00, loss=0.01, step=1690011]"
          ]
        },
        {
          "name": "stdout",
          "output_type": "stream",
          "text": [
            "Step 1690000, best model saved. (accuracy=0.9154)\n"
          ]
        },
        {
          "name": "stderr",
          "output_type": "stream",
          "text": [
            "Train: 100% 2000/2000 [00:33<00:00, 58.92 step/s, accuracy=1.00, loss=0.00, step=1692000]\n",
            "Valid: 100% 8480/8500 [00:01<00:00, 5784.26 uttr/s, accuracy=0.92, loss=0.48]\n",
            "Train: 100% 2000/2000 [00:33<00:00, 59.35 step/s, accuracy=1.00, loss=0.01, step=1694000]\n",
            "Valid: 100% 8480/8500 [00:01<00:00, 5706.45 uttr/s, accuracy=0.91, loss=0.49]\n",
            "Train: 100% 2000/2000 [00:33<00:00, 59.41 step/s, accuracy=1.00, loss=0.00, step=1.7e+6]\n",
            "Valid: 100% 8480/8500 [00:01<00:00, 5710.18 uttr/s, accuracy=0.91, loss=0.48]\n",
            "Train: 100% 2000/2000 [00:33<00:00, 58.97 step/s, accuracy=1.00, loss=0.02, step=1.7e+6]\n",
            "Valid: 100% 8480/8500 [00:01<00:00, 5801.47 uttr/s, accuracy=0.91, loss=0.49]\n",
            "Train: 100% 2000/2000 [00:33<00:00, 59.39 step/s, accuracy=1.00, loss=0.01, step=1.7e+6]\n",
            "Valid: 100% 8480/8500 [00:01<00:00, 5815.64 uttr/s, accuracy=0.91, loss=0.48]\n",
            "Train:   0% 0/2000 [00:00<?, ? step/s]\n",
            "\n",
            "                                                                                        \n",
            "Train:   1% 11/2000 [00:00<00:35, 56.08 step/s, accuracy=1.00, loss=0.00, step=1.7e+6]"
          ]
        },
        {
          "name": "stdout",
          "output_type": "stream",
          "text": [
            "Step 1700000, best model saved. (accuracy=0.9154)\n"
          ]
        },
        {
          "name": "stderr",
          "output_type": "stream",
          "text": [
            "Train: 100% 2000/2000 [00:33<00:00, 59.27 step/s, accuracy=1.00, loss=0.01, step=1.7e+6]\n",
            "Valid: 100% 8480/8500 [00:01<00:00, 5778.26 uttr/s, accuracy=0.91, loss=0.48]\n",
            "Train: 100% 2000/2000 [00:33<00:00, 59.02 step/s, accuracy=1.00, loss=0.01, step=1.7e+6]\n",
            "Valid: 100% 8480/8500 [00:01<00:00, 5675.27 uttr/s, accuracy=0.91, loss=0.49]\n",
            "Train: 100% 2000/2000 [00:33<00:00, 59.36 step/s, accuracy=1.00, loss=0.00, step=1706000]\n",
            "Valid: 100% 8480/8500 [00:01<00:00, 5701.84 uttr/s, accuracy=0.91, loss=0.52]\n",
            "Train: 100% 2000/2000 [00:33<00:00, 59.41 step/s, accuracy=1.00, loss=0.01, step=1708000]\n",
            "Valid: 100% 8480/8500 [00:01<00:00, 5752.08 uttr/s, accuracy=0.91, loss=0.50]\n",
            "Train: 100% 2000/2000 [00:33<00:00, 58.84 step/s, accuracy=1.00, loss=0.01, step=1710000]\n",
            "Valid: 100% 8480/8500 [00:01<00:00, 5742.71 uttr/s, accuracy=0.91, loss=0.50]\n",
            "Train:   0% 0/2000 [00:00<?, ? step/s]\n",
            "\n",
            "                                                                                        \n",
            "Train:   1% 12/2000 [00:00<00:35, 55.72 step/s, accuracy=1.00, loss=0.00, step=1710012]"
          ]
        },
        {
          "name": "stdout",
          "output_type": "stream",
          "text": [
            "Step 1710000, best model saved. (accuracy=0.9154)\n"
          ]
        },
        {
          "name": "stderr",
          "output_type": "stream",
          "text": [
            "Train: 100% 2000/2000 [00:33<00:00, 59.36 step/s, accuracy=0.97, loss=0.03, step=1712000]\n",
            "Valid: 100% 8480/8500 [00:01<00:00, 5829.84 uttr/s, accuracy=0.91, loss=0.48]\n",
            "Train: 100% 2000/2000 [00:33<00:00, 59.35 step/s, accuracy=0.94, loss=0.06, step=1714000]\n",
            "Valid: 100% 8480/8500 [00:01<00:00, 5769.86 uttr/s, accuracy=0.91, loss=0.48]\n",
            "Train: 100% 2000/2000 [00:33<00:00, 59.02 step/s, accuracy=1.00, loss=0.00, step=1716000]\n",
            "Valid: 100% 8480/8500 [00:01<00:00, 5674.73 uttr/s, accuracy=0.91, loss=0.48]\n",
            "Train: 100% 2000/2000 [00:33<00:00, 59.39 step/s, accuracy=1.00, loss=0.01, step=1718000]\n",
            "Valid: 100% 8480/8500 [00:01<00:00, 5709.05 uttr/s, accuracy=0.91, loss=0.51]\n",
            "Train: 100% 2000/2000 [00:33<00:00, 59.39 step/s, accuracy=1.00, loss=0.00, step=1720000]\n",
            "Valid: 100% 8480/8500 [00:01<00:00, 5731.74 uttr/s, accuracy=0.91, loss=0.50]\n",
            "Train:   0% 0/2000 [00:00<?, ? step/s]\n",
            "\n",
            "                                                                                        \n",
            "Train:   1% 12/2000 [00:00<00:34, 56.86 step/s, accuracy=1.00, loss=0.00, step=1720012]"
          ]
        },
        {
          "name": "stdout",
          "output_type": "stream",
          "text": [
            "Step 1720000, best model saved. (accuracy=0.9154)\n"
          ]
        },
        {
          "name": "stderr",
          "output_type": "stream",
          "text": [
            "Train: 100% 2000/2000 [00:33<00:00, 59.05 step/s, accuracy=1.00, loss=0.00, step=1722000]\n",
            "Valid: 100% 8480/8500 [00:01<00:00, 5616.69 uttr/s, accuracy=0.91, loss=0.47]\n",
            "Train: 100% 2000/2000 [00:33<00:00, 59.30 step/s, accuracy=1.00, loss=0.00, step=1724000]\n",
            "Valid: 100% 8480/8500 [00:01<00:00, 5748.63 uttr/s, accuracy=0.91, loss=0.49]\n",
            "Train: 100% 2000/2000 [00:33<00:00, 59.36 step/s, accuracy=1.00, loss=0.00, step=1726000]\n",
            "Valid: 100% 8480/8500 [00:01<00:00, 5809.84 uttr/s, accuracy=0.91, loss=0.49]\n",
            "Train: 100% 2000/2000 [00:33<00:00, 58.98 step/s, accuracy=1.00, loss=0.02, step=1728000]\n",
            "Valid: 100% 8480/8500 [00:01<00:00, 5836.49 uttr/s, accuracy=0.91, loss=0.52]\n",
            "Train: 100% 2000/2000 [00:33<00:00, 59.32 step/s, accuracy=1.00, loss=0.00, step=1730000]\n",
            "Valid: 100% 8480/8500 [00:01<00:00, 5663.43 uttr/s, accuracy=0.91, loss=0.49]\n",
            "Train:   0% 0/2000 [00:00<?, ? step/s]\n",
            "\n",
            "                                                                                        \n",
            "Train:   1% 11/2000 [00:00<00:35, 55.92 step/s, accuracy=1.00, loss=0.02, step=1730011]"
          ]
        },
        {
          "name": "stdout",
          "output_type": "stream",
          "text": [
            "Step 1730000, best model saved. (accuracy=0.9154)\n"
          ]
        },
        {
          "name": "stderr",
          "output_type": "stream",
          "text": [
            "Train: 100% 2000/2000 [00:33<00:00, 59.33 step/s, accuracy=1.00, loss=0.01, step=1732000]\n",
            "Valid: 100% 8480/8500 [00:01<00:00, 5671.33 uttr/s, accuracy=0.91, loss=0.50]\n",
            "Train: 100% 2000/2000 [00:33<00:00, 59.09 step/s, accuracy=1.00, loss=0.01, step=1734000]\n",
            "Valid: 100% 8480/8500 [00:01<00:00, 5743.53 uttr/s, accuracy=0.91, loss=0.49]\n",
            "Train: 100% 2000/2000 [00:33<00:00, 59.42 step/s, accuracy=1.00, loss=0.01, step=1736000]\n",
            "Valid: 100% 8480/8500 [00:01<00:00, 5767.32 uttr/s, accuracy=0.91, loss=0.50]\n",
            "Train: 100% 2000/2000 [00:33<00:00, 59.38 step/s, accuracy=1.00, loss=0.01, step=1738000]\n",
            "Valid: 100% 8480/8500 [00:01<00:00, 5731.55 uttr/s, accuracy=0.91, loss=0.50]\n",
            "Train: 100% 2000/2000 [00:33<00:00, 58.99 step/s, accuracy=1.00, loss=0.01, step=1740000]\n",
            "Valid: 100% 8480/8500 [00:01<00:00, 5868.44 uttr/s, accuracy=0.91, loss=0.49]\n",
            "Train:   0% 0/2000 [00:00<?, ? step/s]\n",
            "\n",
            "                                                                                        \n",
            "Train:   1% 11/2000 [00:00<00:36, 54.11 step/s, accuracy=1.00, loss=0.00, step=1740011]"
          ]
        },
        {
          "name": "stdout",
          "output_type": "stream",
          "text": [
            "Step 1740000, best model saved. (accuracy=0.9154)\n"
          ]
        },
        {
          "name": "stderr",
          "output_type": "stream",
          "text": [
            "Train: 100% 2000/2000 [00:33<00:00, 59.34 step/s, accuracy=1.00, loss=0.00, step=1742000]\n",
            "Valid: 100% 8480/8500 [00:01<00:00, 5773.54 uttr/s, accuracy=0.91, loss=0.50]\n",
            "Train: 100% 2000/2000 [00:33<00:00, 59.38 step/s, accuracy=1.00, loss=0.01, step=1744000]\n",
            "Valid: 100% 8480/8500 [00:01<00:00, 5725.77 uttr/s, accuracy=0.91, loss=0.51]\n",
            "Train: 100% 2000/2000 [00:33<00:00, 59.08 step/s, accuracy=1.00, loss=0.00, step=1746000]\n",
            "Valid: 100% 8480/8500 [00:01<00:00, 5725.56 uttr/s, accuracy=0.91, loss=0.50]\n",
            "Train: 100% 2000/2000 [00:33<00:00, 59.37 step/s, accuracy=1.00, loss=0.01, step=1748000]\n",
            "Valid: 100% 8480/8500 [00:01<00:00, 5650.38 uttr/s, accuracy=0.91, loss=0.50]\n",
            "Train: 100% 2000/2000 [00:33<00:00, 59.34 step/s, accuracy=1.00, loss=0.00, step=1750000]\n",
            "Valid: 100% 8480/8500 [00:01<00:00, 5769.57 uttr/s, accuracy=0.91, loss=0.48]\n",
            "Train:   0% 0/2000 [00:00<?, ? step/s]\n",
            "\n",
            "                                                                                        \n",
            "Train:   0% 0/2000 [00:00<?, ? step/s]\n"
          ]
        },
        {
          "name": "stdout",
          "output_type": "stream",
          "text": [
            "Step 1750000, best model saved. (accuracy=0.9154)\n"
          ]
        }
      ],
      "source": [
        "from tqdm import tqdm\n",
        "\n",
        "import torch\n",
        "import torch.nn as nn\n",
        "from torch.optim import AdamW\n",
        "from torch.utils.data import DataLoader, random_split\n",
        "\n",
        "\n",
        "def parse_args():\n",
        "\t\"\"\"arguments\"\"\"\n",
        "\tconfig = {\n",
        "\t\t\"data_dir\": data_dir,\n",
        "\t\t\"save_path\": \"model.ckpt\",\n",
        "\t\t\"batch_size\": 32,\n",
        "\t\t\"n_workers\": 8,\n",
        "\t\t\"valid_steps\": 2000,\n",
        "\t\t\"warmup_steps\": 1000,\n",
        "\t\t\"save_steps\": 10000,\n",
        "\t\t\"total_steps\": 1750000,\n",
        "\t}\n",
        "\n",
        "\treturn config\n",
        "\n",
        "\n",
        "def main(\n",
        "\tdata_dir,\n",
        "\tsave_path,\n",
        "\tbatch_size,\n",
        "\tn_workers,\n",
        "\tvalid_steps,\n",
        "\twarmup_steps,\n",
        "\ttotal_steps,\n",
        "\tsave_steps,\n",
        "):\n",
        "\t\"\"\"Main function.\"\"\"\n",
        "\tdevice = torch.device(\"cuda\" if torch.cuda.is_available() else \"cpu\")\n",
        "\tprint(f\"[Info]: Use {device} now!\")\n",
        "\n",
        "\ttrain_loader, valid_loader, speaker_num = get_dataloader(data_dir, batch_size, n_workers)\n",
        "\ttrain_iterator = iter(train_loader)\n",
        "\tprint(f\"[Info]: Finish loading data!\",flush = True)\n",
        "\n",
        "\tmodel = Classifier(n_spks=speaker_num).to(device)\n",
        "\tcriterion = nn.CrossEntropyLoss()\n",
        "\toptimizer = AdamW(model.parameters(), lr=1e-3)\n",
        "\tscheduler = get_cosine_schedule_with_warmup(optimizer, warmup_steps, total_steps)\n",
        "\tprint(f\"[Info]: Finish creating model!\",flush = True)\n",
        "\n",
        "\tbest_accuracy = -1.0\n",
        "\tbest_state_dict = None\n",
        "\n",
        "\tpbar = tqdm(total=valid_steps, ncols=0, desc=\"Train\", unit=\" step\")\n",
        "\n",
        "\tfor step in range(total_steps):\n",
        "\t\t# Get data\n",
        "\t\ttry:\n",
        "\t\t\tbatch = next(train_iterator)\n",
        "\t\texcept StopIteration:\n",
        "\t\t\ttrain_iterator = iter(train_loader)\n",
        "\t\t\tbatch = next(train_iterator)\n",
        "\n",
        "\t\tloss, accuracy = model_fn(batch, model, criterion, device)\n",
        "\t\tbatch_loss = loss.item()\n",
        "\t\tbatch_accuracy = accuracy.item()\n",
        "\n",
        "\t\t# Updata model\n",
        "\t\tloss.backward()\n",
        "\t\toptimizer.step()\n",
        "\t\tscheduler.step()\n",
        "\t\toptimizer.zero_grad()\n",
        "\n",
        "\t\t# Log\n",
        "\t\tpbar.update()\n",
        "\t\tpbar.set_postfix(\n",
        "\t\t\tloss=f\"{batch_loss:.2f}\",\n",
        "\t\t\taccuracy=f\"{batch_accuracy:.2f}\",\n",
        "\t\t\tstep=step + 1,\n",
        "\t\t)\n",
        "\n",
        "\t\t# Do validation\n",
        "\t\tif (step + 1) % valid_steps == 0:\n",
        "\t\t\tpbar.close()\n",
        "\n",
        "\t\t\tvalid_accuracy = valid(valid_loader, model, criterion, device)\n",
        "\n",
        "\t\t\t# keep the best model\n",
        "\t\t\tif valid_accuracy > best_accuracy:\n",
        "\t\t\t\tbest_accuracy = valid_accuracy\n",
        "\t\t\t\tbest_state_dict = model.state_dict()\n",
        "\n",
        "\t\t\tpbar = tqdm(total=valid_steps, ncols=0, desc=\"Train\", unit=\" step\")\n",
        "\n",
        "\t\t# Save the best model so far.\n",
        "\t\tif (step + 1) % save_steps == 0 and best_state_dict is not None:\n",
        "\t\t\ttorch.save(best_state_dict, save_path)\n",
        "\t\t\tpbar.write(f\"Step {step + 1}, best model saved. (accuracy={best_accuracy:.4f})\")\n",
        "\n",
        "\tpbar.close()\n",
        "\n",
        "\n",
        "if __name__ == \"__main__\":\n",
        "\tmain(**parse_args())"
      ]
    },
    {
      "cell_type": "markdown",
      "metadata": {
        "id": "NLatBYAhNNMx"
      },
      "source": [
        "# Inference\n",
        "\n",
        "## Dataset of inference"
      ]
    },
    {
      "cell_type": "code",
      "execution_count": 13,
      "metadata": {
        "colab": {
          "background_save": true
        },
        "id": "efS4pCmAJXJH"
      },
      "outputs": [],
      "source": [
        "import os\n",
        "import json\n",
        "import torch\n",
        "from pathlib import Path\n",
        "from torch.utils.data import Dataset\n",
        "\n",
        "\n",
        "class InferenceDataset(Dataset):\n",
        "\tdef __init__(self, data_dir):\n",
        "\t\ttestdata_path = Path(data_dir) / \"testdata.json\"\n",
        "\t\tmetadata = json.load(testdata_path.open())\n",
        "\t\tself.data_dir = data_dir\n",
        "\t\tself.data = metadata[\"utterances\"]\n",
        "\n",
        "\tdef __len__(self):\n",
        "\t\treturn len(self.data)\n",
        "\n",
        "\tdef __getitem__(self, index):\n",
        "\t\tutterance = self.data[index]\n",
        "\t\tfeat_path = utterance[\"feature_path\"]\n",
        "\t\tmel = torch.load(os.path.join(self.data_dir, feat_path))\n",
        "\n",
        "\t\treturn feat_path, mel\n",
        "\n",
        "\n",
        "def inference_collate_batch(batch):\n",
        "\t\"\"\"Collate a batch of data.\"\"\"\n",
        "\tfeat_paths, mels = zip(*batch)\n",
        "\n",
        "\treturn feat_paths, torch.stack(mels)"
      ]
    },
    {
      "cell_type": "markdown",
      "metadata": {
        "id": "tl0WnYwxNK_S"
      },
      "source": [
        "## Main funcrion of Inference"
      ]
    },
    {
      "cell_type": "code",
      "execution_count": 14,
      "metadata": {
        "colab": {
          "background_save": true
        },
        "id": "i8SAbuXEJb2A"
      },
      "outputs": [
        {
          "name": "stdout",
          "output_type": "stream",
          "text": [
            "[Info]: Use cuda now!\n",
            "[Info]: Finish loading data!\n",
            "[Info]: Finish creating model!\n"
          ]
        },
        {
          "data": {
            "application/vnd.jupyter.widget-view+json": {
              "model_id": "3ac9b044c31b4372ae3db39281b3768e",
              "version_major": 2,
              "version_minor": 0
            },
            "text/plain": [
              "  0%|          | 0/8000 [00:00<?, ?it/s]"
            ]
          },
          "metadata": {},
          "output_type": "display_data"
        },
        {
          "name": "stderr",
          "output_type": "stream",
          "text": [
            "/tmp/ipykernel_296380/1694375095.py:27: UserWarning: Implicit dimension choice for softmax has been deprecated. Change the call to include dim=X as an argument.\n",
            "  att_w = softmax(self.W(batch_rep).squeeze(-1)).unsqueeze(-1)\n"
          ]
        }
      ],
      "source": [
        "import json\n",
        "import csv\n",
        "from pathlib import Path\n",
        "from tqdm.notebook import tqdm\n",
        "\n",
        "import torch\n",
        "from torch.utils.data import DataLoader\n",
        "\n",
        "def parse_args():\n",
        "\t\"\"\"arguments\"\"\"\n",
        "\tconfig = {\n",
        "\t\t\"data_dir\": data_dir,\n",
        "\t\t\"model_path\": \"./model.ckpt\",\n",
        "\t\t\"output_path\": \"./output.csv\",\n",
        "\t}\n",
        "\n",
        "\treturn config\n",
        "\n",
        "\n",
        "def main(\n",
        "\tdata_dir,\n",
        "\tmodel_path,\n",
        "\toutput_path,\n",
        "):\n",
        "\t\"\"\"Main function.\"\"\"\n",
        "\tdevice = torch.device(\"cuda\" if torch.cuda.is_available() else \"cpu\")\n",
        "\tprint(f\"[Info]: Use {device} now!\")\n",
        "\n",
        "\tmapping_path = Path(data_dir) / \"mapping.json\"\n",
        "\tmapping = json.load(mapping_path.open())\n",
        "\n",
        "\tdataset = InferenceDataset(data_dir)\n",
        "\tdataloader = DataLoader(\n",
        "\t\tdataset,\n",
        "\t\tbatch_size=1,\n",
        "\t\tshuffle=False,\n",
        "\t\tdrop_last=False,\n",
        "\t\tnum_workers=8,\n",
        "\t\tcollate_fn=inference_collate_batch,\n",
        "\t)\n",
        "\tprint(f\"[Info]: Finish loading data!\",flush = True)\n",
        "\n",
        "\tspeaker_num = len(mapping[\"id2speaker\"])\n",
        "\tmodel = Classifier(n_spks=speaker_num).to(device)\n",
        "\tmodel.load_state_dict(torch.load(model_path))\n",
        "\tmodel.eval()\n",
        "\tprint(f\"[Info]: Finish creating model!\",flush = True)\n",
        "\n",
        "\tresults = [[\"Id\", \"Category\"]]\n",
        "\tfor feat_paths, mels in tqdm(dataloader):\n",
        "\t\twith torch.no_grad():\n",
        "\t\t\tmels = mels.to(device)\n",
        "\t\t\touts = model(mels)\n",
        "\t\t\tpreds = outs.argmax(1).cpu().numpy()\n",
        "\t\t\tfor feat_path, pred in zip(feat_paths, preds):\n",
        "\t\t\t\tresults.append([feat_path, mapping[\"id2speaker\"][str(pred)]])\n",
        "\n",
        "\twith open(output_path, 'w', newline='') as csvfile:\n",
        "\t\twriter = csv.writer(csvfile)\n",
        "\t\twriter.writerows(results)\n",
        "\n",
        "\n",
        "if __name__ == \"__main__\":\n",
        "\tmain(**parse_args())"
      ]
    }
  ],
  "metadata": {
    "accelerator": "GPU",
    "colab": {
      "collapsed_sections": [],
      "name": "hw04.ipynb",
      "provenance": []
    },
    "kernelspec": {
      "display_name": "Python 3",
      "name": "python3"
    },
    "language_info": {
      "codemirror_mode": {
        "name": "ipython",
        "version": 3
      },
      "file_extension": ".py",
      "mimetype": "text/x-python",
      "name": "python",
      "nbconvert_exporter": "python",
      "pygments_lexer": "ipython3",
      "version": "3.9.7"
    }
  },
  "nbformat": 4,
  "nbformat_minor": 0
}
